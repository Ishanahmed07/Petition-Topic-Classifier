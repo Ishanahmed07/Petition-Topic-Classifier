{
  "nbformat": 4,
  "nbformat_minor": 0,
  "metadata": {
    "colab": {
      "provenance": []
    },
    "kernelspec": {
      "name": "python3",
      "display_name": "Python 3"
    },
    "language_info": {
      "name": "python"
    }
  },
  "cells": [
    {
      "cell_type": "markdown",
      "source": [
        "# **COMP1804 - Task 1**"
      ],
      "metadata": {
        "id": "fonSfm6fAemA"
      }
    },
    {
      "cell_type": "markdown",
      "source": [
        "#**Imports**"
      ],
      "metadata": {
        "id": "Y6ZBLIrsssuW"
      }
    },
    {
      "cell_type": "code",
      "source": [
        "!pip install gdown\n",
        "import gdown\n",
        "import pandas as pd\n",
        "import numpy as np\n",
        "\n",
        "from sklearn.preprocessing import LabelEncoder\n",
        "from nltk.tokenize import word_tokenize\n",
        "from nltk.corpus import stopwords\n",
        "from nltk.stem import WordNetLemmatizer\n",
        "import string\n",
        "import nltk\n",
        "nltk.download('stopwords')\n",
        "nltk.download('punkt_tab')\n",
        "nltk.download('wordnet')\n",
        "stop_words = set(stopwords.words('english'))\n",
        "lemmatizer = WordNetLemmatizer()\n",
        "\n",
        "from sklearn.feature_extraction.text import TfidfVectorizer\n",
        "from sklearn.model_selection import train_test_split\n",
        "from scipy.sparse import hstack\n",
        "from sklearn.svm import LinearSVC\n",
        "from sklearn.metrics import classification_report, accuracy_score\n",
        "from sklearn.model_selection import GridSearchCV\n",
        "from sklearn.metrics import confusion_matrix"
      ],
      "metadata": {
        "colab": {
          "base_uri": "https://localhost:8080/"
        },
        "id": "nwNtIT-Ohss4",
        "outputId": "3945775b-efdb-42d4-d9f2-f318495e8720"
      },
      "execution_count": 34,
      "outputs": [
        {
          "output_type": "stream",
          "name": "stdout",
          "text": [
            "Requirement already satisfied: gdown in /usr/local/lib/python3.11/dist-packages (5.2.0)\n",
            "Requirement already satisfied: beautifulsoup4 in /usr/local/lib/python3.11/dist-packages (from gdown) (4.13.3)\n",
            "Requirement already satisfied: filelock in /usr/local/lib/python3.11/dist-packages (from gdown) (3.18.0)\n",
            "Requirement already satisfied: requests[socks] in /usr/local/lib/python3.11/dist-packages (from gdown) (2.32.3)\n",
            "Requirement already satisfied: tqdm in /usr/local/lib/python3.11/dist-packages (from gdown) (4.67.1)\n",
            "Requirement already satisfied: soupsieve>1.2 in /usr/local/lib/python3.11/dist-packages (from beautifulsoup4->gdown) (2.6)\n",
            "Requirement already satisfied: typing-extensions>=4.0.0 in /usr/local/lib/python3.11/dist-packages (from beautifulsoup4->gdown) (4.12.2)\n",
            "Requirement already satisfied: charset-normalizer<4,>=2 in /usr/local/lib/python3.11/dist-packages (from requests[socks]->gdown) (3.4.1)\n",
            "Requirement already satisfied: idna<4,>=2.5 in /usr/local/lib/python3.11/dist-packages (from requests[socks]->gdown) (3.10)\n",
            "Requirement already satisfied: urllib3<3,>=1.21.1 in /usr/local/lib/python3.11/dist-packages (from requests[socks]->gdown) (2.3.0)\n",
            "Requirement already satisfied: certifi>=2017.4.17 in /usr/local/lib/python3.11/dist-packages (from requests[socks]->gdown) (2025.1.31)\n",
            "Requirement already satisfied: PySocks!=1.5.7,>=1.5.6 in /usr/local/lib/python3.11/dist-packages (from requests[socks]->gdown) (1.7.1)\n"
          ]
        },
        {
          "output_type": "stream",
          "name": "stderr",
          "text": [
            "[nltk_data] Downloading package stopwords to /root/nltk_data...\n",
            "[nltk_data]   Package stopwords is already up-to-date!\n",
            "[nltk_data] Downloading package punkt_tab to /root/nltk_data...\n",
            "[nltk_data]   Package punkt_tab is already up-to-date!\n",
            "[nltk_data] Downloading package wordnet to /root/nltk_data...\n",
            "[nltk_data]   Package wordnet is already up-to-date!\n"
          ]
        }
      ]
    },
    {
      "cell_type": "markdown",
      "source": [
        "# **Data Loading**\n",
        "##used python inbuild library to download the files from the google drive that is `gdown` and reading the csv file with `pandas`\n",
        "## Performing some data manipulation to get a better understanding of the data we get from the dataset\n",
        "## getting the names of the columns from the dataset\n",
        "## Checking for any `null` value in the data set"
      ],
      "metadata": {
        "id": "PuxZdBK9AixE"
      }
    },
{
      "cell_type": "code",
      "source": [
        "data = pd.readcsv("Dataset.csv")"
      ]
   ,
    {
      "cell_type": "code",
      "source": [
        "data.head()"
      ],
      "metadata": {
        "colab": {
          "base_uri": "https://localhost:8080/",
          "height": 293
        },
        "id": "tInnchAV5qnR",
        "outputId": "2d39bb21-9831-426e-b02e-35bf9519d2d3"
      },
      "execution_count": 36,
      "outputs": [
        {
          "output_type": "execute_result",
          "data": {
            "text/plain": [
              "   petition_ID                    has_entity  \\\n",
              "0       607158   EVENT:NO_DATE:NO_PERSON:NO_   \n",
              "1       590629  EVENT:NO_DATE:YES_PERSON:NO_   \n",
              "2       652724   EVENT:NO_DATE:NO_PERSON:NO_   \n",
              "3       629281   EVENT:NO_DATE:NO_PERSON:NO_   \n",
              "4       301747   EVENT:NO_DATE:NO_PERSON:NO_   \n",
              "\n",
              "                    relevant_department  deviation_across_regions  \\\n",
              "0              Department for Education                  0.000137   \n",
              "1  Department of Health and Social Care                  0.002133   \n",
              "2  Department of Health and Social Care                  0.000272   \n",
              "3                           HM Treasury                  0.000083   \n",
              "4                                   NaN                       NaN   \n",
              "\n",
              "  petition_status                petition_topic petition_importance  \\\n",
              "0    unsuccessful                     education       not_important   \n",
              "1    unsuccessful  uk government and devolution           important   \n",
              "2    unsuccessful        health and social care           important   \n",
              "3    unsuccessful   economy, labour and welfare       not_important   \n",
              "4        rejected      culture, sport and media       not_important   \n",
              "\n",
              "                                       petition_text  \n",
              "0  Ban school uniforms in English schools. I want...  \n",
              "1  Lock NHS pay rises to increases in pay for MPs...  \n",
              "2  Require dose counters on SABA metered dose inh...  \n",
              "3  Remove the 20% VAT on private dementia day car...  \n",
              "4  Make bank holidays a holiday. Make bank holida...  "
            ],
            "text/html": [
              "\n",
              "  <div id=\"df-11d7e53c-f3c2-4001-acb6-504296018a01\" class=\"colab-df-container\">\n",
              "    <div>\n",
              "<style scoped>\n",
              "    .dataframe tbody tr th:only-of-type {\n",
              "        vertical-align: middle;\n",
              "    }\n",
              "\n",
              "    .dataframe tbody tr th {\n",
              "        vertical-align: top;\n",
              "    }\n",
              "\n",
              "    .dataframe thead th {\n",
              "        text-align: right;\n",
              "    }\n",
              "</style>\n",
              "<table border=\"1\" class=\"dataframe\">\n",
              "  <thead>\n",
              "    <tr style=\"text-align: right;\">\n",
              "      <th></th>\n",
              "      <th>petition_ID</th>\n",
              "      <th>has_entity</th>\n",
              "      <th>relevant_department</th>\n",
              "      <th>deviation_across_regions</th>\n",
              "      <th>petition_status</th>\n",
              "      <th>petition_topic</th>\n",
              "      <th>petition_importance</th>\n",
              "      <th>petition_text</th>\n",
              "    </tr>\n",
              "  </thead>\n",
              "  <tbody>\n",
              "    <tr>\n",
              "      <th>0</th>\n",
              "      <td>607158</td>\n",
              "      <td>EVENT:NO_DATE:NO_PERSON:NO_</td>\n",
              "      <td>Department for Education</td>\n",
              "      <td>0.000137</td>\n",
              "      <td>unsuccessful</td>\n",
              "      <td>education</td>\n",
              "      <td>not_important</td>\n",
              "      <td>Ban school uniforms in English schools. I want...</td>\n",
              "    </tr>\n",
              "    <tr>\n",
              "      <th>1</th>\n",
              "      <td>590629</td>\n",
              "      <td>EVENT:NO_DATE:YES_PERSON:NO_</td>\n",
              "      <td>Department of Health and Social Care</td>\n",
              "      <td>0.002133</td>\n",
              "      <td>unsuccessful</td>\n",
              "      <td>uk government and devolution</td>\n",
              "      <td>important</td>\n",
              "      <td>Lock NHS pay rises to increases in pay for MPs...</td>\n",
              "    </tr>\n",
              "    <tr>\n",
              "      <th>2</th>\n",
              "      <td>652724</td>\n",
              "      <td>EVENT:NO_DATE:NO_PERSON:NO_</td>\n",
              "      <td>Department of Health and Social Care</td>\n",
              "      <td>0.000272</td>\n",
              "      <td>unsuccessful</td>\n",
              "      <td>health and social care</td>\n",
              "      <td>important</td>\n",
              "      <td>Require dose counters on SABA metered dose inh...</td>\n",
              "    </tr>\n",
              "    <tr>\n",
              "      <th>3</th>\n",
              "      <td>629281</td>\n",
              "      <td>EVENT:NO_DATE:NO_PERSON:NO_</td>\n",
              "      <td>HM Treasury</td>\n",
              "      <td>0.000083</td>\n",
              "      <td>unsuccessful</td>\n",
              "      <td>economy, labour and welfare</td>\n",
              "      <td>not_important</td>\n",
              "      <td>Remove the 20% VAT on private dementia day car...</td>\n",
              "    </tr>\n",
              "    <tr>\n",
              "      <th>4</th>\n",
              "      <td>301747</td>\n",
              "      <td>EVENT:NO_DATE:NO_PERSON:NO_</td>\n",
              "      <td>NaN</td>\n",
              "      <td>NaN</td>\n",
              "      <td>rejected</td>\n",
              "      <td>culture, sport and media</td>\n",
              "      <td>not_important</td>\n",
              "      <td>Make bank holidays a holiday. Make bank holida...</td>\n",
              "    </tr>\n",
              "  </tbody>\n",
              "</table>\n",
              "</div>\n",
              "    <div class=\"colab-df-buttons\">\n",
              "\n",
              "  <div class=\"colab-df-container\">\n",
              "    <button class=\"colab-df-convert\" onclick=\"convertToInteractive('df-11d7e53c-f3c2-4001-acb6-504296018a01')\"\n",
              "            title=\"Convert this dataframe to an interactive table.\"\n",
              "            style=\"display:none;\">\n",
              "\n",
              "  <svg xmlns=\"http://www.w3.org/2000/svg\" height=\"24px\" viewBox=\"0 -960 960 960\">\n",
              "    <path d=\"M120-120v-720h720v720H120Zm60-500h600v-160H180v160Zm220 220h160v-160H400v160Zm0 220h160v-160H400v160ZM180-400h160v-160H180v160Zm440 0h160v-160H620v160ZM180-180h160v-160H180v160Zm440 0h160v-160H620v160Z\"/>\n",
              "  </svg>\n",
              "    </button>\n",
              "\n",
              "  <style>\n",
              "    .colab-df-container {\n",
              "      display:flex;\n",
              "      gap: 12px;\n",
              "    }\n",
              "\n",
              "    .colab-df-convert {\n",
              "      background-color: #E8F0FE;\n",
              "      border: none;\n",
              "      border-radius: 50%;\n",
              "      cursor: pointer;\n",
              "      display: none;\n",
              "      fill: #1967D2;\n",
              "      height: 32px;\n",
              "      padding: 0 0 0 0;\n",
              "      width: 32px;\n",
              "    }\n",
              "\n",
              "    .colab-df-convert:hover {\n",
              "      background-color: #E2EBFA;\n",
              "      box-shadow: 0px 1px 2px rgba(60, 64, 67, 0.3), 0px 1px 3px 1px rgba(60, 64, 67, 0.15);\n",
              "      fill: #174EA6;\n",
              "    }\n",
              "\n",
              "    .colab-df-buttons div {\n",
              "      margin-bottom: 4px;\n",
              "    }\n",
              "\n",
              "    [theme=dark] .colab-df-convert {\n",
              "      background-color: #3B4455;\n",
              "      fill: #D2E3FC;\n",
              "    }\n",
              "\n",
              "    [theme=dark] .colab-df-convert:hover {\n",
              "      background-color: #434B5C;\n",
              "      box-shadow: 0px 1px 3px 1px rgba(0, 0, 0, 0.15);\n",
              "      filter: drop-shadow(0px 1px 2px rgba(0, 0, 0, 0.3));\n",
              "      fill: #FFFFFF;\n",
              "    }\n",
              "  </style>\n",
              "\n",
              "    <script>\n",
              "      const buttonEl =\n",
              "        document.querySelector('#df-11d7e53c-f3c2-4001-acb6-504296018a01 button.colab-df-convert');\n",
              "      buttonEl.style.display =\n",
              "        google.colab.kernel.accessAllowed ? 'block' : 'none';\n",
              "\n",
              "      async function convertToInteractive(key) {\n",
              "        const element = document.querySelector('#df-11d7e53c-f3c2-4001-acb6-504296018a01');\n",
              "        const dataTable =\n",
              "          await google.colab.kernel.invokeFunction('convertToInteractive',\n",
              "                                                    [key], {});\n",
              "        if (!dataTable) return;\n",
              "\n",
              "        const docLinkHtml = 'Like what you see? Visit the ' +\n",
              "          '<a target=\"_blank\" href=https://colab.research.google.com/notebooks/data_table.ipynb>data table notebook</a>'\n",
              "          + ' to learn more about interactive tables.';\n",
              "        element.innerHTML = '';\n",
              "        dataTable['output_type'] = 'display_data';\n",
              "        await google.colab.output.renderOutput(dataTable, element);\n",
              "        const docLink = document.createElement('div');\n",
              "        docLink.innerHTML = docLinkHtml;\n",
              "        element.appendChild(docLink);\n",
              "      }\n",
              "    </script>\n",
              "  </div>\n",
              "\n",
              "\n",
              "<div id=\"df-9eec284d-c025-4a3d-9888-e6e9146db115\">\n",
              "  <button class=\"colab-df-quickchart\" onclick=\"quickchart('df-9eec284d-c025-4a3d-9888-e6e9146db115')\"\n",
              "            title=\"Suggest charts\"\n",
              "            style=\"display:none;\">\n",
              "\n",
              "<svg xmlns=\"http://www.w3.org/2000/svg\" height=\"24px\"viewBox=\"0 0 24 24\"\n",
              "     width=\"24px\">\n",
              "    <g>\n",
              "        <path d=\"M19 3H5c-1.1 0-2 .9-2 2v14c0 1.1.9 2 2 2h14c1.1 0 2-.9 2-2V5c0-1.1-.9-2-2-2zM9 17H7v-7h2v7zm4 0h-2V7h2v10zm4 0h-2v-4h2v4z\"/>\n",
              "    </g>\n",
              "</svg>\n",
              "  </button>\n",
              "\n",
              "<style>\n",
              "  .colab-df-quickchart {\n",
              "      --bg-color: #E8F0FE;\n",
              "      --fill-color: #1967D2;\n",
              "      --hover-bg-color: #E2EBFA;\n",
              "      --hover-fill-color: #174EA6;\n",
              "      --disabled-fill-color: #AAA;\n",
              "      --disabled-bg-color: #DDD;\n",
              "  }\n",
              "\n",
              "  [theme=dark] .colab-df-quickchart {\n",
              "      --bg-color: #3B4455;\n",
              "      --fill-color: #D2E3FC;\n",
              "      --hover-bg-color: #434B5C;\n",
              "      --hover-fill-color: #FFFFFF;\n",
              "      --disabled-bg-color: #3B4455;\n",
              "      --disabled-fill-color: #666;\n",
              "  }\n",
              "\n",
              "  .colab-df-quickchart {\n",
              "    background-color: var(--bg-color);\n",
              "    border: none;\n",
              "    border-radius: 50%;\n",
              "    cursor: pointer;\n",
              "    display: none;\n",
              "    fill: var(--fill-color);\n",
              "    height: 32px;\n",
              "    padding: 0;\n",
              "    width: 32px;\n",
              "  }\n",
              "\n",
              "  .colab-df-quickchart:hover {\n",
              "    background-color: var(--hover-bg-color);\n",
              "    box-shadow: 0 1px 2px rgba(60, 64, 67, 0.3), 0 1px 3px 1px rgba(60, 64, 67, 0.15);\n",
              "    fill: var(--button-hover-fill-color);\n",
              "  }\n",
              "\n",
              "  .colab-df-quickchart-complete:disabled,\n",
              "  .colab-df-quickchart-complete:disabled:hover {\n",
              "    background-color: var(--disabled-bg-color);\n",
              "    fill: var(--disabled-fill-color);\n",
              "    box-shadow: none;\n",
              "  }\n",
              "\n",
              "  .colab-df-spinner {\n",
              "    border: 2px solid var(--fill-color);\n",
              "    border-color: transparent;\n",
              "    border-bottom-color: var(--fill-color);\n",
              "    animation:\n",
              "      spin 1s steps(1) infinite;\n",
              "  }\n",
              "\n",
              "  @keyframes spin {\n",
              "    0% {\n",
              "      border-color: transparent;\n",
              "      border-bottom-color: var(--fill-color);\n",
              "      border-left-color: var(--fill-color);\n",
              "    }\n",
              "    20% {\n",
              "      border-color: transparent;\n",
              "      border-left-color: var(--fill-color);\n",
              "      border-top-color: var(--fill-color);\n",
              "    }\n",
              "    30% {\n",
              "      border-color: transparent;\n",
              "      border-left-color: var(--fill-color);\n",
              "      border-top-color: var(--fill-color);\n",
              "      border-right-color: var(--fill-color);\n",
              "    }\n",
              "    40% {\n",
              "      border-color: transparent;\n",
              "      border-right-color: var(--fill-color);\n",
              "      border-top-color: var(--fill-color);\n",
              "    }\n",
              "    60% {\n",
              "      border-color: transparent;\n",
              "      border-right-color: var(--fill-color);\n",
              "    }\n",
              "    80% {\n",
              "      border-color: transparent;\n",
              "      border-right-color: var(--fill-color);\n",
              "      border-bottom-color: var(--fill-color);\n",
              "    }\n",
              "    90% {\n",
              "      border-color: transparent;\n",
              "      border-bottom-color: var(--fill-color);\n",
              "    }\n",
              "  }\n",
              "</style>\n",
              "\n",
              "  <script>\n",
              "    async function quickchart(key) {\n",
              "      const quickchartButtonEl =\n",
              "        document.querySelector('#' + key + ' button');\n",
              "      quickchartButtonEl.disabled = true;  // To prevent multiple clicks.\n",
              "      quickchartButtonEl.classList.add('colab-df-spinner');\n",
              "      try {\n",
              "        const charts = await google.colab.kernel.invokeFunction(\n",
              "            'suggestCharts', [key], {});\n",
              "      } catch (error) {\n",
              "        console.error('Error during call to suggestCharts:', error);\n",
              "      }\n",
              "      quickchartButtonEl.classList.remove('colab-df-spinner');\n",
              "      quickchartButtonEl.classList.add('colab-df-quickchart-complete');\n",
              "    }\n",
              "    (() => {\n",
              "      let quickchartButtonEl =\n",
              "        document.querySelector('#df-9eec284d-c025-4a3d-9888-e6e9146db115 button');\n",
              "      quickchartButtonEl.style.display =\n",
              "        google.colab.kernel.accessAllowed ? 'block' : 'none';\n",
              "    })();\n",
              "  </script>\n",
              "</div>\n",
              "\n",
              "    </div>\n",
              "  </div>\n"
            ],
            "application/vnd.google.colaboratory.intrinsic+json": {
              "type": "dataframe",
              "variable_name": "data",
              "summary": "{\n  \"name\": \"data\",\n  \"rows\": 8898,\n  \"fields\": [\n    {\n      \"column\": \"petition_ID\",\n      \"properties\": {\n        \"dtype\": \"number\",\n        \"std\": 155313,\n        \"min\": 300000,\n        \"max\": 1703284,\n        \"num_unique_values\": 8517,\n        \"samples\": [\n          563311,\n          550482,\n          655872\n        ],\n        \"semantic_type\": \"\",\n        \"description\": \"\"\n      }\n    },\n    {\n      \"column\": \"has_entity\",\n      \"properties\": {\n        \"dtype\": \"category\",\n        \"num_unique_values\": 9,\n        \"samples\": [\n          \"EVENT:YES_DATE:NO_PERSON:YES_\",\n          \"EVENT:NO_DATE:YES_PERSON:NO_\",\n          \"EVENT:YES_DATE:YES_PERSON:NO_\"\n        ],\n        \"semantic_type\": \"\",\n        \"description\": \"\"\n      }\n    },\n    {\n      \"column\": \"relevant_department\",\n      \"properties\": {\n        \"dtype\": \"category\",\n        \"num_unique_values\": 24,\n        \"samples\": [\n          \"Department for Business and Trade\",\n          \"Foreign, Commonwealth & Development Office\",\n          \"Department for Education\"\n        ],\n        \"semantic_type\": \"\",\n        \"description\": \"\"\n      }\n    },\n    {\n      \"column\": \"deviation_across_regions\",\n      \"properties\": {\n        \"dtype\": \"number\",\n        \"std\": 0.04700631618503074,\n        \"min\": -1.0,\n        \"max\": 1.033034542476664,\n        \"num_unique_values\": 6901,\n        \"samples\": [\n          4.860433238308728e-05,\n          7.602027243226804e-05,\n          3.642088170277716e-05\n        ],\n        \"semantic_type\": \"\",\n        \"description\": \"\"\n      }\n    },\n    {\n      \"column\": \"petition_status\",\n      \"properties\": {\n        \"dtype\": \"category\",\n        \"num_unique_values\": 4,\n        \"samples\": [\n          \"rejected\",\n          \"successful_debated\",\n          \"unsuccessful\"\n        ],\n        \"semantic_type\": \"\",\n        \"description\": \"\"\n      }\n    },\n    {\n      \"column\": \"petition_topic\",\n      \"properties\": {\n        \"dtype\": \"category\",\n        \"num_unique_values\": 14,\n        \"samples\": [\n          \"Health And Social Care\",\n          \"Education\",\n          \"education\"\n        ],\n        \"semantic_type\": \"\",\n        \"description\": \"\"\n      }\n    },\n    {\n      \"column\": \"petition_importance\",\n      \"properties\": {\n        \"dtype\": \"category\",\n        \"num_unique_values\": 2,\n        \"samples\": [\n          \"important\",\n          \"not_important\"\n        ],\n        \"semantic_type\": \"\",\n        \"description\": \"\"\n      }\n    },\n    {\n      \"column\": \"petition_text\",\n      \"properties\": {\n        \"dtype\": \"string\",\n        \"num_unique_values\": 8461,\n        \"samples\": [\n          \"Reduce the maximum fine for non-payment of TV Licence. Amend the Communications Act 2003 to reduce the maximum fine payable on non-payment of the TV licence fee from \\u00a31000 to \\u00a310. People are being penalised for a service that they do not require. The Government has to abide by the BBC Charter until 2027 but the maximum fine should now be reduced to reflect current circumstances.\",\n          \"Increase funding for research into and treatment of STXBP1 encephalopathy. STXBP1 encephalopathy is a rare genetic condition characterized by abnormal brain function  and intellectual disability. We want the Government to increase funding for research into and treatment of STXBP1 encephalopathy, to help sufferers and their families.\\n \\nWe believe the NHS is far behind other countries in their knowledge of and treatment available for this terrible condition. Additional funding could held address this gap, and identify new treatments.\"\n        ],\n        \"semantic_type\": \"\",\n        \"description\": \"\"\n      }\n    }\n  ]\n}"
            }
          },
          "metadata": {},
          "execution_count": 36
        }
      ]
    },
    {
      "cell_type": "markdown",
      "source": [],
      "metadata": {
        "id": "VQJVggPIBjvL"
      }
    },
    {
      "cell_type": "code",
      "source": [
        "print(data.columns)"
      ],
      "metadata": {
        "colab": {
          "base_uri": "https://localhost:8080/"
        },
        "id": "kg1LbG8c5rfl",
        "outputId": "350c780e-bfec-49a1-92e5-2ebd60839e29"
      },
      "execution_count": 37,
      "outputs": [
        {
          "output_type": "stream",
          "name": "stdout",
          "text": [
            "Index(['petition_ID', 'has_entity', 'relevant_department',\n",
            "       'deviation_across_regions', 'petition_status', 'petition_topic',\n",
            "       'petition_importance', 'petition_text'],\n",
            "      dtype='object')\n"
          ]
        }
      ]
    },
    {
      "cell_type": "code",
      "source": [
        "data.shape"
      ],
      "metadata": {
        "colab": {
          "base_uri": "https://localhost:8080/"
        },
        "id": "0_UX6wsp21TT",
        "outputId": "bb6bf34c-6dad-4ee9-aea1-c4f7d1086b68"
      },
      "execution_count": 38,
      "outputs": [
        {
          "output_type": "execute_result",
          "data": {
            "text/plain": [
              "(8898, 8)"
            ]
          },
          "metadata": {},
          "execution_count": 38
        }
      ]
    },
    {
      "cell_type": "code",
      "source": [
        "print(data.isnull().sum())"
      ],
      "metadata": {
        "id": "IyFvO38Q7aPR",
        "outputId": "721e88a2-f0b0-4e77-d09f-6fd6a8edeb71",
        "colab": {
          "base_uri": "https://localhost:8080/"
        }
      },
      "execution_count": 39,
      "outputs": [
        {
          "output_type": "stream",
          "name": "stdout",
          "text": [
            "petition_ID                    0\n",
            "has_entity                     0\n",
            "relevant_department         1799\n",
            "deviation_across_regions    1577\n",
            "petition_status                0\n",
            "petition_topic                31\n",
            "petition_importance         8878\n",
            "petition_text                  2\n",
            "dtype: int64\n"
          ]
        }
      ]
    },
    {
      "cell_type": "markdown",
      "source": [
        "#**Data Cleaning**"
      ],
      "metadata": {
        "id": "AnFje3uoslb8"
      }
    },
    {
      "cell_type": "markdown",
      "source": [
        "## As there were many null values in the above data set but we mainly focus on the three main class i.e. `has_entity`, `petition_topic` and `petition_text`. From these classes we are cleaning the null values by dropping the rows, as the data set is very large as we have seen before so dropping some rows from it won't much affect the data and the model."
      ],
      "metadata": {
        "id": "QP8_Ieo1BudV"
      }
    },
    {
      "cell_type": "code",
      "source": [
        "data = data.dropna(subset=['petition_text'])\n",
        "data = data.dropna(subset=['petition_topic'])\n"
      ],
      "metadata": {
        "id": "0WtYQLb32-Yp"
      },
      "execution_count": 40,
      "outputs": []
    },
    {
      "cell_type": "code",
      "source": [
        "print(data.isnull().sum())"
      ],
      "metadata": {
        "colab": {
          "base_uri": "https://localhost:8080/"
        },
        "id": "i6Hu0jGg3WIE",
        "outputId": "bb4ffc42-6f48-4dfc-f95e-f2ec2d869f2b"
      },
      "execution_count": 41,
      "outputs": [
        {
          "output_type": "stream",
          "name": "stdout",
          "text": [
            "petition_ID                    0\n",
            "has_entity                     0\n",
            "relevant_department         1792\n",
            "deviation_across_regions    1571\n",
            "petition_status                0\n",
            "petition_topic                 0\n",
            "petition_importance         8845\n",
            "petition_text                  0\n",
            "dtype: int64\n"
          ]
        }
      ]
    },
    {
      "cell_type": "markdown",
      "source": [
        "## Checking for the classes in the `petition_topic` specifically"
      ],
      "metadata": {
        "id": "jsGmpXe7CQ8E"
      }
    },
    {
      "cell_type": "code",
      "source": [
        "print(data['petition_topic'].nunique())\n",
        "print(data['petition_topic'].value_counts())"
      ],
      "metadata": {
        "colab": {
          "base_uri": "https://localhost:8080/"
        },
        "id": "QhZ-5drAm710",
        "outputId": "0876c8aa-448e-4b1a-c586-622dc5a8ec40"
      },
      "execution_count": 42,
      "outputs": [
        {
          "output_type": "stream",
          "name": "stdout",
          "text": [
            "14\n",
            "petition_topic\n",
            "environment and animal welfare    2389\n",
            "health and social care            2128\n",
            "economy, labour and welfare       1232\n",
            "education                         1207\n",
            "culture, sport and media          1061\n",
            "uk government and devolution       740\n",
            "london                              61\n",
            "Health And Social Care              15\n",
            "Environment And Animal Welfare      13\n",
            "Economy, Labour And Welfare          6\n",
            "Culture, Sport And Media             5\n",
            "Education                            5\n",
            "Uk Government And Devolution         2\n",
            "London                               1\n",
            "Name: count, dtype: int64\n"
          ]
        }
      ]
    },
    {
      "cell_type": "code",
      "source": [
        "data['petition_topic'] = data['petition_topic'].str.lower()\n",
        "print(data['petition_topic'].nunique())\n",
        "print(data['petition_topic'].value_counts())"
      ],
      "metadata": {
        "colab": {
          "base_uri": "https://localhost:8080/"
        },
        "id": "H9-CPEIw4i_b",
        "outputId": "af1713b3-cda0-4681-f614-c7663628b57c"
      },
      "execution_count": 43,
      "outputs": [
        {
          "output_type": "stream",
          "name": "stdout",
          "text": [
            "7\n",
            "petition_topic\n",
            "environment and animal welfare    2402\n",
            "health and social care            2143\n",
            "economy, labour and welfare       1238\n",
            "education                         1212\n",
            "culture, sport and media          1066\n",
            "uk government and devolution       742\n",
            "london                              62\n",
            "Name: count, dtype: int64\n"
          ]
        }
      ]
    },
    {
      "cell_type": "markdown",
      "source": [
        "## as in the above classes there are in total 7 classes only as mention in the speicfication but here we are getting in total 14 classes. It is because python is not able to understand the `london` and `London` are same just the letter is capitalize. To deal with this problem we basically convert all the data from the `petition_topic` to lowercase so that it will count it as a single term."
      ],
      "metadata": {
        "id": "B0oETlSTCbK_"
      }
    },
    {
      "cell_type": "code",
      "source": [
        "print(data['petition_text'].head())"
      ],
      "metadata": {
        "colab": {
          "base_uri": "https://localhost:8080/"
        },
        "id": "LqfkOS9DB-mL",
        "outputId": "60c2875c-77fa-481e-a70e-05fd8a994d66"
      },
      "execution_count": 44,
      "outputs": [
        {
          "output_type": "stream",
          "name": "stdout",
          "text": [
            "0    Ban school uniforms in English schools. I want...\n",
            "1    Lock NHS pay rises to increases in pay for MPs...\n",
            "2    Require dose counters on SABA metered dose inh...\n",
            "3    Remove the 20% VAT on private dementia day car...\n",
            "4    Make bank holidays a holiday. Make bank holida...\n",
            "Name: petition_text, dtype: object\n"
          ]
        }
      ]
    },
    {
      "cell_type": "markdown",
      "source": [
        "#**Text Preprocessing**"
      ],
      "metadata": {
        "id": "MVQwPS7Is14V"
      }
    },
    {
      "cell_type": "markdown",
      "source": [
        "## For processing the data nltk has been used which is very useful for working with text as we have textual data to process. nltk is basically use for removing the stopwords from the data to avoid misinterpretation to the model and to convert the complex words into their base form so that machine will get better understanding of the words. It removes all the puncuations from the text."
      ],
      "metadata": {
        "id": "cYKDuUzcuQvK"
      }
    },
    {
      "cell_type": "code",
      "source": [
        "def preprocess_text(text):\n",
        "    text = text.lower()\n",
        "    text = text.translate(str.maketrans('', '', string.punctuation))\n",
        "    tokens = word_tokenize(text)\n",
        "    tokens = [lemmatizer.lemmatize(word) for word in tokens if word not in stop_words]\n",
        "    return ' '.join(tokens)\n",
        "\n",
        "data['cleaned_text'] = data['petition_text'].apply(preprocess_text)"
      ],
      "metadata": {
        "id": "cUktRk0s6JhN"
      },
      "execution_count": 45,
      "outputs": []
    },
    {
      "cell_type": "code",
      "source": [
        "print(data['cleaned_text'].head())"
      ],
      "metadata": {
        "colab": {
          "base_uri": "https://localhost:8080/"
        },
        "id": "S_EQzrikFa3x",
        "outputId": "6bfce597-ad98-4241-b844-0366b77c505f"
      },
      "execution_count": 46,
      "outputs": [
        {
          "output_type": "stream",
          "name": "stdout",
          "text": [
            "0    ban school uniform english school want governm...\n",
            "1    lock nh pay rise increase pay mp backdated 201...\n",
            "2    require dose counter saba metered dose inhaler...\n",
            "3    remove 20 vat private dementia day care centre...\n",
            "4    make bank holiday holiday make bank holiday ho...\n",
            "Name: cleaned_text, dtype: object\n"
          ]
        }
      ]
    },
    {
      "cell_type": "markdown",
      "source": [
        "#**Feature Encoding**"
      ],
      "metadata": {
        "id": "fRpAhZBvs78e"
      }
    },
    {
      "cell_type": "markdown",
      "source": [
        "## As the machine cannot understand the textual context so we have to convert that text into numbers so that it can be understood by machine. So to do the same we are using `TfidfVectorizer` from `sklearn` which is very popular library in python, so with this it converts the text into numerical values so that the model can understand and work on data."
      ],
      "metadata": {
        "id": "WcMoavDKu8tc"
      }
    },
    {
      "cell_type": "code",
      "source": [
        "tfidf = TfidfVectorizer(max_features=5000,ngram_range=(1, 3))\n",
        "text_features = tfidf.fit_transform(data['cleaned_text'])"
      ],
      "metadata": {
        "id": "5qhciQQqHBa_"
      },
      "execution_count": 47,
      "outputs": []
    },
    {
      "cell_type": "code",
      "source": [
        "print(tfidf.vocabulary_)"
      ],
      "metadata": {
        "colab": {
          "base_uri": "https://localhost:8080/"
        },
        "id": "DkJ_KsS1HC4m",
        "outputId": "8548d61b-5c36-45cc-fb94-58f9ef334b07"
      },
      "execution_count": 48,
      "outputs": [
        {
          "output_type": "stream",
          "name": "stdout",
          "text": [
            "{'ban': np.int64(450), 'school': np.int64(3956), 'uniform': np.int64(4668), 'english': np.int64(1479), 'want': np.int64(4804), 'government': np.int64(1940), 'enable': np.int64(1446), 'every': np.int64(1551), 'child': np.int64(774), 'wear': np.int64(4846), 'clothes': np.int64(861), 'feel': np.int64(1683), 'comfortable': np.int64(889), 'required': np.int64(3820), 'also': np.int64(277), 'think': np.int64(4486), 'wasteful': np.int64(4835), 'require': np.int64(3811), 'parent': np.int64(3161), 'buy': np.int64(621), 'use': np.int64(4721), 'quickly': np.int64(3620), 'grow': np.int64(2037), 'able': np.int64(99), 'whatever': np.int64(4868), 'ban school': np.int64(458), 'school uniform': np.int64(3974), 'want government': np.int64(4805), 'every child': np.int64(1552), 'lock': np.int64(2623), 'nh': np.int64(2998), 'pay': np.int64(3204), 'rise': np.int64(3889), 'increase': np.int64(2305), 'mp': np.int64(2896), 'backdated': np.int64(438), '2015': np.int64(36), 'whenever': np.int64(4871), 'salary': np.int64(3931), 'staff': np.int64(4237), 'member': np.int64(2806), 'proportion': np.int64(3521), 'recognise': np.int64(3685), 'sacrifice': np.int64(3921), 'pandemic': np.int64(3153), 'large': np.int64(2488), 'real': np.int64(3661), 'term': np.int64(4458), 'cut': np.int64(1109), 'faced': np.int64(1631), 'many': np.int64(2728), 'year': np.int64(4966), 'april': np.int64(357), '2020': np.int64(42), 'increased': np.int64(2319), 'time': np.int64(4517), 'period': np.int64(3298), 'happens': np.int64(2058), 'whereas': np.int64(4872), 'independent': np.int64(2330), 'organisation': np.int64(3111), 'determine': np.int64(1219), 'release': np.int64(3761), 'recommendation': np.int64(3689), 'belief': np.int64(496), 'there': np.int64(4479), 'one': np.int64(3082), 'rule': np.int64(3916), 'another': np.int64(323), 'everyone': np.int64(1559), 'else': np.int64(1429), 'pay rise': np.int64(3215), 'increase pay': np.int64(2312), 'nh staff': np.int64(3012), 'staff member': np.int64(4238), 'pay cut': np.int64(3208), 'many year': np.int64(2747), 'mp pay': np.int64(2897), 'staff pay': np.int64(4239), 'nh staff pay': np.int64(3013), 'dose': np.int64(1330), 'counter': np.int64(1034), 'inhaler': np.int64(2354), 'interest': np.int64(2390), 'public': np.int64(3564), 'health': np.int64(2075), 'safety': np.int64(3928), 'would': np.int64(4938), 'like': np.int64(2575), 'make': np.int64(2685), 'legal': np.int64(2528), 'requirement': np.int64(3822), 'company': np.int64(905), 'must': np.int64(2904), 'provide': np.int64(3549), 'short': np.int64(4098), 'acting': np.int64(152), 'point': np.int64(3375), 'issue': np.int64(2432), 'patient': np.int64(3201), 'family': np.int64(1654), 'may': np.int64(2771), 'always': np.int64(286), 'educated': np.int64(1389), 'contain': np.int64(962), '200': np.int64(28), 'dos': np.int64(1329), 'imperative': np.int64(2263), 'recorded': np.int64(3693), 'monitored': np.int64(2879), 'continue': np.int64(968), 'fire': np.int64(1719), 'medicine': np.int64(2797), 'run': np.int64(3917), 'fear': np.int64(1673), 'empty': np.int64(1445), 'used': np.int64(4725), 'emergency': np.int64(1432), 'potentially': np.int64(3411), 'situation': np.int64(4141), 'could': np.int64(1010), 'avoided': np.int64(427), 'providing': np.int64(3559), 'production': np.int64(3498), 'clearly': np.int64(845), 'public health': np.int64(3570), 'health safety': np.int64(2086), 'would like': np.int64(4949), 'like government': np.int64(2576), 'government make': np.int64(1971), 'make legal': np.int64(2699), 'legal requirement': np.int64(2530), 'would like government': np.int64(4950), 'like government make': np.int64(2580), 'make legal requirement': np.int64(2700), 'remove': np.int64(3781), '20': np.int64(26), 'vat': np.int64(4746), 'private': np.int64(3472), 'dementia': np.int64(1183), 'day': np.int64(1129), 'care': np.int64(683), 'centre': np.int64(736), 'considered': np.int64(945), 'welfare': np.int64(4855), 'keep': np.int64(2449), 'hospital': np.int64(2187), 'consideration': np.int64(944), 'removing': np.int64(3784), 'extra': np.int64(1618), 'charge': np.int64(760), 'heavy': np.int64(2108), 'without': np.int64(4901), 'please': np.int64(3369), 'least': np.int64(2518), 'reduce': np.int64(3706), 'adult': np.int64(186), 'seems': np.int64(4015), 'unfair': np.int64(4663), 'exempt': np.int64(1580), 'reduce vat': np.int64(3713), 'private school': np.int64(3477), 'exempt vat': np.int64(1581), 'bank': np.int64(463), 'holiday': np.int64(2167), 'bank holiday': np.int64(464), 'funding': np.int64(1856), 'send': np.int64(4035), 'support': np.int64(4360), 'early': np.int64(1362), 'extend': np.int64(1609), 'inclusion': np.int64(2294), 'speech': np.int64(4219), 'language': np.int64(2487), 'therapy': np.int64(4478), 'fully': np.int64(1842), 'fund': np.int64(1846), 'ehcps': np.int64(1409), 'bring': np.int64(587), 'back': np.int64(436), 'action': np.int64(153), 'dont': np.int64(1321), 'qualify': np.int64(3610), 'impact': np.int64(2257), 'huge': np.int64(2215), 'increasing': np.int64(2321), 'number': np.int64(3044), 'significant': np.int64(4122), 'communication': np.int64(901), 'complex': np.int64(917), 'need': np.int64(2941), 'current': np.int64(1092), 'sen': np.int64(4033), 'insufficient': np.int64(2376), 'evidence': np.int64(1562), 'take': np.int64(4403), 'additional': np.int64(168), 'provision': np.int64(3560), 'stop': np.int64(4277), 'meaning': np.int64(2783), 'pupil': np.int64(3593), 'miss': np.int64(2863), 'crucial': np.int64(1083), 'stage': np.int64(4243), 'yet': np.int64(4982), 'often': np.int64(3076), 'collected': np.int64(879), 'increase funding': np.int64(2307), 'early year': np.int64(1363), 'bring back': np.int64(588), 'take time': np.int64(4411), 'need funding': np.int64(2949), 'support child': np.int64(4362), 'literature': np.int64(2598), 'curriculum': np.int64(1104), 'believe': np.int64(497), 'lesson': np.int64(2543), 'needed': np.int64(2959), 'final': np.int64(1701), 'exam': np.int64(1563), 'done': np.int64(1320), 'existing': np.int64(1586), 'test': np.int64(4465), 'student': np.int64(4307), 'write': np.int64(4959), 'email': np.int64(1431), 'sort': np.int64(4198), 'unnecessary': np.int64(4687), 'learn': np.int64(2513), 'certain': np.int64(738), 'wasting': np.int64(4836), 'teen': np.int64(4446), 'instead': np.int64(2373), 'focusing': np.int64(1753), 'gcse': np.int64(1889), 'weekend': np.int64(4851), 'sunday': np.int64(4353), 'saturday': np.int64(3941), 'close': np.int64(856), 'open': np.int64(3093), 'monday': np.int64(2876), 'thursday': np.int64(4511), 'friday': np.int64(1821), 'changing': np.int64(757), 'work': np.int64(4911), 'help': np.int64(2114), 'productivity': np.int64(3500), 'negative': np.int64(2961), 'feeling': np.int64(1686), 'people': np.int64(3237), 'realise': np.int64(3662), 'almost': np.int64(272), 'make school': np.int64(2707), 'could help': np.int64(1014), 'many people': np.int64(2741), 'enact': np.int64(1450), 'national': np.int64(2918), 'internet': np.int64(2396), 'access': np.int64(127), 'act': np.int64(149), 'uk': np.int64(4621), 'law': np.int64(2502), 'nothing': np.int64(3036), 'less': np.int64(2541), 'human': np.int64(2218), 'right': np.int64(3883), 'going': np.int64(1932), 'forward': np.int64(1785), 'future': np.int64(1874), 'set': np.int64(4066), 'core': np.int64(989), 'principle': np.int64(3463), 'detail': np.int64(1215), 'put': np.int64(3602), 'end': np.int64(1457), 'rural': np.int64(3919), 'provider': np.int64(3557), 'guarantee': np.int64(2041), 'affordable': np.int64(211), 'individual': np.int64(2335), 'country': np.int64(1036), 'minimum': np.int64(2852), 'speed': np.int64(4220), 'improve': np.int64(2279), 'infrastructure': np.int64(2352), 'ensure': np.int64(1486), 'household': np.int64(2209), 'business': np.int64(618), 'capacity': np.int64(662), 'fibre': np.int64(1692), 'free': np.int64(1799), 'education': np.int64(1391), 'around': np.int64(364), 'security': np.int64(4009), 'broadband': np.int64(599), 'price': np.int64(3453), 'aid': np.int64(233), 'low': np.int64(2656), 'income': np.int64(2296), 'uk law': np.int64(4627), 'human right': np.int64(2220), 'government need': np.int64(1976), 'national minimum': np.int64(2927), 'low income': np.int64(2657), 'repeal': np.int64(3792), 'climate': np.int64(847), 'change': np.int64(750), '2008': np.int64(31), 'energy': np.int64(1464), 'market': np.int64(2755), 'investing': np.int64(2414), 'medium': np.int64(2798), 'long': np.int64(2628), 'based': np.int64(472), 'solution': np.int64(4188), 'non': np.int64(3022), 'legislation': np.int64(2536), 'duty': np.int64(1354), 'carbon': np.int64(675), 'usage': np.int64(4720), 'policy': np.int64(3380), 'gas': np.int64(1885), 'investment': np.int64(2415), 'international': np.int64(2393), 'dangerous': np.int64(1118), 'regime': np.int64(3735), 'contributed': np.int64(976), 'massive': np.int64(2759), 'leading': np.int64(2510), 'fuel': np.int64(1834), 'poverty': np.int64(3413), 'greatly': np.int64(2022), 'reduced': np.int64(3714), 'british': np.int64(592), 'freedom': np.int64(1813), 'climate change': np.int64(848), 'long term': np.int64(2630), 'believe current': np.int64(500), 'current policy': np.int64(1098), 'uk government': np.int64(4626), 'living': np.int64(2607), 'wage': np.int64(4794), 'hour': np.int64(2196), 'substantially': np.int64(4330), 'proposed': np.int64(3526), 'worker': np.int64(4918), 'including': np.int64(2293), 'working': np.int64(4920), 'front': np.int64(1826), 'line': np.int64(2589), 'home': np.int64(2170), 'area': np.int64(359), 'see': np.int64(4010), 'full': np.int64(1838), '56': np.int64(84), '22': np.int64(53), 'spending': np.int64(4223), 'review': np.int64(3870), 'sufficient': np.int64(4339), 'national living': np.int64(2925), 'living wage': np.int64(2613), 'front line': np.int64(1827), 'care home': np.int64(686), 'government increase': np.int64(1965), 'national living wage': np.int64(2926), 'abolish': np.int64(109), 'neutrality': np.int64(2979), 'protect': np.int64(3533), 'river': np.int64(3897), 'pollution': np.int64(3388), 'plan': np.int64(3350), 'part': np.int64(3174), 'effective': np.int64(1400), 'habitat': np.int64(2048), 'regulation': np.int64(3745), 'developer': np.int64(1226), 'prevent': np.int64(3445), 'harm': np.int64(2066), 'stream': np.int64(4288), 'new': np.int64(2981), 'development': np.int64(1228), 'sewage': np.int64(4074), 'harming': np.int64(2068), 'sensitive': np.int64(4040), 'go': np.int64(1926), 'ahead': np.int64(231), 'source': np.int64(4200), 'bill': np.int64(530), 'scrap': np.int64(3983), 'vital': np.int64(4776), 'protection': np.int64(3544), 'nature': np.int64(2935), 'leaving': np.int64(2523), 'pick': np.int64(3338), 'must pay': np.int64(2910), 'current rule': np.int64(1099), 'launch': np.int64(2501), 'inquiry': np.int64(2365), 'injustice': np.int64(2362), 'suffered': np.int64(4335), 'commission': np.int64(893), 'happen': np.int64(2055), 'widespread': np.int64(4884), 'concern': np.int64(924), 'experienced': np.int64(1596), 'suffering': np.int64(4337), 'impacting': np.int64(2261), 'identify': np.int64(2240), 'flawed': np.int64(1741), 'procedure': np.int64(3484), 'safeguard': np.int64(3924), 'system': np.int64(4398), 'workplace': np.int64(4928), 'result': np.int64(3852), 'morale': np.int64(2884), 'staffing': np.int64(4242), 'valuable': np.int64(4735), 'resource': np.int64(3836), 'investigated': np.int64(2412), 'provide support': np.int64(3555), 'patient care': np.int64(3202), 'legalise': np.int64(2532), 'keeping': np.int64(2451), 'domestic': np.int64(1317), 'pet': np.int64(3315), 'generally': np.int64(1898), 'scientific': np.int64(3978), 'educational': np.int64(1395), 'purpose': np.int64(3599), 'applying': np.int64(343), 'permission': np.int64(3304), 'wrong': np.int64(4962), 'whilst': np.int64(4875), 'remain': np.int64(3773), 'licensed': np.int64(2557), 'hard': np.int64(2061), 'licence': np.int64(2553), 'include': np.int64(2290), 'hard work': np.int64(2062), 'refund': np.int64(3727), 'road': np.int64(3898), 'tax': np.int64(4423), 'taxing': np.int64(4436), 'car': np.int64(668), 'win': np.int64(4889), 'surely': np.int64(4378), 'age': np.int64(214), 'month': np.int64(2881), 'last': np.int64(2494), 'due': np.int64(1347), 'sell': np.int64(4030), 'first': np.int64(1727), 'get': np.int64(1907), 'refunded': np.int64(3728), 'whole': np.int64(4877), 'ideal': np.int64(2237), 'world': np.int64(4929), 'never': np.int64(2980), 'charging': np.int64(764), 'driver': np.int64(1340), 'amount': np.int64(295), 'fair': np.int64(1645), 'road tax': np.int64(3899), 'pay full': np.int64(3209), 'dont get': np.int64(1323), 'want uk': np.int64(4823), 'government change': np.int64(1950), 'want uk government': np.int64(4824), 'reform': np.int64(3726), 'social': np.int64(4167), 'population': np.int64(3395), 'contract': np.int64(973), 'value': np.int64(4736), 'sector': np.int64(4005), 'paid': np.int64(3145), 'success': np.int64(4331), 'economy': np.int64(1386), 'demand': np.int64(1181), 'much': np.int64(2898), 'financial': np.int64(1704), 'recognition': np.int64(3687), 'question': np.int64(3618), 'require new': np.int64(3815), 'public sector': np.int64(3578), 'sector worker': np.int64(4007), 'public sector worker': np.int64(3580), 'jet': np.int64(2437), 'implement': np.int64(2264), 'air': np.int64(236), 'space': np.int64(4202), 'allowed': np.int64(268), 'effort': np.int64(1405), 'crisis': np.int64(1075), 'together': np.int64(4534), 'thing': np.int64(4484), 'live': np.int64(2602), 'separate': np.int64(4046), 'rest': np.int64(3844), 'seeing': np.int64(4011), 'made': np.int64(2670), 'redundant': np.int64(3719), 'flight': np.int64(1743), 'someone': np.int64(4190), 'using': np.int64(4728), 'personal': np.int64(3309), 'level': np.int64(2548), 'allow': np.int64(260), 'damage': np.int64(1115), 'fight': np.int64(1694), 'planet': np.int64(3352), 'airport': np.int64(241), 'avoid': np.int64(426), 'sitting': np.int64(4140), 'next': np.int64(2995), 'plane': np.int64(3351), 'private jet': np.int64(3475), 'climate crisis': np.int64(849), 'feel like': np.int64(1684), 'cost': np.int64(1003), 'animal': np.int64(300), '2023': np.int64(45), 'trade': np.int64(4556), 'intensive': np.int64(2386), 'industry': np.int64(2339), 'scheme': np.int64(3955), 'give': np.int64(1914), 'discount': np.int64(1271), 'customer': np.int64(1107), 'class': np.int64(836), 'retail': np.int64(3855), 'sale': np.int64(3932), 'plant': np.int64(3355), 'food': np.int64(1757), 'specialised': np.int64(4210), 'store': np.int64(4283), 'well': np.int64(4859), 'facility': np.int64(1635), 'marine': np.int64(2752), 'electricity': np.int64(1423), 'important': np.int64(2271), 'manufacturer': np.int64(2726), 'deserve': np.int64(1200), 'look': np.int64(2633), 'fish': np.int64(1732), 'extremely': np.int64(1622), 'hungry': np.int64(2225), 'prioritised': np.int64(3467), 'energy cost': np.int64(1467), 'energy bill': np.int64(1465), 'animal pet': np.int64(307), 'pet food': np.int64(3316), 'live animal': np.int64(2603), 'waste': np.int64(4833), 'phase': np.int64(3329), 'recycling': np.int64(3702), 'alternative': np.int64(284), 'generated': np.int64(1900), 'create': np.int64(1061), 'job': np.int64(2438), 'green': np.int64(2023), 'banning': np.int64(466), 'setting': np.int64(4067), 'timely': np.int64(4527), 'host': np.int64(2191), 'cop26': np.int64(986), 'million': np.int64(2845), 'tonne': np.int64(4539), 'dioxide': np.int64(1255), 'small': np.int64(4155), 'blood': np.int64(545), 'organ': np.int64(3109), 'given': np.int64(1919), 'adversely': np.int64(193), 'affect': np.int64(204), 'recent': np.int64(3680), 'study': np.int64(4319), 'found': np.int64(1789), 'even': np.int64(1545), 'pollutant': np.int64(3386), 'estimated': np.int64(1533), 'death': np.int64(1142), 'worldwide': np.int64(4930), 'carbon dioxide': np.int64(676), 'year due': np.int64(4972), 'air pollution': np.int64(237), 'reintroduce': np.int64(3753), 'closing': np.int64(859), 'coronavirus': np.int64(992), 'managed': np.int64(2716), 'opening': np.int64(3094), 'catering': np.int64(720), 'hospitality': np.int64(2189), 'lockdown': np.int64(2624), 'positive': np.int64(3401), 'upon': np.int64(4702), 'community': np.int64(902), 'environment': np.int64(1503), 'return': np.int64(3863), 'normal': np.int64(3030), 'commercial': np.int64(892), 'engage': np.int64(1474), 'friend': np.int64(1823), 'environmentally': np.int64(1506), 'target': np.int64(4418), 'coronavirus pandemic': np.int64(995), 'would allow': np.int64(4940), 'allow people': np.int64(264), 'family friend': np.int64(1657), 'would also': np.int64(4941), 'erosion': np.int64(1520), 'beach': np.int64(479), 'effect': np.int64(1399), 'multiple': np.int64(2900), 'property': np.int64(3519), 'key': np.int64(2454), 'location': np.int64(2622), 'east': np.int64(1375), 'england': np.int64(1477), 'currently': np.int64(1103), 'mass': np.int64(2758), 'although': np.int64(285), 'significantly': np.int64(4124), 'since': np.int64(4131), 'becoming': np.int64(486), 'worse': np.int64(4934), 'costing': np.int64(1008), 'safe': np.int64(3923), 'station': np.int64(4259), 'response': np.int64(3840), 'call': np.int64(634), 'provided': np.int64(3556), 'lost': np.int64(2643), 'local': np.int64(2617), 'calorie': np.int64(643), 'displayed': np.int64(1286), 'alcoholic': np.int64(245), 'drink': np.int64(1336), 'weight': np.int64(4853), 'loss': np.int64(2642), 'journey': np.int64(2441), 'ive': np.int64(2435), 'difficult': np.int64(1250), 'track': np.int64(4555), 'alcohol': np.int64(244), 'show': np.int64(4105), 'nutritional': np.int64(3054), 'information': np.int64(2349), 'special': np.int64(4206), 'pas': np.int64(3186), 'related': np.int64(3754), 'drinking': np.int64(1337), 'problem': np.int64(3483), 'great': np.int64(2018), 'benefit': np.int64(512), 'giving': np.int64(1920), 'informed': np.int64(2350), 'choice': np.int64(814), 'consume': np.int64(955), 'body': np.int64(549), 'within': np.int64(4899), 'nutritional information': np.int64(3055), 'food drink': np.int64(1760), 'people country': np.int64(3250), 'make informed': np.int64(2696), 'informed choice': np.int64(2351), 'may also': np.int64(2773), 'also help': np.int64(278), 'make informed choice': np.int64(2697), 'parking': np.int64(3168), 'still': np.int64(4273), 'permit': np.int64(3305), 'saving': np.int64(3946), 'caring': np.int64(704), 'treatment': np.int64(4588), 'life': np.int64(2560), 'fined': np.int64(1717), 'fund free': np.int64(1847), 'free parking': np.int64(1805), 'parking nh': np.int64(3170), 'nh hospital': np.int64(3005), 'hospital staff': np.int64(2188), 'go work': np.int64(1930), 'pay parking': np.int64(3213), 'people still': np.int64(3273), 'free parking nh': np.int64(1806), 'parking nh staff': np.int64(3171), 'expense': np.int64(1593), 'allowance': np.int64(267), 'immediate': np.int64(2250), 'comprehensive': np.int64(920), 'afforded': np.int64(212), 'lack': np.int64(2477), 'transparency': np.int64(4571), 'accountability': np.int64(137), 'fairness': np.int64(1648), 'contributes': np.int64(977), 'elected': np.int64(1414), 'representative': np.int64(3804), 'trust': np.int64(4600), 'healthy': np.int64(2097), 'democracy': np.int64(1184), 'excessive': np.int64(1572), 'undermine': np.int64(4651), 'compensation': np.int64(910), 'legitimate': np.int64(2538), 'stricter': np.int64(4297), 'guideline': np.int64(2045), 'reporting': np.int64(3801), 'establish': np.int64(1528), 'transparent': np.int64(4572), 'framework': np.int64(1796), 'claim': np.int64(830), 'necessary': np.int64(2939), 'appropriate': np.int64(351), 'current system': np.int64(1101), 'elected representative': np.int64(1415), 'public trust': np.int64(3584), 'service': np.int64(4054), 'mostly': np.int64(2887), 'department': np.int64(1192), 'good': np.int64(1936), 'mainly': np.int64(2674), 'concerned': np.int64(925), 'moved': np.int64(2893), 'outside': np.int64(3122), 'preventing': np.int64(3448), 'making': np.int64(2711), 'available': np.int64(421), 'resident': np.int64(3830), 'commonly': np.int64(899), 'qualification': np.int64(3608), 'easily': np.int64(1374), 'accessible': np.int64(131), 'turn': np.int64(4607), 'boost': np.int64(556), 'customer service': np.int64(1108), 'good service': np.int64(1937), 'uk economy': np.int64(4625), 'uk resident': np.int64(4633), 'help need': np.int64(2123), 'normally': np.int64(3031), 'top': np.int64(4542), 'incident': np.int64(2289), 'high': np.int64(2142), 'ehcp': np.int64(1408), 'particularly': np.int64(3181), 'challenging': np.int64(746), 'struggle': np.int64(4304), 'understand': np.int64(4655), 'process': np.int64(3486), 'routine': np.int64(3910), 'ability': np.int64(98), 'socialise': np.int64(4176), 'might': np.int64(2841), 'fall': np.int64(1651), 'behind': np.int64(494), 'peer': np.int64(3231), 'started': np.int64(4250), 'child sen': np.int64(796), 'need provide': np.int64(2955), 'child would': np.int64(803), 'many child': np.int64(2732), 'able access': np.int64(100), 'participate': np.int64(3177), 'parliamentary': np.int64(3173), 'proceeding': np.int64(3485), 'vote': np.int64(4783), 'hybrid': np.int64(2230), 'virtual': np.int64(4768), 'voting': np.int64(4787), 'implemented': np.int64(2266), 'permanently': np.int64(3303), 'light': np.int64(2573), 'ongoing': np.int64(3088), 'reason': np.int64(3666), 'unable': np.int64(4640), 'physically': np.int64(3337), 'attend': np.int64(404), 'parliament': np.int64(3172), 'debate': np.int64(1143), 'constituent': np.int64(951), 'penalised': np.int64(3232), 'voice': np.int64(4778), 'house': np.int64(2205), 'common': np.int64(898), 'update': np.int64(4699), 'advantage': np.int64(190), 'technology': np.int64(4445), 'join': np.int64(2439), 'disability': np.int64(1260), 'illness': np.int64(2247), 'responsibility': np.int64(3841), 'near': np.int64(2936), 'london': np.int64(2625), 'house common': np.int64(2206), 'take advantage': np.int64(4406), 'mental': np.int64(2816), 'previously': np.int64(3452), 'undersigned': np.int64(4654), 'secondary': np.int64(3999), 'asking': np.int64(378), 'premium': np.int64(3430), 'however': np.int64(2212), 'knowledge': np.int64(2468), 'treated': np.int64(4586), 'priority': np.int64(3468), 'turned': np.int64(4608), 'away': np.int64(433), 'mental health': np.int64(2817), 'health support': np.int64(2090), 'government ensure': np.int64(1955), 'additional funding': np.int64(170), 'health act': np.int64(2076), 'health care': np.int64(2077), 'care service': np.int64(694), 'help prevent': np.int64(2125), 'mental health support': np.int64(2824), 'want government ensure': np.int64(4810), 'higher': np.int64(2149), 'list': np.int64(2594), 'vaccine': np.int64(4733), 'teacher': np.int64(4440), 'deal': np.int64(1139), 'sometimes': np.int64(4192), 'supermarket': np.int64(4356), 'cant': np.int64(656), 'key worker': np.int64(2455), 'day day': np.int64(1132), 'fishing': np.int64(1733), 'endangered': np.int64(1460), 'european': np.int64(1541), 'listed': np.int64(2596), 'specie': np.int64(4212), 'young': np.int64(4983), 'quantity': np.int64(3614), '150': np.int64(17), 'dramatically': np.int64(1332), 'thousand': np.int64(4498), 'black': np.int64(541), 'doesnt': np.int64(1307), 'soon': np.int64(4195), 'chance': np.int64(748), 'waterway': np.int64(4841), 'government must': np.int64(1974), 'must take': np.int64(2912), 'take action': np.int64(4405), 'recent year': np.int64(3682), 'introduce': np.int64(2399), 'mandatory': np.int64(2722), 'neutering': np.int64(2977), 'cat': np.int64(712), 'spain': np.int64(4203), 'introduced': np.int64(2406), 'compulsory': np.int64(922), 'six': np.int64(4142), 'unless': np.int64(4683), 'registered': np.int64(3739), 'breeding': np.int64(584), 'calling': np.int64(641), 'tackle': np.int64(4400), 'homeless': np.int64(2174), 'except': np.int64(1569), 'major': np.int64(2683), 'rescue': np.int64(3825), 'stray': np.int64(4287), 'owner': np.int64(3135), 'getting': np.int64(1911), 'allowing': np.int64(270), 'totally': np.int64(4545), 'control': np.int64(981), 'kitten': np.int64(2465), 'born': np.int64(557), 'wildlife': np.int64(4887), 'creating': np.int64(1066), 'come': np.int64(886), 'winter': np.int64(4892), 'die': np.int64(1240), 'controlled': np.int64(982), 'introduce mandatory': np.int64(2402), 'six month': np.int64(4143), 'calling government': np.int64(642), 'cat owner': np.int64(714), 'guidance': np.int64(2044), 'planning': np.int64(3354), 'section': np.int64(4004), 'external': np.int64(1615), 'agency': np.int64(220), 'material': np.int64(2762), 'mean': np.int64(2779), 'type': np.int64(4619), 'referred': np.int64(3723), 'promote': np.int64(3514), 'political': np.int64(3381), 'view': np.int64(4764), 'movement': np.int64(2894), 'matter': np.int64(2768), 'learning': np.int64(2515), 'produced': np.int64(3491), 'taught': np.int64(4422), 'simply': np.int64(4130), 'despite': np.int64(1209), 'fact': np.int64(1637), 'news': np.int64(2993), 'relevant': np.int64(3764), 'opportunity': np.int64(3100), 'politics': np.int64(3384), 'could prevent': np.int64(1020), 'slaughtered': np.int64(4151), 'meat': np.int64(2788), 'painful': np.int64(3150), 'slaughter': np.int64(4150), 'justified': np.int64(2448), 'religion': np.int64(3769), 'specialist': np.int64(4211), 'place': np.int64(3344), 'north': np.int64(3032), 'affecting': np.int64(207), 'vulnerable': np.int64(4790), 'say': np.int64(3948), 'theyre': np.int64(4482), 'authority': np.int64(413), 'something': np.int64(4191), 'seriously': np.int64(4050), 'mainstream': np.int64(2675), 'enough': np.int64(1484), 'fix': np.int64(1738), 'broken': np.int64(603), 'severe': np.int64(4071), 'teaching': np.int64(4442), 'assistant': np.int64(392), 'receive': np.int64(3672), 'desperately': np.int64(1207), 'school place': np.int64(3968), 'place child': np.int64(3345), 'child special': np.int64(798), 'special educational': np.int64(4207), 'educational need': np.int64(1396), 'country like': np.int64(1037), 'vulnerable child': np.int64(4791), 'child family': np.int64(786), 'mainstream school': np.int64(2676), 'school government': np.int64(3963), 'government funding': np.int64(1959), 'education system': np.int64(1394), 'special need': np.int64(4209), 'teaching assistant': np.int64(4443), 'school child': np.int64(3958), 'child need': np.int64(792), 'need help': np.int64(2951), 'help support': np.int64(2132), 'support government': np.int64(4364), 'duty care': np.int64(1355), 'desperately need': np.int64(1208), 'child special educational': np.int64(799), 'special educational need': np.int64(4208), 'covid': np.int64(1048), '19': np.int64(22), 'shown': np.int64(4108), 'majority': np.int64(2684), 'spoken': np.int64(4225), 'really': np.int64(3665), 'peace': np.int64(3227), 'apparent': np.int64(334), 'perhaps': np.int64(3297), 'isnt': np.int64(2426), 'possible': np.int64(3403), '90': np.int64(94), 'assist': np.int64(390), 'changed': np.int64(756), 'stress': np.int64(4291), 'way': np.int64(4842), 'shop': np.int64(4096), 'become': np.int64(484), 'main': np.int64(2673), 'shopping': np.int64(4097), 'week': np.int64(4850), 'happened': np.int64(2056), 'traffic': np.int64(4559), 'thus': np.int64(4512), 'reducing': np.int64(3716), 'emission': np.int64(1434), 'covid 19': np.int64(1049), 'many family': np.int64(2735), 'could done': np.int64(1013), 'law changed': np.int64(2503), 'day week': np.int64(1133), 'would reduce': np.int64(4957), 'retain': np.int64(3857), 'hmrc': np.int64(2161), 'self': np.int64(4021), 'assessment': np.int64(387), 'telephone': np.int64(4449), 'affair': np.int64(203), 'announced': np.int64(315), 'march': np.int64(2750), '30': np.int64(64), 'september': np.int64(4048), 'online': np.int64(3089), 'answer': np.int64(324), 'asked': np.int64(377), 'incorrect': np.int64(2304), 'resulting': np.int64(3854), 'government provide': np.int64(1984), 'every year': np.int64(1556), 'settled': np.int64(4068), 'status': np.int64(4261), 'election': np.int64(1416), 'allows': np.int64(271), 'lived': np.int64(2604), 'skilled': np.int64(4146), 'position': np.int64(3400), 'leave': np.int64(2520), 'regarding': np.int64(3733), 'settled status': np.int64(4069), 'uk parliament': np.int64(4630), 'government introduce': np.int64(1967), 'introduce legislation': np.int64(2401), 'leave pay': np.int64(2521), 'pay tax': np.int64(3217), 'government introduce legislation': np.int64(1968), 'temporary': np.int64(4455), 'tv': np.int64(4611), 'radio': np.int64(3629), 'advertisement': np.int64(196), 'gambling': np.int64(1878), 'advert': np.int64(194), 'corona': np.int64(990), 'virus': np.int64(4769), 'billion': np.int64(531), 'pound': np.int64(3412), 'completely': np.int64(916), 'inappropriate': np.int64(2286), 'advertising': np.int64(197), 'moment': np.int64(2875), 'money': np.int64(2877), 'aimed': np.int64(235), 'relief': np.int64(3768), 'minimise': np.int64(2851), 'depression': np.int64(1198), 'difficulty': np.int64(1252), 'cause': np.int64(723), 'far': np.int64(1660), 'obtain': np.int64(3058), 'corona virus': np.int64(991), 'difficult time': np.int64(1251), 'financial difficulty': np.int64(1707), 'automatically': np.int64(418), 'trigger': np.int64(4592), 'pm': np.int64(3373), 'office': np.int64(3070), 'prime': np.int64(3461), 'minister': np.int64(2854), 'either': np.int64(1410), 'removal': np.int64(3780), 'party': np.int64(3185), 'second': np.int64(3996), 'general': np.int64(1895), 'essential': np.int64(1525), 'circumstance': np.int64(823), 'power': np.int64(3414), 'leader': np.int64(2508), 'best': np.int64(519), 'mandate': np.int64(2721), 'third': np.int64(4494), 'decision': np.int64(1152), 'elect': np.int64(1413), 'therefore': np.int64(4481), 'prime minister': np.int64(3462), 'general election': np.int64(1896), 'warning': np.int64(4831), 'ptsd': np.int64(3562), 'diagnosis': np.int64(1236), 'panic': np.int64(3156), 'attack': np.int64(401), 'anxiety': np.int64(326), 'example': np.int64(1567), 'sexual': np.int64(4076), 'assault': np.int64(381), 'message': np.int64(2833), 'state': np.int64(4252), 'following': np.int64(1756), '3rd': np.int64(73), 'stating': np.int64(4258), 'similar': np.int64(4128), 'choose': np.int64(815), 'watching': np.int64(4838), 'make mandatory': np.int64(2701), 'trigger warning': np.int64(4593), 'enough time': np.int64(1485), 'sexual assault': np.int64(4077), 'give people': np.int64(1917), 'feel safe': np.int64(1685), 'want government make': np.int64(4814), 'math': np.int64(2766), 'course': np.int64(1041), 'inside': np.int64(2367), 'mortgage': np.int64(2886), 'thats': np.int64(4473), 'kid': np.int64(2457), 'know': np.int64(2466), 'cycle': np.int64(1111), 'brought': np.int64(604), 'citizen': np.int64(824), 'higher education': np.int64(2150), 'secondary school': np.int64(4000), 'thing like': np.int64(4485), 'pay bill': np.int64(3207), 'look child': np.int64(2634), 'child get': np.int64(787), 'dont know': np.int64(1324), 'electoral': np.int64(1417), 'start': np.int64(4249), 'order': np.int64(3106), 'better': np.int64(521), 'represent': np.int64(3802), 'fptp': np.int64(1794), 'two': np.int64(4616), 'largest': np.int64(2493), 'unfairly': np.int64(4664), 'voter': np.int64(4786), '2011': np.int64(33), 'offered': np.int64(3068), 'referendum': np.int64(3721), 'campaign': np.int64(647), 'turnout': np.int64(4609), 'reasonable': np.int64(3667), 'mind': np.int64(2848), 'electoral system': np.int64(1418), 'british public': np.int64(596), 'yearly': np.int64(4981), 'pension': np.int64(3234), 'pensioner': np.int64(3236), 'canada': np.int64(648), 'receiving': np.int64(3678), 'freeze': np.int64(1816), 'apply': np.int64(342), 'retire': np.int64(3859), 'united': np.int64(4672), 'recommended': np.int64(3690), 'state pension': np.int64(4253), 'british government': np.int64(594), 'government policy': np.int64(1980), 'many country': np.int64(2733), 'government take': np.int64(2001), 'equal': np.int64(1510), 'physical': np.int64(3332), 'injury': np.int64(2361), 'included': np.int64(2291), 'prescribed': np.int64(3435), 'executive': np.int64(1579), 'allocated': np.int64(258), 'inspection': np.int64(2368), 'investigation': np.int64(2413), 'reported': np.int64(3800), 'case': np.int64(709), 'requires': np.int64(3823), 'maintenance': np.int64(2679), 'employee': np.int64(1441), 'adequate': np.int64(176), 'regard': np.int64(3732), 'arrangement': np.int64(367), 'arent': np.int64(360), 'condition': np.int64(926), 'usually': np.int64(4729), 'prolonged': np.int64(3511), 'pressure': np.int64(3443), 'factor': np.int64(1638), 'rather': np.int64(3646), 'event': np.int64(1548), 'inconsistent': np.int64(2303), 'eg': np.int64(1406), 'cancer': np.int64(652), 'make mental': np.int64(2702), 'invasive': np.int64(2409), 'harmful': np.int64(2067), 'garden': np.int64(1882), 'exemption': np.int64(1583), 'historic': np.int64(2157), 'responsibly': np.int64(3843), 'already': np.int64(276), 'countryside': np.int64(1038), 'especially': np.int64(1523), 'forest': np.int64(1778), 'spend': np.int64(4221), 'aggressive': np.int64(223), 'poison': np.int64(3376), 'soil': np.int64(4181), 'tree': np.int64(4589), 'biodiversity': np.int64(535), 'introduction': np.int64(2408), 'encouraged': np.int64(1454), 'ban sale': np.int64(455), 'government ban': np.int64(1947), 'large amount': np.int64(2489), 'amount money': np.int64(296), 'government ban sale': np.int64(1948), 'measure': np.int64(2787), 'driving': np.int64(1341), 'candidate': np.int64(655), 'sign': np.int64(4118), 'transport': np.int64(4574), 'publish': np.int64(3586), 'assessed': np.int64(384), 'standard': np.int64(4245), 'backlog': np.int64(441), 'growing': np.int64(2038), 'book': np.int64(555), 'present': np.int64(3439), 'ridiculous': np.int64(3882), 'waiting': np.int64(4796), 'training': np.int64(4567), 'urgent': np.int64(4713), 'unrealistic': np.int64(4692), 'request': np.int64(3808), 'assistance': np.int64(391), 'creation': np.int64(1067), 'deliver': np.int64(1177), 'product': np.int64(3494), 'apps': np.int64(356), 'released': np.int64(3762), 'scam': np.int64(3951), 'driving test': np.int64(1342), 'general public': np.int64(1897), 'waiting list': np.int64(4797), 'consider': np.int64(943), 'estate': np.int64(1531), 'agent': np.int64(222), 'let': np.int64(2544), 'client': np.int64(846), 'safer': np.int64(3927), 'vaccinated': np.int64(4731), 'anyone': np.int64(328), 'roll': np.int64(3904), 'immediately': np.int64(2252), 'pause': np.int64(3203), 'delivering': np.int64(1179), 'quality': np.int64(3612), 'safeguarding': np.int64(3925), 'outcome': np.int64(3117), 'ofsted': np.int64(3075), 'intended': np.int64(2385), 'drive': np.int64(1338), 'improvement': np.int64(2282), 'single': np.int64(4132), 'word': np.int64(4910), 'rating': np.int64(3647), 'proper': np.int64(3517), 'appeal': np.int64(335), 'criterion': np.int64(1077), 'limiting': np.int64(2588), 'approach': np.int64(350), 'little': np.int64(2601), 'wellbeing': np.int64(4860), 'immense': np.int64(2253), 'independent review': np.int64(2332), 'fossil': np.int64(1786), '2025': np.int64(47), 'contributor': np.int64(980), 'global': np.int64(1922), 'warming': np.int64(4830), 'petition': np.int64(3321), 'encourage': np.int64(1452), 'renewable': np.int64(3785), 'everyday': np.int64(1558), 'experiencing': np.int64(1597), 'late': np.int64(2498), 'banned': np.int64(465), 'airline': np.int64(239), 'forced': np.int64(1774), 'find': np.int64(1714), 'cleaner': np.int64(842), 'lose': np.int64(2640), 'hopefully': np.int64(2181), 'follow': np.int64(1754), 'suit': np.int64(4346), 'clock': np.int64(855), 'reach': np.int64(3653), '15': np.int64(14), 'sustainable': np.int64(4391), 'cease': np.int64(730), 'fossil fuel': np.int64(1787), 'global warming': np.int64(1923), 'petition call': np.int64(3322), 'call government': np.int64(637), 'renewable energy': np.int64(3786), 'must act': np.int64(2905), 'alevel': np.int64(247), '18': np.int64(20), 'old': np.int64(3079), 'subject': np.int64(4322), 'math english': np.int64(2767), '18 year': np.int64(21), 'year old': np.int64(4975), 'think people': np.int64(4490), 'put place': np.int64(3604), 'make people': np.int64(2706), 'people dont': np.int64(3252), 'dont want': np.int64(1327), 'chancellor': np.int64(749), 'said': np.int64(3929), 'consumption': np.int64(960), '2030': np.int64(48), 'consumer': np.int64(956), 'save': np.int64(3942), '500': np.int64(79), 'lead': np.int64(2507), 'comment': np.int64(891), 'responsible': np.int64(3842), 'previous': np.int64(3451), 'government parliament': np.int64(1977), 'could save': np.int64(1024), 'like see': np.int64(2582), 'would like see': np.int64(4951), 'buying': np.int64(624), 'shelf': np.int64(4086), 'others': np.int64(3114), 'panic buying': np.int64(3157), 'stop people': np.int64(4279), 'allotment': np.int64(259), 'burning': np.int64(615), 'wood': np.int64(4908), 'rubbish': np.int64(3914), 'associated': np.int64(396), 'stuck': np.int64(4306), 'fresh': np.int64(1819), 'ever': np.int64(1550), 'reduction': np.int64(3717), 'fine': np.int64(1716), 'smoke': np.int64(4162), 'breathing': np.int64(578), 'poor': np.int64(3390), 'linked': np.int64(2592), 'covid19': np.int64(1051), 'critical': np.int64(1078), 'government bring': np.int64(1949), 'fresh air': np.int64(1820), 'air quality': np.int64(238), 'need able': np.int64(2942), 'kept': np.int64(2453), 'add': np.int64(163), 'regulate': np.int64(3743), 'date': np.int64(1124), 'export': np.int64(1604), 'restriction': np.int64(3850), 'imported': np.int64(2274), 'basis': np.int64(475), 'motor': np.int64(2889), 'vehicle': np.int64(4751), 'urge': np.int64(4709), 'animal welfare': np.int64(312), 'uk people': np.int64(4631), 'urge government': np.int64(4710), 'government set': np.int64(1998), 'restrict': np.int64(3847), 'lawful': np.int64(2506), 'agricultural': np.int64(228), 'land': np.int64(2482), 'town': np.int64(4550), 'certificate': np.int64(739), 'application': np.int64(339), 'adding': np.int64(166), 'install': np.int64(2369), '80': np.int64(92), 'container': np.int64(963), 'plastic': np.int64(3358), 'beautiful': np.int64(481), 'rare': np.int64(3639), 'proposal': np.int64(3524), 'agricultural land': np.int64(229), 'car parking': np.int64(671), 'use plastic': np.int64(4723), 'help save': np.int64(2128), 'deterrent': np.int64(1220), 'punishment': np.int64(3592), 'poorer': np.int64(3392), 'different': np.int64(1248), 'explain': np.int64(1600), 'discriminatory': np.int64(1276), 'exist': np.int64(1585), 'absolute': np.int64(115), 'adopt': np.int64(184), 'method': np.int64(2836), 'instance': np.int64(2372), 'offender': np.int64(3066), 'percentage': np.int64(3293), 'dependent': np.int64(1195), 'pas legislation': np.int64(3188), 'operate': np.int64(3095), 'break': np.int64(570), 'mentally': np.int64(2830), 'perform': np.int64(3294), 'lower': np.int64(2659), 'risk': np.int64(3894), 'busy': np.int64(620), 'schedule': np.int64(3954), 'overwhelmed': np.int64(3131), 'left': np.int64(2526), 'relax': np.int64(3760), 'serious': np.int64(4049), 'disorder': np.int64(1283), 'require school': np.int64(3816), 'improve mental': np.int64(2280), 'help child': np.int64(2117), 'health problem': np.int64(2083), 'make student': np.int64(2709), 'mental health problem': np.int64(2822), 'planting': np.int64(3357), 'cover': np.int64(1043), 'volunteer': np.int64(4782), 'clear': np.int64(844), 'threatening': np.int64(4501), 'native': np.int64(2933), 'shelter': np.int64(4087), 'conservation': np.int64(941), 'spread': np.int64(4228), 'unfortunately': np.int64(4665), 'shooting': np.int64(4095), 'helping': np.int64(2135), 'mistake': np.int64(2866), 'continuing': np.int64(971), 'irresponsible': np.int64(2422), 'practice': np.int64(3419), 'stopped': np.int64(4280), 'inflation': np.int64(2345), 'fairly': np.int64(1647), 'havent': np.int64(2072), 'rate': np.int64(3642), '23': np.int64(54), 'raised': np.int64(3634), 'entitled': np.int64(1499), 'later': np.int64(2499), 'reflect': np.int64(3724), 'consequence': np.int64(940), 'shortage': np.int64(4099), 'politician': np.int64(3383), 'respect': np.int64(3837), 'paying': np.int64(3221), 'line inflation': np.int64(2590), 'two year': np.int64(4618), 'year believe': np.int64(4971), 'culture': np.int64(1089), 'maternity': np.int64(2763), 'whether': np.int64(4874), 'midwife': np.int64(2840), 'nurse': np.int64(3047), 'experience': np.int64(1595), 'bullying': np.int64(613), 'andor': np.int64(299), 'false': np.int64(1653), 'allegation': np.int64(251), 'profession': np.int64(3501), 'service believe': np.int64(4055), 'believe government': np.int64(501), 'support worker': np.int64(4372), 'believe need': np.int64(503), 'budget': np.int64(606), 'destroying': np.int64(1212), 'farming': np.int64(1663), 'destroy': np.int64(1210), 'farm': np.int64(1661), 'promise': np.int64(3512), 'sun': np.int64(4352), 'destroyed': np.int64(1211), 'generation': np.int64(1901), 'farmer': np.int64(1662), 'family farm': np.int64(1656), 'next generation': np.int64(2996), 'freely': np.int64(1815), 'traveller': np.int64(4582), 'testing': np.int64(4468), 'arrival': np.int64(370), 'digital': np.int64(1253), 'requested': np.int64(3810), 'expensive': np.int64(1594), 'capped': np.int64(664), 'proportional': np.int64(3522), 'earnings': np.int64(1369), 'covid19 test': np.int64(1057), 'government reform': np.int64(1989), 'summer': np.int64(4349), 'move': np.int64(2892), 'powerful': np.int64(3416), 'travel': np.int64(4580), 'knowing': np.int64(2467), 'reliance': np.int64(3766), 'evening': np.int64(1547), 'people use': np.int64(3280), 'optional': np.int64(3105), 'chosen': np.int64(817), 'outdated': np.int64(3118), 'career': np.int64(700), 'writing': np.int64(4960), 'studying': np.int64(4320), 'etc': np.int64(1534), 'reading': np.int64(3659), 'opinion': np.int64(3099), 'thought': np.int64(4497), 'enjoy': np.int64(1482), 'young people': np.int64(4987), 'gcse student': np.int64(1893), 'big': np.int64(526), 'affected': np.int64(205), 'stand': np.int64(4244), 'profit': np.int64(3504), 'struggling': np.int64(4305), 'covid19 crisis': np.int64(1052), 'fund support': np.int64(1853), 'unacceptable': np.int64(4642), 'sick': np.int64(4110), 'park': np.int64(3167), 'step': np.int64(4271), 'sky': np.int64(4149), 'nation': np.int64(2917), 'hero': np.int64(2138), 'free nh': np.int64(1804), 'nh worker': np.int64(3014), 'provide funding': np.int64(3554), 'place work': np.int64(3346), 'people working': np.int64(3283), 'save life': np.int64(3943), 'sick pay': np.int64(4112), 'pay park': np.int64(3212), 'cost living': np.int64(1004), 'least one': np.int64(2519), 'government provide funding': np.int64(1985), '201920': np.int64(41), 'premier': np.int64(3427), 'league': np.int64(2512), 'season': np.int64(3994), 'completed': np.int64(915), 'force': np.int64(1773), 'complete': np.int64(914), 'remaining': np.int64(3775), 'game': np.int64(1879), 'confirmed': np.int64(932), 'match': np.int64(2761), 'played': np.int64(3366), 'closed': np.int64(857), 'door': np.int64(1328), 'looking': np.int64(2636), 'increasingly': np.int64(2322), 'likely': np.int64(2583), 'cancel': np.int64(650), 'emotion': np.int64(1435), 'fan': np.int64(1659), 'player': np.int64(3367), 'gross': np.int64(2033), 'highest': np.int64(2152), 'total': np.int64(4544), 'history': np.int64(2158), 'title': np.int64(4531), 'cup': np.int64(1090), 'premier league': np.int64(3428), 'permanent': np.int64(3302), 'across': np.int64(145), 'owned': np.int64(3134), 'incentivise': np.int64(2288), 'panel': np.int64(3155), 'expert': np.int64(1599), 'recommend': np.int64(3688), 'govt': np.int64(2006), 'design': np.int64(1202), 'scale': np.int64(3950), 'diverse': np.int64(1300), 'prevention': np.int64(3449), 'flooding': np.int64(1745), 'healthier': np.int64(2096), 'unethical': np.int64(4662), 'cheap': np.int64(767), 'greater': np.int64(2020), 'introduce national': np.int64(2403), 'across uk': np.int64(148), 'uk public': np.int64(4632), 'quality life': np.int64(3613), '2021': np.int64(43), 'claiming': np.int64(835), 'progress': np.int64(3508), 'weve': np.int64(4866), 'reality': np.int64(3664), 'stigma': np.int64(4272), 'towards': np.int64(4549), 'change way': np.int64(754), 'dont believe': np.int64(1322), 'people know': np.int64(3259), 'city': np.int64(827), 'outbreak': np.int64(3116), 'covid19 outbreak': np.int64(1055), 'staff work': np.int64(4240), 'work home': np.int64(4914), 'travel work': np.int64(4581), 'public transport': np.int64(3583), 'report': np.int64(3799), 'sent': np.int64(4042), 'losing': np.int64(2641), 'review nh': np.int64(3872), 'people need': np.int64(3271), 'need take': np.int64(2958), '247': np.int64(56), 'running': np.int64(3918), 'ae': np.int64(202), 'difference': np.int64(1247), 'government give': np.int64(1960), 'government stop': np.int64(1999), 'want government stop': np.int64(4818), 'impose': np.int64(2275), 'replacing': np.int64(3798), 'intention': np.int64(2388), 'appointed': np.int64(344), '35': np.int64(70), 'held': np.int64(2111), 'taking': np.int64(4415), 'took': np.int64(4540), 'replace': np.int64(3795), 'leadership': np.int64(2509), 'economic': np.int64(1384), 'challenge': np.int64(745), 'internal': np.int64(2392), 'administration': np.int64(182), 'announcement': np.int64(316), 'aim': np.int64(234), 'discourage': np.int64(1272), 'electorate': np.int64(1419), 'democratic': np.int64(1185), 'new requirement': np.int64(2986), 'government put': np.int64(1986), 'cap': np.int64(659), 'fee': np.int64(1677), 'managing': np.int64(2719), 'easier': np.int64(1373), 'manage': np.int64(2715), 'finance': np.int64(1703), 'possibly': np.int64(3404), 'sure': np.int64(4377), 'building': np.int64(608), 'earn': np.int64(1365), 'monthly': np.int64(2882), 'charged': np.int64(763), 'equivalent': np.int64(1519), 'rent': np.int64(3787), 'owning': np.int64(3137), 'service charge': np.int64(4056), 'make sure': np.int64(2710), 'delay': np.int64(1175), 'grant': np.int64(2014), 'purchase': np.int64(3595), 'timing': np.int64(4528), 'poorly': np.int64(3393), 'electric': np.int64(1420), '3000': np.int64(68), 'government announced': np.int64(1946), 'electric car': np.int64(1421), 'immediate effect': np.int64(2251), 'covid19 lockdown': np.int64(1054), 'diet': np.int64(1245), 'tobacco': np.int64(4532), 'minor': np.int64(2857), 'seller': np.int64(4031), 'verify': np.int64(4756), 'buyer': np.int64(623), 'advertised': np.int64(195), 'eating': np.int64(1379), 'society': np.int64(4178), 'deter': np.int64(1218), 'developing': np.int64(1227), 'introduce law': np.int64(2400), 'social medium': np.int64(4171), 'eating disorder': np.int64(1380), 'help protect': np.int64(2126), 'million people': np.int64(2846), 'people uk': np.int64(3279), 'million people uk': np.int64(2847), 'terminally': np.int64(4462), 'ill': np.int64(2245), 'scotland': np.int64(3980), 'wale': np.int64(4800), 'focus': np.int64(1751), 'constantly': np.int64(949), 'worry': np.int64(4932), 'prevents': np.int64(3450), 'whose': np.int64(4879), 'doctor': np.int64(1304), 'wont': np.int64(4907), 'terminally ill': np.int64(4463), 'government remove': np.int64(1990), 'people already': np.int64(3243), 'england wale': np.int64(1478), 'zero': np.int64(4992), 'bj': np.int64(540), '2016': np.int64(37), 'damaging': np.int64(1116), 'october': np.int64(3064), 'disproportionately': np.int64(1291), 'told': np.int64(4538), 'cutting': np.int64(1110), 'mitigate': np.int64(2868), 'energy price': np.int64(1469), 'price cap': np.int64(3454), 'want government take': np.int64(4819), 'bird': np.int64(536), 'past': np.int64(3194), 'placing': np.int64(3349), 'red': np.int64(3703), 'permitted': np.int64(3306), 'involved': np.int64(2417), 'wish': np.int64(4896), 'kind': np.int64(2462), 'primary': np.int64(3457), 'revenue': np.int64(3868), 'exercise': np.int64(1584), 'comply': np.int64(919), 'extinction': np.int64(1616), 'survival': np.int64(4383), '20 year': np.int64(27), 'golf': np.int64(1933), 'maintain': np.int64(2677), 'lifestyle': np.int64(2568), 'walking': np.int64(4802), 'play': np.int64(3365), 'socially': np.int64(4177), 'manner': np.int64(2724), 'alone': np.int64(273), 'sport': np.int64(4226), 'golf course': np.int64(1934), 'family member': np.int64(1658), 'uc': np.int64(4620), 'universal': np.int64(4675), 'credit': np.int64(1070), '2022': np.int64(44), 'sadly': np.int64(3922), 'furlough': np.int64(1871), 'supported': np.int64(4373), 'thank': np.int64(4472), 'universal credit': np.int64(4676), 'obesity': np.int64(3056), 'skill': np.int64(4145), 'eat': np.int64(1378), 'highly': np.int64(2155), 'processed': np.int64(3487), 'meal': np.int64(2778), 'practical': np.int64(3418), 'strong': np.int64(4300), 'diabetes': np.int64(1233), 'primary school': np.int64(3458), 'school help': np.int64(3964), 'health wellbeing': np.int64(2092), 'government said': np.int64(1995), 'health issue': np.int64(2081), 'mental health issue': np.int64(2821), '11': np.int64(7), 'everything': np.int64(1560), 'taken': np.int64(4413), 'leaver': np.int64(2522), '12': np.int64(8), 'spent': np.int64(4224), 'childhood': np.int64(809), 'year 11': np.int64(4968), 'last month': np.int64(2495), 'exam result': np.int64(1565), 'retailer': np.int64(3856), 'register': np.int64(3738), 'selling': np.int64(4032), 'elderly': np.int64(1411), 'ie': np.int64(2242), 'utility': np.int64(4730), 'limited': np.int64(2587), 'round': np.int64(3908), 'member public': np.int64(2808), 'protect public': np.int64(3539), 'emergency service': np.int64(1433), 'year round': np.int64(4976), 'obligation': np.int64(3057), 'selfisolate': np.int64(4028), 'considering': np.int64(946), 'ending': np.int64(1461), 'unlikely': np.int64(4685), 'isolate': np.int64(2428), 'accept': np.int64(123), 'absence': np.int64(113), 'anymore': np.int64(327), 'meet': np.int64(2803), 'immune': np.int64(2255), 'infected': np.int64(2343), 'devastating': np.int64(1223), 'people may': np.int64(3268), 'long covid': np.int64(2629), 'called': np.int64(640), 'programme': np.int64(3506), 'truly': np.int64(4599), 'call general': np.int64(635), 'want parliament': np.int64(4821), 'call general election': np.int64(636), 'trading': np.int64(4557), 'overall': np.int64(3124), 'extending': np.int64(1611), 'strain': np.int64(4285), 'sunday trading': np.int64(4354), 'government extend': np.int64(1956), 'believe would': np.int64(507), 'time many': np.int64(4521), 'pandemic government': np.int64(3154), 'eu': np.int64(1537), 'accident': np.int64(133), 'rapidly': np.int64(3638), 'user': np.int64(4727), 'less likely': np.int64(2542), 'supply': np.int64(4358), 'recovery': np.int64(3696), 'solar': np.int64(4182), 'wind': np.int64(4890), 'turbine': np.int64(4606), 'larger': np.int64(2492), 'contribute': np.int64(975), 'clean': np.int64(840), 'solar panel': np.int64(4183), 'could also': np.int64(1011), 'also reduce': np.int64(282), 'privacy': np.int64(3471), 'pe': np.int64(3226), 'allow child': np.int64(261), 'prioritise': np.int64(3466), 'build': np.int64(607), 'modern': np.int64(2874), 'visitor': np.int64(4774), 'queen': np.int64(3617), 'paper': np.int64(3158), 'published': np.int64(3587), 'board': np.int64(547), 'holding': np.int64(2166), 'roof': np.int64(3906), 'welcome': np.int64(4854), 'adequately': np.int64(177), 'address': np.int64(173), 'heart': np.int64(2102), 'role': np.int64(3903), 'region': np.int64(3736), 'integrated': np.int64(2383), 'meet need': np.int64(2804), 'ensure safety': np.int64(1490), 'care system': np.int64(697), 'dna': np.int64(1303), 'honey': np.int64(2178), 'fraud': np.int64(1798), 'producer': np.int64(3492), 'fail': np.int64(1640), 'genuine': np.int64(1903), 'deserves': np.int64(1201), 'preserve': np.int64(3441), 'integrity': np.int64(2384), 'flood': np.int64(1744), 'sugar': np.int64(4341), 'catch': np.int64(717), 'protecting': np.int64(3543), 'livelihood': np.int64(2605), 'maintaining': np.int64(2678), 'competition': np.int64(912), 'advanced': np.int64(189), 'uphold': np.int64(4701), 'bring forward': np.int64(589), 'closure': np.int64(860), 'celebrate': np.int64(731), 'tough': np.int64(4546), 'trying': np.int64(4603), 'new year': np.int64(2990), 'rid': np.int64(3879), 'science': np.int64(3977), 'disadvantage': np.int64(1266), 'conduct': np.int64(927), 'tested': np.int64(4466), 'properly': np.int64(3518), 'distancing': np.int64(1294), 'applied': np.int64(340), 'teach': np.int64(4439), 'entirely': np.int64(1498), 'gcse exam': np.int64(1891), 'across country': np.int64(146), 'would mean': np.int64(4953), 'current year': np.int64(1102), 'due lack': np.int64(1352), 'social distancing': np.int64(4170), 'time student': np.int64(4524), 'hold': np.int64(2162), 'mayor': np.int64(2776), 'assembly': np.int64(382), 'person': np.int64(3308), 'hold referendum': np.int64(2164), 'mayor london': np.int64(2777), 'government hold': np.int64(1963), 'one person': np.int64(3085), 'best interest': np.int64(520), 'would better': np.int64(4943), 'suspend': np.int64(4387), 'taxation': np.int64(4432), 'liability': np.int64(2550), 'payment': np.int64(3223), 'decided': np.int64(1151), 'name': np.int64(2915), 'representation': np.int64(3803), 'dedicated': np.int64(1159), 'research': np.int64(3827), 'drug': np.int64(1346), 'decade': np.int64(1146), 'mum': np.int64(2901), 'suffer': np.int64(4334), 'horrendous': np.int64(2183), 'mother': np.int64(2888), 'horrific': np.int64(2184), 'pain': np.int64(3148), 'caused': np.int64(727), 'debilitating': np.int64(1144), 'daughter': np.int64(1126), '10': np.int64(0), 'disease': np.int64(1279), 'cure': np.int64(1091), 'childhood cancer': np.int64(810), 'must ensure': np.int64(2908), 'uk need': np.int64(4629), '10 year': np.int64(2), 'year age': np.int64(4969), 'half': np.int64(2050), 'tired': np.int64(4530), 'wouldnt': np.int64(4958), 'actual': np.int64(159), 'school make': np.int64(3966), 'vet': np.int64(4757), 'negligence': np.int64(2966), 'search': np.int64(3993), 'check': np.int64(769), 'several': np.int64(4070), 'bad': np.int64(442), 'royal': np.int64(3912), 'college': np.int64(881), 'veterinary': np.int64(4759), 'professional': np.int64(3502), 'civil': np.int64(828), 'decent': np.int64(1149), 'ensure people': np.int64(1489), 'would help': np.int64(4947), 'help people': np.int64(2124), 'government take action': np.int64(2002), 'night': np.int64(3018), 'lighting': np.int64(2574), 'energy crisis': np.int64(1468), 'must stop': np.int64(2911), 'europe': np.int64(1540), 'britain': np.int64(591), 'ireland': np.int64(2420), 'via': np.int64(4760), 'supplier': np.int64(4357), 'wearing': np.int64(4847), 'neighbour': np.int64(2967), 'argument': np.int64(361), 'treat': np.int64(4585), 'behaviour': np.int64(493), 'lot': np.int64(2644), 'worrying': np.int64(4933), 'state school': np.int64(4255), 'young adult': np.int64(4984), '2024': np.int64(46), 'strike': np.int64(4298), 'ofqual': np.int64(3074), 'intervention': np.int64(2397), 'advance': np.int64(188), 'grading': np.int64(2012), 'cohort': np.int64(873), 'disruption': np.int64(1292), 'appalling': np.int64(333), 'expectation': np.int64(1591), 'sit': np.int64(4138), 'examination': np.int64(1566), 'implementing': np.int64(2267), 'along': np.int64(274), 'extreme': np.int64(1621), 'hope': np.int64(2180), 'witnessed': np.int64(4904), 'gcse alevel': np.int64(1890), 'impact covid19': np.int64(2258), 'government work': np.int64(2005), 'exam board': np.int64(1564), 'year 10': np.int64(4967), 'form': np.int64(1781), 'unsuitable': np.int64(4696), 'prepare': np.int64(3431), 'racing': np.int64(3626), 'analysis': np.int64(297), 'text': np.int64(4469), 'copy': np.int64(988), 'memory': np.int64(2810), 'furthermore': np.int64(1873), 'expected': np.int64(1592), 'degree': np.int64(1174), 'beyond': np.int64(524), 'could make': np.int64(1018), 'childcare': np.int64(806), 'achieve': np.int64(140), 'deprived': np.int64(1199), 'rely': np.int64(3771), 'year setting': np.int64(4977), 'increase minimum': np.int64(2309), 'minimum wage': np.int64(2853), 'funding needed': np.int64(1864), 'remain open': np.int64(3774), 'help reduce': np.int64(2127), 'early year setting': np.int64(1364), 'hamster': np.int64(2051), 'cage': np.int64(628), 'inadequate': np.int64(2285), 'smaller': np.int64(4158), 'causing': np.int64(728), 'stressful': np.int64(4294), 'neglect': np.int64(2964), 'pet shop': np.int64(3318), 'unnecessary suffering': np.int64(4688), 'firework': np.int64(1720), 'display': np.int64(1285), 'dog': np.int64(1308), 'rabbit': np.int64(3623), 'wild': np.int64(4885), 'suffers': np.int64(4338), 'seizure': np.int64(4018), 'try': np.int64(4602), 'being': np.int64(495), 'ban firework': np.int64(452), 'firework display': np.int64(1722), 'public display': np.int64(3568), 'dog cat': np.int64(1312), 'wild animal': np.int64(4886), 'pregnancy': np.int64(3423), 'scan': np.int64(3952), 'nearly': np.int64(2938), '400': np.int64(75), 'accurate': np.int64(139), 'screening': np.int64(3987), 'syndrome': np.int64(4396), 'pregnant': np.int64(3424), 'woman': np.int64(4905), 'diagnostic': np.int64(1238), 'carry': np.int64(707), 'miscarriage': np.int64(2860), 'available nh': np.int64(422), 'pregnant woman': np.int64(3425), 'proof': np.int64(3516), 'vaccination': np.int64(4732), 'healthcare': np.int64(2093), 'ensures': np.int64(1492), 'medical': np.int64(2790), 'receives': np.int64(3677), 'placed': np.int64(3347), 'arrest': np.int64(369), 'contact': np.int64(961), 'alive': np.int64(250), 'longer': np.int64(2631), 'balanced': np.int64(446), 'carers': np.int64(702), 'home resident': np.int64(2173), 'care staff': np.int64(695), 'help keep': np.int64(2120), 'homework': np.int64(2176), 'missed': np.int64(2864), 'conducted': np.int64(928), 'university': np.int64(4678), 'sleep': np.int64(4152), 'finally': np.int64(1702), 'article': np.int64(372), '31': np.int64(69), 'un': np.int64(4639), 'leisure': np.int64(2539), 'activity': np.int64(158), 'abolished': np.int64(111), 'could result': np.int64(1023), 'loan': np.int64(2615), 'debt': np.int64(1145), 'employed': np.int64(1439), 'seen': np.int64(4016), 'overseas': np.int64(3127), 'valued': np.int64(4737), 'gap': np.int64(1881), 'ultimately': np.int64(4638), 'student loan': np.int64(4311), 'service want': np.int64(4062), 'doctor nurse': np.int64(1305), 'many nh': np.int64(2737), 'help improve': np.int64(2119), 'gang': np.int64(1880), 'refused': np.int64(3730), 'epidemic': np.int64(1508), 'picture': np.int64(3339), 'true': np.int64(4598), 'public interest': np.int64(3573), 'government review': np.int64(1994), 'offer': np.int64(3067), '25': np.int64(57), 'listen': np.int64(2597), 'refusing': np.int64(3731), 'count': np.int64(1032), 'medical staff': np.int64(2794), 'limit': np.int64(2584), 'item': np.int64(2434), 'alarm': np.int64(242), 'mobile': np.int64(2870), 'legally': np.int64(2533), 'unreasonable': np.int64(4693), 'hygiene': np.int64(2231), 'formula': np.int64(1784), 'milk': np.int64(2844), 'sold': np.int64(4184), 'per': np.int64(3285), 'baby': np.int64(435), 'disabled': np.int64(1262), 'aware': np.int64(430), 'walk': np.int64(4801), 'stockpiling': np.int64(4275), 'antisocial': np.int64(325), 'essential item': np.int64(1526), 'time crisis': np.int64(4519), 'foundation': np.int64(1791), 'childrens': np.int64(812), 'parental': np.int64(3164), 'relationship': np.int64(3757), 'brain': np.int64(566), 'develop': np.int64(1224), 'personnel': np.int64(3313), 'falling': np.int64(1652), 'improved': np.int64(2281), 'military': np.int64(2843), 'hugely': np.int64(2217), 'sufficiently': np.int64(4340), 'funded': np.int64(1855), 'funding nh': np.int64(1865), 'health service': np.int64(2087), 'increase nh': np.int64(2310), 'nh funding': np.int64(3004), 'service nh': np.int64(4059), 'nh mental': np.int64(3006), 'health condition': np.int64(2078), 'increase funding nh': np.int64(2308), 'mental health service': np.int64(2823), 'nh mental health': np.int64(3007), 'mental health condition': np.int64(2818), 'fighting': np.int64(1695), 'relying': np.int64(3772), 'frontline': np.int64(1828), 'parking charge': np.int64(3169), 'charge nh': np.int64(761), 'government support': np.int64(2000), 'housing': np.int64(2211), 'element': np.int64(1425), 'calculated': np.int64(630), 'arrears': np.int64(368), 'association': np.int64(397), 'missing': np.int64(2865), 'per week': np.int64(3290), 'people go': np.int64(3256), 'day year': np.int64(1134), 'assisted': np.int64(393), 'dying': np.int64(1358), '29': np.int64(62), 'tragedy': np.int64(4561), 'box': np.int64(564), 'moral': np.int64(2883), 'story': np.int64(4284), 'boundary': np.int64(561), 'loved': np.int64(2652), 'protected': np.int64(3541), 'burden': np.int64(614), 'love': np.int64(2651), 'killing': np.int64(2461), 'assisted dying': np.int64(394), 'please sign': np.int64(3371), 'financial pressure': np.int64(1710), 'battery': np.int64(476), 'storage': np.int64(4282), 'greener': np.int64(2025), 'enabling': np.int64(1449), 'smart': np.int64(4159), 'footprint': np.int64(1772), 'grid': np.int64(2030), 'unsustainable': np.int64(4697), 'addressing': np.int64(175), 'countless': np.int64(1035), 'save money': np.int64(3944), 'carbon footprint': np.int64(678), 'one way': np.int64(3086), 'requiring': np.int64(3824), 'foster': np.int64(1788), 'quick': np.int64(3619), 'successful': np.int64(4332), 'happy': np.int64(2059), 'wealthy': np.int64(4844), 'idea': np.int64(2236), 'attempt': np.int64(403), 'union': np.int64(4669), 'discus': np.int64(1277), 'threatens': np.int64(4502), 'expression': np.int64(1608), 'financial support': np.int64(1712), 'crisis government': np.int64(1076), 'financial assistance': np.int64(1705), 'trap': np.int64(4576), 'snare': np.int64(4166), 'kill': np.int64(2459), 'trapped': np.int64(4577), 'chain': np.int64(744), 'quite': np.int64(3622), 'caught': np.int64(722), 'endure': np.int64(1463), 'escape': np.int64(1522), 'slow': np.int64(4154), 'victim': np.int64(4762), 'killed': np.int64(2460), 'government pas': np.int64(1978), 'pas law': np.int64(3187), 'food chain': np.int64(1759), 'custom': np.int64(1106), 'relative': np.int64(3758), 'gift': np.int64(1912), 'usa': np.int64(4719), 'disgusting': np.int64(1281), 'abroad': np.int64(112), 'uk would': np.int64(4636), 'time year': np.int64(4526), 'trophy': np.int64(4597), 'hunting': np.int64(2227), 'entertainment': np.int64(1496), 'commitment': np.int64(895), 'cruel': np.int64(1084), 'exploitation': np.int64(1601), 'today': np.int64(4533), 'account': np.int64(136), 'natural': np.int64(2934), 'continues': np.int64(970), 'involves': np.int64(2418), 'fun': np.int64(1844), 'uni': np.int64(4667), 'involving': np.int64(2419), 'male': np.int64(2712), 'environmental': np.int64(1504), 'around world': np.int64(365), 'latest': np.int64(2500), 'daily': np.int64(1112), 'tell': np.int64(4451), 'discrimination': np.int64(1275), 'aged': np.int64(219), 'older': np.int64(3080), 'reconsider': np.int64(3691), 'employer': np.int64(1442), 'get paid': np.int64(1910), 'menopause': np.int64(2813), 'hormone': np.int64(2182), 'inform': np.int64(2348), 'replacement': np.int64(3797), 'decide': np.int64(1150), 'funding ensure': np.int64(1858), 'sanitary': np.int64(3939), 'sanitary product': np.int64(3940), 'free sanitary': np.int64(1808), 'many woman': np.int64(2746), 'diversity': np.int64(1301), 'driven': np.int64(1339), 'employment': np.int64(1443), 'isolation': np.int64(2431), 'acknowledge': np.int64(144), 'south': np.int64(4201), 'facing': np.int64(1636), 'emotional': np.int64(1436), 'secretary': np.int64(4002), 'communicate': np.int64(900), 'offset': np.int64(3073), 'many parent': np.int64(2739), 'working parent': np.int64(4925), 'school setting': np.int64(3970), 'court': np.int64(1042), 'lord': np.int64(2639), 'ordinary': np.int64(3108), 'undemocratic': np.int64(4646), 'carrying': np.int64(708), 'danger': np.int64(1117), 'style': np.int64(4321), 'strengthen': np.int64(4290), 'net': np.int64(2969), 'gain': np.int64(1876), 'february': np.int64(1675), 'site': np.int64(4139), 'achieved': np.int64(141), 'implementation': np.int64(2265), 'ask': np.int64(375), '16': np.int64(18), 'ask government': np.int64(376), 'government reduce': np.int64(1988), 'order protect': np.int64(3107), 'climate emergency': np.int64(850), 'childminders': np.int64(811), 'uncertain': np.int64(4644), 'nursery': np.int64(3049), 'welsh': np.int64(4861), 'ratio': np.int64(3648), 'entire': np.int64(1497), 'stability': np.int64(4236), 'link': np.int64(2591), 'welsh government': np.int64(4862), 'child school': np.int64(795), 'household income': np.int64(2210), 'support family': np.int64(4363), 'hrt': np.int64(2214), 'medication': np.int64(2796), 'need make': np.int64(2953), 'make change': np.int64(2686), 'four': np.int64(1792), 'performing': np.int64(3296), 'art': np.int64(371), 'workforce': np.int64(4919), 'creative': np.int64(1068), 'subsidy': np.int64(4327), 'equality': np.int64(1511), 'ten': np.int64(4456), 'package': np.int64(3141), 'promised': np.int64(3513), 'directly': np.int64(1258), 'severely': np.int64(4072), 'selfemployed': np.int64(4026), 'recover': np.int64(3695), 'financial help': np.int64(1709), 'ten thousand': np.int64(4457), 'return work': np.int64(3864), 'revoke': np.int64(3876), 'importance': np.int64(2270), 'beneficial': np.int64(511), 'make easier': np.int64(2691), 'tuition': np.int64(4604), 'financially': np.int64(1713), 'starting': np.int64(4251), 'nursing': np.int64(3050), 'shift': np.int64(4089), 'bursary': np.int64(616), 'student nurse': np.int64(4314), 'tuition fee': np.int64(4605), 'fee student': np.int64(1679), 'revise': np.int64(3875), 'regulatory': np.int64(3747), 'ppe': np.int64(3417), 'reusable': np.int64(3867), 'face': np.int64(1627), 'mask': np.int64(2757), 'designed': np.int64(1204), 'industrial': np.int64(2338), 'fit': np.int64(1734), 'suitable': np.int64(4347), 'developed': np.int64(1225), 'accepted': np.int64(125), 'secure': np.int64(4008), 'face mask': np.int64(1630), 'fit purpose': np.int64(1735), 'shut': np.int64(4109), 'companion': np.int64(903), 'detrimental': np.int64(1222), 'staying': np.int64(4269), 'indoors': np.int64(2337), 'let alone': np.int64(2545), 'government recognise': np.int64(1987), 'companion animal': np.int64(904), 'people mental': np.int64(3269), 'dont need': np.int64(1325), 'think would': np.int64(4492), 'people feel': np.int64(3253), 'able get': np.int64(103), 'people mental health': np.int64(3270), 'christmas': np.int64(818), 'december': np.int64(1148), 'accommodation': np.int64(134), 'im': np.int64(2248), 'excluded': np.int64(1577), 'didnt': np.int64(1239), 'stay': np.int64(4267), 'many student': np.int64(2744), 'required pay': np.int64(3821), 'extra funding': np.int64(1619), 'bed': np.int64(487), 'discharge': np.int64(1270), 'alleviate': np.int64(255), 'ambulance': np.int64(289), 'peak': np.int64(3228), 'particular': np.int64(3179), 'afford': np.int64(208), 'travelling': np.int64(4583), 'classroom': np.int64(838), '10 day': np.int64(1), 'term time': np.int64(4459), 'child young': np.int64(804), 'people take': np.int64(3277), 'take child': np.int64(4408), 'school term': np.int64(3973), 'child young people': np.int64(805), 'loud': np.int64(2648), 'bang': np.int64(462), 'noise': np.int64(3020), 'november': np.int64(3039), '5th': np.int64(85), 'enter': np.int64(1494), 'horse': np.int64(2185), 'organised': np.int64(3112), 'venue': np.int64(4754), 'loud firework': np.int64(2649), 'cause unnecessary': np.int64(726), 'one day': np.int64(3083), 'loud noise': np.int64(2650), 'hourly': np.int64(2204), 'block': np.int64(544), 'cabin': np.int64(625), 'delayed': np.int64(1176), 'wider': np.int64(4883), 'range': np.int64(3636), 'also need': np.int64(280), 'statutory': np.int64(4262), 'returning': np.int64(3866), 'necessity': np.int64(2940), 'increase statutory': np.int64(2316), 'statutory maternity': np.int64(4263), 'maternity pay': np.int64(2765), 'cant afford': np.int64(657), 'afford pay': np.int64(209), 'believe could': np.int64(499), 'able afford': np.int64(101), 'statutory maternity pay': np.int64(4264), 'becomes': np.int64(485), 'unique': np.int64(4670), 'would benefit': np.int64(4942), 'imposed': np.int64(2276), 'rationing': np.int64(3650), 'limitation': np.int64(2586), 'bulk': np.int64(610), 'cleaning': np.int64(843), 'channel': np.int64(758), 'supply chain': np.int64(4359), 'action taken': np.int64(155), 'hit': np.int64(2159), 'window': np.int64(4891), 'frontline nh': np.int64(1829), 'quarantine': np.int64(3615), 'visiting': np.int64(4773), 'hotel': np.int64(2193), 'deducted': np.int64(1161), 'annual': np.int64(317), 'supporting': np.int64(4374), 'separated': np.int64(4047), 'prospect': np.int64(3529), 'hotel quarantine': np.int64(2194), 'fully vaccinated': np.int64(1843), 'annual leave': np.int64(318), 'uk many': np.int64(4628), 'many case': np.int64(2731), 'spend time': np.int64(4222), 'loved one': np.int64(2653), 'collection': np.int64(880), 'import': np.int64(2269), 'refuse': np.int64(3729), 'ship': np.int64(4090), 'worked': np.int64(4917), 'bbc': np.int64(478), 'bike': np.int64(529), 'cafe': np.int64(627), 'restaurant': np.int64(3845), 'dispose': np.int64(1289), 'hot': np.int64(2192), 'establishment': np.int64(1530), 'predicted': np.int64(3421), 'grade': np.int64(2010), 'meant': np.int64(2785), 'trauma': np.int64(4578), 'predicted grade': np.int64(3422), 'mean many': np.int64(2780), 'give student': np.int64(1918), 'remains': np.int64(3776), 'default': np.int64(1165), 'asset': np.int64(389), 'prior': np.int64(3465), 'created': np.int64(1064), 'agreement': np.int64(227), 'contribution': np.int64(979), 'change law': np.int64(752), 'law protect': np.int64(2505), 'preschool': np.int64(3434), 'regardless': np.int64(3734), 'propose': np.int64(3525), 'agree': np.int64(225), 'website': np.int64(4849), '30 hour': np.int64(65), 'hour per': np.int64(2201), '15 hour': np.int64(15), 'hour free': np.int64(2199), 'free childcare': np.int64(1801), 'child age': np.int64(778), 'sign petition': np.int64(4119), 'must made': np.int64(2909), 'made available': np.int64(2671), 'hour free childcare': np.int64(2200), 'visa': np.int64(4770), 'path': np.int64(3199), 'meeting': np.int64(2805), 'home fee': np.int64(2171), 'fee status': np.int64(1678), 'uk citizen': np.int64(4623), 'home fee status': np.int64(2172), 'ulez': np.int64(4637), 'congestion': np.int64(936), 'zone': np.int64(4998), '24': np.int64(55), 'option': np.int64(3103), 'model': np.int64(2873), 'trained': np.int64(4565), 'group': np.int64(2036), 'funding school': np.int64(1867), 'reinstate': np.int64(3752), 'onto': np.int64(3092), 'undertake': np.int64(4658), 'drop': np.int64(1344), 'gcse level': np.int64(1892), 'also mean': np.int64(279), 'repayment': np.int64(3791), 'simple': np.int64(4129), '12 month': np.int64(9), 'bereavement': np.int64(517), 'appointment': np.int64(345), 'surgery': np.int64(4379), 'compassionate': np.int64(908), 'balance': np.int64(445), 'granted': np.int64(2015), 'addressed': np.int64(174), 'bereavement leave': np.int64(518), 'introduce statutory': np.int64(2405), 'pet owner': np.int64(3317), 'breakdown': np.int64(571), 'confirm': np.int64(931), 'child maintenance': np.int64(788), 'maintenance service': np.int64(2682), 'service need': np.int64(4058), 'year year': np.int64(4980), 'paying parent': np.int64(3222), 'child maintenance service': np.int64(790), 'platform': np.int64(3364), 'hate': np.int64(2069), 'racist': np.int64(3628), 'police': np.int64(3377), 'removed': np.int64(3783), 'page': np.int64(3144), 'video': np.int64(4763), 'prosecuted': np.int64(3527), 'require social': np.int64(3817), 'medium platform': np.int64(2802), 'would ensure': np.int64(4945), 'require social medium': np.int64(3818), 'social medium platform': np.int64(4174), 'artificial': np.int64(373), 'certified': np.int64(740), 'breeder': np.int64(583), 'hand': np.int64(2052), 'creates': np.int64(1065), 'route': np.int64(3909), 'government allow': np.int64(1943), 'relating': np.int64(3755), 'wanted': np.int64(4825), 'understanding': np.int64(4656), 'record': np.int64(3692), 'hardship': np.int64(2065), 'purely': np.int64(3598), 'statutory sick': np.int64(4265), 'self isolation': np.int64(4025), 'self isolate': np.int64(4024), 'able make': np.int64(104), 'make end': np.int64(2692), 'end meet': np.int64(1459), 'statutory sick pay': np.int64(4266), 'national minimum wage': np.int64(2928), 'make end meet': np.int64(2693), 'failed': np.int64(1641), 'child may': np.int64(791), 'government fund': np.int64(1957), 'family child': np.int64(1655), 'need disability': np.int64(2946), 'child believe': np.int64(780), 'believe child': np.int64(498), 'want government fund': np.int64(4811), 'educational need disability': np.int64(1397), 'ensuring': np.int64(1493), 'annually': np.int64(319), 'dead': np.int64(1137), 'race': np.int64(3624), 'raise': np.int64(3632), 'great britain': np.int64(2019), 'investigate': np.int64(2411), 'wholesale': np.int64(4878), 'passed': np.int64(3189), 'worried': np.int64(4931), 'confusion': np.int64(935), 'collapse': np.int64(875), 'heating': np.int64(2106), 'happening': np.int64(2057), 'clothing': np.int64(862), 'remove vat': np.int64(3782), 'government also': np.int64(1944), 'help ensure': np.int64(2118), 'people left': np.int64(3262), 'gas electricity': np.int64(1886), 'people choose': np.int64(3248), 'unpaid': np.int64(4689), 'receipt': np.int64(3671), 'prescription': np.int64(3436), 'dental': np.int64(1188), 'glass': np.int64(1921), 'dentist': np.int64(1191), 'rising': np.int64(3892), 'unpaid carers': np.int64(4690), 'carers allowance': np.int64(703), 'free prescription': np.int64(1807), 'free dental': np.int64(1802), 'dental care': np.int64(1189), 'hour week': np.int64(2202), 'rising cost': np.int64(3893), 'veteran': np.int64(4758), 'everywhere': np.int64(1561), 'shock': np.int64(4091), 'war': np.int64(4827), 'numerous': np.int64(3046), 'notice': np.int64(3037), 'people buying': np.int64(3246), 'like government ban': np.int64(2577), 'distance': np.int64(1293), 'frequently': np.int64(1818), 'cause death': np.int64(724), 'legal protection': np.int64(2529), 'international travel': np.int64(2395), 'taxi': np.int64(4435), 'cctv': np.int64(729), 'hire': np.int64(2156), 'camera': np.int64(645), 'occurring': np.int64(3061), 'passenger': np.int64(3191), 'couple': np.int64(1040), 'sexually': np.int64(4079), 'shouldnt': np.int64(4104), 'bus': np.int64(617), 'train': np.int64(4564), 'make compulsory': np.int64(2687), 'private hire': np.int64(3474), 'landlord': np.int64(2484), 'monitor': np.int64(2878), 'council': np.int64(1027), 'meaningful': np.int64(2784), 'penalty': np.int64(3233), 'create new': np.int64(1063), 'government create': np.int64(1953), 'provide free': np.int64(3553), 'support people': np.int64(4368), 'want government create': np.int64(4809), 'remembrance': np.int64(3778), 'celebration': np.int64(733), 'three': np.int64(4503), 'august': np.int64(409), 'remember': np.int64(3777), 'restricted': np.int64(3848), 'addiction': np.int64(165), 'confidence': np.int64(929), 'tragic': np.int64(4562), 'people suffer': np.int64(3275), 'retirement': np.int64(3861), 'equipment': np.int64(1516), 'bit': np.int64(539), 'healthcare worker': np.int64(2095), 'free meal': np.int64(1803), 'would give': np.int64(4946), 'harder': np.int64(2064), 'topic': np.int64(4543), 'task': np.int64(4421), 'grade boundary': np.int64(2011), 'next year': np.int64(2997), 'cant get': np.int64(658), 'face face': np.int64(1629), 'speaker': np.int64(4205), 'crown': np.int64(1082), 'honest': np.int64(2177), 'constituency': np.int64(950), 'share': np.int64(4080), 'seat': np.int64(3995), 'illegal': np.int64(2246), 'fox': np.int64(1793), 'badger': np.int64(443), 'offence': np.int64(3065), 'capture': np.int64(667), '14': np.int64(13), 'stretched': np.int64(4295), 'retention': np.int64(3858), 'recruitment': np.int64(3698), 'change would': np.int64(755), 'skin': np.int64(4147), 'enforce': np.int64(1470), 'ingredient': np.int64(2353), 'kidney': np.int64(2458), 'marked': np.int64(2754), 'easy': np.int64(1377), 'provides': np.int64(3558), 'feedback': np.int64(1681), 'performance': np.int64(3295), 'bias': np.int64(525), 'prejudice': np.int64(3426), 'resolve': np.int64(3835), 'mark': np.int64(2753), 'added': np.int64(164), 'letter': np.int64(2546), 'protects': np.int64(3546), 'flying': np.int64(1750), 'official': np.int64(3072), 'nest': np.int64(2968), 'fewer': np.int64(1691), 'average': np.int64(424), 'closer': np.int64(858), 'outdoors': np.int64(3120), 'take place': np.int64(4409), 'allow family': np.int64(262), 'hard working': np.int64(2063), 'british summer': np.int64(597), 'voucher': np.int64(4789), 'lowincome': np.int64(2663), 'financial hardship': np.int64(1708), 'local authority': np.int64(2618), 'ward': np.int64(4828), 'diagnosed': np.int64(1235), 'bonus': np.int64(554), 'dedication': np.int64(1160), '10000': np.int64(5), 'figure': np.int64(1696), 'furloughed': np.int64(1872), 'attending': np.int64(407), 'putting': np.int64(3605), 'staff working': np.int64(4241), 'service worker': np.int64(4063), 'per month': np.int64(3289), 'care worker': np.int64(698), 'bringing': np.int64(590), 'prove': np.int64(3547), 'tourism': np.int64(4548), 'productive': np.int64(3499), 'holiday would': np.int64(2169), 'agenda': np.int64(221), 'oneoff': np.int64(3087), 'covering': np.int64(1047), 'ensure nh': np.int64(1488), 'scotland wale': np.int64(3981), 'recognised': np.int64(3686), 'recently': np.int64(3683), 'stated': np.int64(4256), 'husband': np.int64(2229), 'stronger': np.int64(4301), 'pay nh': np.int64(3211), 'government pay': np.int64(1979), 'nh nurse': np.int64(3008), 'food bank': np.int64(1758), 'gender': np.int64(1894), 'neutral': np.int64(2978), 'confident': np.int64(930), 'many school': np.int64(2742), 'committee': np.int64(897), 'distributed': np.int64(1297), 'autism': np.int64(414), 'awareness': np.int64(431), 'spectrum': np.int64(4218), 'amazing': np.int64(287), 'autistic': np.int64(415), 'interview': np.int64(2398), 'eye': np.int64(1625), 'processing': np.int64(3489), 'prevented': np.int64(3447), 'thrive': np.int64(4506), 'need change': np.int64(2943), 'autistic people': np.int64(416), 'people get': np.int64(3254), 'people could': np.int64(3249), 'ride': np.int64(3880), 'covid19 pandemic': np.int64(1056), 'receive free': np.int64(3673), 'carer': np.int64(701), 'amended': np.int64(291), 'amendment': np.int64(292), 'irrespective': np.int64(2421), 'social care': np.int64(4168), 'legislate': np.int64(2535), 'adapt': np.int64(162), 'built': np.int64(609), 'program': np.int64(3505), 'ground': np.int64(2035), 'heat': np.int64(2104), 'pump': np.int64(3590), 'increase support': np.int64(2317), 'heat pump': np.int64(2105), 'enforcing': np.int64(1473), 'prohibit': np.int64(3509), 'content': np.int64(967), 'believe many': np.int64(502), 'believe uk': np.int64(505), 'government responsibility': np.int64(1993), 'freedom speech': np.int64(1814), 'want government ban': np.int64(4807), 'exposed': np.int64(1605), 'medium account': np.int64(2799), 'social medium account': np.int64(4172), 'deficit': np.int64(1169), 'suspended': np.int64(4388), 'chronic': np.int64(819), 'unprecedented': np.int64(4691), '38': np.int64(72), 'signed': np.int64(4121), 'dfe': np.int64(1232), 'failing': np.int64(1642), 'funding local': np.int64(1859), 'child want': np.int64(802), 'child benefit': np.int64(781), 'funding local authority': np.int64(1860), 'wealth': np.int64(4843), 'cash': np.int64(710), '2050': np.int64(49), 'effectively': np.int64(1401), 'carbon neutral': np.int64(679), 'needing': np.int64(2960), 'people suffering': np.int64(3276), 'replaced': np.int64(3796), 'reflects': np.int64(3725), 'received': np.int64(3676), 'nationwide': np.int64(2932), 'known': np.int64(2469), 'january': np.int64(2436), '26': np.int64(59), '45': np.int64(77), 'biggest': np.int64(528), 'nationally': np.int64(2931), 'proportional representation': np.int64(3523), 'gone': np.int64(1935), 'terrible': np.int64(4464), 'forget': np.int64(1779), 'raising': np.int64(3635), 'make nh': np.int64(2704), 'maximum': np.int64(2770), 'project': np.int64(3510), 'anything': np.int64(329), 'working hour': np.int64(4923), 'government look': np.int64(1970), 'failure': np.int64(1644), 'racism': np.int64(3627), 'defined': np.int64(1170), 'crime': np.int64(1072), 'discriminate': np.int64(1273), 'racial': np.int64(3625), 'institution': np.int64(2374), 'committed': np.int64(896), 'hate crime': np.int64(2070), 'containing': np.int64(964), 'labelled': np.int64(2473), 'contains': np.int64(965), 'packaging': np.int64(3142), 'mention': np.int64(2831), 'tag': np.int64(4402), 'beauty': np.int64(482), 'presence': np.int64(3438), 'bag': np.int64(444), 'wet': np.int64(4865), 'wipe': np.int64(4895), 'facial': np.int64(1632), 'none': np.int64(3024), 'disposal': np.int64(1288), 'hygiene product': np.int64(2232), 'frozen': np.int64(1831), 'parity': np.int64(3166), 'insurance': np.int64(2378), 'nonpayment': np.int64(3026), 'immoral': np.int64(2254), 'justification': np.int64(2447), 'tax national': np.int64(4428), 'national insurance': np.int64(2923), 'living abroad': np.int64(2608), 'want government increase': np.int64(4812), 'tax national insurance': np.int64(4429), 'registration': np.int64(3740), 'licensing': np.int64(2558), 'breed': np.int64(580), 'database': np.int64(1123), 'enforcement': np.int64(1472), 'met': np.int64(2834), 'elsewhere': np.int64(1430), 'estimate': np.int64(1532), 'suggest': np.int64(4342), 'puppy': np.int64(3594), 'longterm': np.int64(2632), 'introducing': np.int64(2407), 'unjust': np.int64(4681), 'uncertainty': np.int64(4645), 'contributing': np.int64(978), 'dignity': np.int64(1254), 'eligible': np.int64(1427), 'wait': np.int64(4795), 'impaired': np.int64(2262), 'council tax': np.int64(1028), 'government require': np.int64(1991), 'mean people': np.int64(2781), 'want government require': np.int64(4816), 'dating': np.int64(1125), 'verification': np.int64(4755), 'accessing': np.int64(132), 'make law': np.int64(2698), 'protect child': np.int64(3535), 'label': np.int64(2472), 'emotionally': np.int64(1437), 'abused': np.int64(118), 'abuser': np.int64(119), 'medium company': np.int64(2800), 'would prevent': np.int64(4955), 'social medium company': np.int64(4173), 'outlet': np.int64(3121), 'ago': np.int64(224), 'year ago': np.int64(4970), 'minimal': np.int64(2850), 'nonresident': np.int64(3028), 'maintenance payment': np.int64(2681), 'single parent': np.int64(4133), 'one parent': np.int64(3084), 'nonresident parent': np.int64(3029), 'child maintenance payment': np.int64(789), 'ration': np.int64(3649), 'distribution': np.int64(1298), 'reserve': np.int64(3829), 'unknown': np.int64(4682), 'couldnt': np.int64(1026), 'advice': np.int64(198), 'excess': np.int64(1571), 'absolutely': np.int64(116), 'pack': np.int64(3140), 'tip': np.int64(4529), 'consent': np.int64(939), 'scottish': np.int64(3982), 'independence': np.int64(2327), 'appears': np.int64(337), 'solely': np.int64(4187), 'intent': np.int64(2387), 'independence referendum': np.int64(2329), 'recyclable': np.int64(3699), 'corporation': np.int64(997), 'producing': np.int64(3493), 'friendly': np.int64(1825), 'environmentally friendly': np.int64(1507), 'future generation': np.int64(1875), 'food packaging': np.int64(1762), 'machine': np.int64(2669), 'counted': np.int64(1033), 'ballot': np.int64(447), 'hundred': np.int64(2223), 'code': np.int64(870), 'algorithm': np.int64(248), 'oversight': np.int64(3129), 'contracted': np.int64(974), 'electronic': np.int64(1424), 'lobbying': np.int64(2616), 'infection': np.int64(2344), '13': np.int64(12), 'ssp': np.int64(4231), 'throughout': np.int64(4507), 'survive': np.int64(4384), 'full pay': np.int64(1839), 'addition': np.int64(167), 'unnecessarily': np.int64(4686), 'forcing': np.int64(1776), 'sum': np.int64(4348), 'student finance': np.int64(4310), 'many young': np.int64(2748), 'period time': np.int64(3301), 'mental wellbeing': np.int64(2829), 'many young people': np.int64(2749), 'bear': np.int64(480), 'seek': np.int64(4012), 'abuse': np.int64(117), 'barbaric': np.int64(468), 'cruelty': np.int64(1085), 'traditional': np.int64(4558), 'government seek': np.int64(1997), 'animal cruelty': np.int64(304), 'tougher': np.int64(4547), 'secondhand': np.int64(4001), 'textile': np.int64(4470), 'useful': np.int64(4726), 'charity': np.int64(765), '17': np.int64(19), 'weekly': np.int64(4852), '50': np.int64(78), 'discarded': np.int64(1269), 'take responsibility': np.int64(4410), 'tier': np.int64(4515), 'cancelled': np.int64(651), 'minute': np.int64(2859), 'glove': np.int64(1925), '1000': np.int64(4), 'encouraging': np.int64(1456), 'many others': np.int64(2738), 'unemployment': np.int64(4661), 'specifically': np.int64(4217), 'due covid19': np.int64(1350), 'thousand people': np.int64(4499), 'people work': np.int64(3282), 'self employed': np.int64(4022), 'employed people': np.int64(1440), 'people afford': np.int64(3240), 'self employed people': np.int64(4023), 'keeper': np.int64(2450), 'loophole': np.int64(2637), 'license': np.int64(2555), 'spot': np.int64(4227), 'negatively': np.int64(2963), 'continued': np.int64(969), 'monitoring': np.int64(2880), 'regular': np.int64(3741), 'microchip': np.int64(2837), 'would make': np.int64(4952), 'licence fee': np.int64(2554), 'regulated': np.int64(3744), 'enforced': np.int64(1471), 'extension': np.int64(1612), 'much needed': np.int64(2899), 'protect animal': np.int64(3534), 'us': np.int64(4718), 'produce': np.int64(3490), 'aspect': np.int64(380), 'consumer make': np.int64(957), 'plastic pollution': np.int64(3362), 'entitlement': np.int64(1501), '2nd': np.int64(63), 'birthday': np.int64(538), 'disparity': np.int64(1284), '1st': np.int64(25), 'compared': np.int64(907), 'earlier': np.int64(1361), 'throughout year': np.int64(4509), 'child could': np.int64(784), 'unable work': np.int64(4641), 'actually': np.int64(160), 'went': np.int64(4863), 'sharing': np.int64(4082), 'every day': np.int64(1553), 'assess': np.int64(383), 'cared': np.int64(699), 'defibrillator': np.int64(1167), 'cabinet': np.int64(626), 'installation': np.int64(2370), 'rapid': np.int64(3637), 'cardiac': np.int64(681), 'sudden': np.int64(4333), 'public access': np.int64(3565), 'public space': np.int64(3582), 'saving life': np.int64(3947), 'cardiac arrest': np.int64(682), '60000': np.int64(87), 'stock': np.int64(4274), '2006': np.int64(30), 'cover cost': np.int64(1044), 'child adult': np.int64(777), 'isolating': np.int64(2430), 'suggested': np.int64(4343), 'lot people': np.int64(2646), 'issued': np.int64(2433), 'twice': np.int64(4615), 'believe unfair': np.int64(506), 'change rule': np.int64(753), 'like government change': np.int64(2578), 'silent': np.int64(4126), 'scared': np.int64(3953), 'street': np.int64(4289), 'earth': np.int64(1371), 'make firework': np.int64(2694), 'reopen': np.int64(3789), 'middle': np.int64(2839), 'transmission': np.int64(4570), 'delivered': np.int64(1178), 'undermines': np.int64(4652), 'adhere': np.int64(179), 'strict': np.int64(4296), 'unregulated': np.int64(4694), 'practitioner': np.int64(3420), 'psychological': np.int64(3561), 'pose': np.int64(3399), 'adhd': np.int64(178), 'senior': np.int64(4037), 'judge': np.int64(2442), 'highlighted': np.int64(2154), 'feature': np.int64(1674), 'legislation make': np.int64(2537), 'foreign': np.int64(1777), 'five': np.int64(1736), 'placement': np.int64(3348), 'living uk': np.int64(2612), 'five year': np.int64(1737), 'access nh': np.int64(129), 'speak': np.int64(4204), 'amend': np.int64(290), 'dwp': np.int64(1356), 'assessor': np.int64(388), 'specific': np.int64(4213), 'function': np.int64(1845), 'symptom': np.int64(4395), 'severity': np.int64(4073), 'additionally': np.int64(172), 'stroke': np.int64(4299), 'head': np.int64(2074), 'covid19 vaccine': np.int64(1059), 'list country': np.int64(2595), 'many uk': np.int64(2745), 'nuclear': np.int64(3041), 'efficiency': np.int64(1403), 'adoption': np.int64(185), 'faith': np.int64(1649), 'nuclear power': np.int64(3042), 'residential': np.int64(3832), 'sake': np.int64(3930), 'ban use': np.int64(460), 'use firework': np.int64(4722), 'residential area': np.int64(3833), 'lift': np.int64(2571), 'sea': np.int64(3991), 'lake': np.int64(2481), 'allow parent': np.int64(263), 'time child': np.int64(4518), 'disadvantaged': np.int64(1267), 'qualified': np.int64(3609), 'current situation': np.int64(1100), 'criminal': np.int64(1073), 'destruction': np.int64(1213), 'ecosystem': np.int64(1387), 'justice': np.int64(2446), 'led': np.int64(2525), 'ecological': np.int64(1383), 'humanity': np.int64(2222), 'urgency': np.int64(4712), 'france': np.int64(1797), 'criminal offence': np.int64(1074), 'humane': np.int64(2221), 'xl': np.int64(4963), 'bully': np.int64(611), 'muzzle': np.int64(2913), 'field': np.int64(1693), 'muzzled': np.int64(2914), 'xl bully': np.int64(4964), 'bully dog': np.int64(612), 'many dog': np.int64(2734), 'third party': np.int64(4495), 'government amend': np.int64(1945), 'physical health': np.int64(3334), 'xl bully dog': np.int64(4965), 'want government amend': np.int64(4806), 'overpayment': np.int64(3126), 'eligibility': np.int64(1426), 'distress': np.int64(1295), 'substantial': np.int64(4329), 'review reform': np.int64(3873), 'urgent action': np.int64(4714), '21st': np.int64(51), 'loose': np.int64(2638), 'unit': np.int64(4671), 'willing': np.int64(4888), 'compromise': np.int64(921), 'carrier': np.int64(706), 'active': np.int64(156), 'underfunded': np.int64(4647), 'carried': np.int64(705), 'lack support': np.int64(2479), 'younger': np.int64(4988), '2019': np.int64(40), 'voted': np.int64(4785), '55': np.int64(83), 'shocking': np.int64(4093), 'tool': np.int64(4541), 'favour': np.int64(1672), 'empower': np.int64(1444), 'younger people': np.int64(4989), 'british people': np.int64(595), 'government fund free': np.int64(1958), 'euro': np.int64(1539), 'flat': np.int64(1740), 'university fee': np.int64(4679), 'life risk': np.int64(2565), 'collect': np.int64(878), 'bin': np.int64(532), 'consultation': np.int64(954), 'require local': np.int64(3813), 'garden waste': np.int64(1883), 'government prevent': np.int64(1982), 'think unfair': np.int64(4491), 'require local authority': np.int64(3814), 'behalf': np.int64(492), 'regularly': np.int64(3742), 'supposed': np.int64(4375), 'serve': np.int64(4052), 'largely': np.int64(2491), 'scrapped': np.int64(3984), 'make decision': np.int64(2688), 'visit': np.int64(4772), 'theatre': np.int64(4474), 'initiative': np.int64(2359), 'helped': np.int64(2134), 'ticket': np.int64(4513), 'viable': np.int64(4761), 'subsidised': np.int64(4326), 'hospitality sector': np.int64(2190), 'government could': np.int64(1952), 'roam': np.int64(3902), 'landowner': np.int64(2485), 'appreciate': np.int64(346), 'national park': np.int64(2929), 'protect people': np.int64(3538), 'subscription': np.int64(4324), 'cheaper': np.int64(768), 'watch': np.int64(4837), 'abolish tv': np.int64(110), 'tv licence': np.int64(4612), 'free tv': np.int64(1812), 'tv license': np.int64(4614), 'july': np.int64(2443), 'declare': np.int64(1155), 'honour': np.int64(2179), 'nh day': np.int64(3000), 'public holiday': np.int64(3571), 'national health': np.int64(2920), 'national health service': np.int64(2921), 'subsidise': np.int64(4325), 'reverse': np.int64(3869), 'ni': np.int64(3015), 'nationalise': np.int64(2930), 'water': np.int64(4839), 'urgently': np.int64(4715), 'living crisis': np.int64(2610), 'introduce new': np.int64(2404), 'water company': np.int64(4840), 'people struggling': np.int64(3274), 'insurance contribution': np.int64(2380), 'full time': np.int64(1840), 'income family': np.int64(2299), 'cost living crisis': np.int64(1005), 'national insurance contribution': np.int64(2924), 'low income family': np.int64(2658), 'manager': np.int64(2718), 'accountable': np.int64(138), 'director': np.int64(1259), 'held accountable': np.int64(2113), 'believe would help': np.int64(508), 'installed': np.int64(2371), 'construction': np.int64(952), 'plus': np.int64(3372), 'direction': np.int64(1257), 'size': np.int64(4144), 'affordability': np.int64(210), 'carbon emission': np.int64(677), 'widely': np.int64(4881), 'includes': np.int64(2292), 'threat': np.int64(4500), 'data': np.int64(1122), 'innocent': np.int64(2363), 'colour': np.int64(882), 'facial recognition': np.int64(1633), 'police force': np.int64(3378), 'taxed': np.int64(4433), 'income tax': np.int64(2301), 'lot money': np.int64(2645), 'car insurance': np.int64(669), 'work hard': np.int64(4913), 'indefinitely': np.int64(2326), 'visible': np.int64(4771), 'understood': np.int64(4657), 'national curriculum': np.int64(2919), 'primary secondary': np.int64(3459), 'school england': np.int64(3962), 'need government': np.int64(2950), 'help tackle': np.int64(2133), 'child disability': np.int64(785), 'primary secondary school': np.int64(3460), 'citizenship': np.int64(826), 'international student': np.int64(2394), 'resident uk': np.int64(3831), 'forced pay': np.int64(1775), 'year uk': np.int64(4978), 'draw': np.int64(1334), 'second job': np.int64(3998), 'private sector': np.int64(3478), 'warm': np.int64(4829), 'porn': np.int64(3396), 'sex': np.int64(4075), 'film': np.int64(1698), 'formal': np.int64(1782), 'playing': np.int64(3368), 'taken account': np.int64(4414), 'decrease': np.int64(1158), 'stressed': np.int64(4293), 'school student': np.int64(3972), 'recruit': np.int64(3697), 'care child': np.int64(684), 'birth': np.int64(537), 'support parent': np.int64(4367), 'due current': np.int64(1351), 'id': np.int64(2234), 'acceptable': np.int64(124), 'valid': np.int64(4734), 'fake': np.int64(1650), 'anonymous': np.int64(322), 'improving': np.int64(2283), 'new legislation': np.int64(2985), 'commit': np.int64(894), 'sooner': np.int64(4197), 'occur': np.int64(3060), 'uk water': np.int64(4635), 'withdrawal': np.int64(4898), 'central': np.int64(735), 'truth': np.int64(4601), 'deemed': np.int64(1163), 'binding': np.int64(533), 'fundamental': np.int64(1854), 'vote confidence': np.int64(4784), 'womens': np.int64(4906), 'strategy': np.int64(4286), 'detailed': np.int64(1216), 'nowhere': np.int64(3040), 'clinic': np.int64(851), 'may need': np.int64(2774), '2010': np.int64(32), 'lasting': np.int64(2497), 'proven': np.int64(3548), 'equality act': np.int64(1512), 'act 2010': np.int64(151), 'people living': np.int64(3266), 'equality act 2010': np.int64(1513), 'disposable': np.int64(1287), 'vapes': np.int64(4739), 'innovation': np.int64(2364), 'vape': np.int64(4738), 'popular': np.int64(3394), 'frequent': np.int64(1817), 'litter': np.int64(2599), 'singleuse': np.int64(4136), 'routinely': np.int64(3911), 'lying': np.int64(2668), 'amongst': np.int64(294), 'coastal': np.int64(869), 'singleuse plastic': np.int64(4137), 'single use': np.int64(4134), 'single use plastic': np.int64(4135), 'microplastics': np.int64(2838), 'cosmetic': np.int64(1002), 'virgin': np.int64(4767), 'ocean': np.int64(3063), 'adverse': np.int64(191), 'ban plastic': np.int64(454), 'product would': np.int64(3497), 'reduce amount': np.int64(3707), 'human animal': np.int64(2219), 'net zero': np.int64(2970), 'could also help': np.int64(1012), 'anniversary': np.int64(314), 'fulltime': np.int64(1841), 'vast': np.int64(4744), 'forgotten': np.int64(1780), 'solve': np.int64(4189), 'friend family': np.int64(1824), 'sentence': np.int64(4043), 'motorcycle': np.int64(2890), 'theft': np.int64(4475), 'guilty': np.int64(2046), 'stolen': np.int64(4276), 'found guilty': np.int64(1790), 'pilot': np.int64(3342), '100000': np.int64(6), 'coming': np.int64(890), 'government grant': np.int64(1961), 'option available': np.int64(3104), 'interest rate': np.int64(2391), 'obvious': np.int64(3059), 'ice': np.int64(2233), 'faster': np.int64(1667), 'decline': np.int64(1157), 'zero emission': np.int64(4993), 'indecent': np.int64(2325), 'without consent': np.int64(4902), 'current law': np.int64(1096), 'cause harm': np.int64(725), 'last year': np.int64(2496), '75': np.int64(91), 'pay increase': np.int64(3210), 'begin': np.int64(490), 'funeral': np.int64(1869), 'grief': np.int64(2031), 'extended': np.int64(1610), 'two week': np.int64(4617), 'current government': np.int64(1095), 'reliable': np.int64(3765), 'reduces': np.int64(3715), 'greenhouse': np.int64(2026), '100': np.int64(3), 'greenhouse gas': np.int64(2027), 'gas emission': np.int64(1887), 'financial burden': np.int64(1706), 'greenhouse gas emission': np.int64(2028), 'menstrual': np.int64(2814), 'female': np.int64(1689), 'men': np.int64(2811), 'ignored': np.int64(2243), 'endometriosis': np.int64(1462), '15 million': np.int64(16), 'lifetime': np.int64(2569), 'isa': np.int64(2424), 'lisa': np.int64(2593), 'holder': np.int64(2165), 'lifetime isa': np.int64(2570), 'people buy': np.int64(3245), 'would able': np.int64(4939), 'property price': np.int64(3520), 'exclude': np.int64(1576), 'restricting': np.int64(3849), 'independently': np.int64(2333), 'maternity leave': np.int64(2764), 'fund research': np.int64(1852), 'support need': np.int64(4365), 'grossly': np.int64(2034), 'remote': np.int64(3779), 'send child': np.int64(4036), 'due coronavirus': np.int64(1348), 'right thing': np.int64(3885), 'red list': np.int64(3705), 'prison': np.int64(3469), 'custodial': np.int64(1105), 'think government': np.int64(4488), 'prison sentence': np.int64(3470), 'think current': np.int64(4487), 'want government introduce': np.int64(4813), 'length': np.int64(2540), 'operating': np.int64(3096), 'councillor': np.int64(1029), 'heavily': np.int64(2107), 'worth': np.int64(4937), '60': np.int64(86), 'high risk': np.int64(2147), 'levy': np.int64(2549), 'ringfenced': np.int64(3888), 'gp': np.int64(2007), 'fund local': np.int64(1850), 'nh service': np.int64(3011), 'surcharge': np.int64(4376), 'worst': np.int64(4936), 'incentive': np.int64(2287), 'bottle': np.int64(558), 'bought': np.int64(560), 'landfill': np.int64(2483), 'showed': np.int64(4106), 'sustainability': np.int64(4390), 'corporation tax': np.int64(998), 'plastic waste': np.int64(3363), 'plastic bottle': np.int64(3360), 'plastic packaging': np.int64(3361), 'time government': np.int64(4520), 'reimburse': np.int64(3750), 'ineffective': np.int64(2340), 'academic': np.int64(121), 'lecture': np.int64(2524), 'side': np.int64(4116), 'require university': np.int64(3819), 'counselling': np.int64(1030), 'allied': np.int64(256), 'post': np.int64(3405), 'barrier': np.int64(470), 'mature': np.int64(2769), 'health crisis': np.int64(2079), 'number people': np.int64(3045), 'mental health crisis': np.int64(2819), 'football': np.int64(1769), 'url': np.int64(4716), 'paramedic': np.int64(3159), 'classed': np.int64(837), 'apprentice': np.int64(348), '30 hour free': np.int64(66), 'generate': np.int64(1899), 'threshold': np.int64(4505), 'management': np.int64(2717), 'taxpayer': np.int64(4437), 'food production': np.int64(1764), 'toxic': np.int64(4552), 'exchange': np.int64(1573), 'extent': np.int64(1614), 'could lead': np.int64(1017), 'expand': np.int64(1588), 'enables': np.int64(1448), 'skirt': np.int64(4148), 'weather': np.int64(4848), 'dress': np.int64(1335), 'followed': np.int64(1755), 'school allow': np.int64(3957), 'need done': np.int64(2947), 'complaint': np.int64(913), 'care provider': np.int64(692), 'opt': np.int64(3102), 'db': np.int64(1136), 'transfer': np.int64(4568), 'represents': np.int64(3806), 'retirement age': np.int64(3862), 'esa': np.int64(1521), 'disabled people': np.int64(1264), 'able work': np.int64(108), 'people able': np.int64(3238), 'able claim': np.int64(102), 'part time': np.int64(3175), 'need support': np.int64(2957), 'fulfil': np.int64(1837), 'sale use': np.int64(3935), 'throughout uk': np.int64(4508), 'ban sale use': np.int64(457), 'temporarily': np.int64(4454), 'congestion charge': np.int64(937), 'coronavirus crisis': np.int64(993), 'award': np.int64(428), 'excise': np.int64(1574), 'reaching': np.int64(3654), 'goal': np.int64(1931), 'fairer': np.int64(1646), 'co2': np.int64(865), 'push': np.int64(3601), 'vehicle excise': np.int64(4752), 'excise duty': np.int64(1575), 'co2 emission': np.int64(866), 'planned': np.int64(3353), '21': np.int64(50), 'petrol': np.int64(3323), 'calculation': np.int64(632), 'labour': np.int64(2476), 'heard': np.int64(2100), 'underlying': np.int64(4650), 'guardian': np.int64(2043), 'paternity': np.int64(3197), 'established': np.int64(1529), 'right paid': np.int64(3884), 'parental leave': np.int64(3165), 'asking government': np.int64(379), 'government consider': np.int64(1951), 'paid leave': np.int64(3146), 'dealt': np.int64(1141), 'convicted': np.int64(984), 'smoking': np.int64(4164), 'smoker': np.int64(4163), 'quit': np.int64(3621), 'cigarette': np.int64(822), 'according': np.int64(135), 'survey': np.int64(4382), 'session': np.int64(4065), 'nicotine': np.int64(3017), 'adolescent': np.int64(183), 'teenager': np.int64(4447), 'could include': np.int64(1016), 'people health': np.int64(3258), 'boat': np.int64(548), 'heritage': np.int64(2137), 'century': np.int64(737), 'people cant': np.int64(3247), '2000': np.int64(29), 'tax return': np.int64(4431), 'entry': np.int64(1502), 'people disability': np.int64(3251), 'additional cost': np.int64(169), 'hospice': np.int64(2186), 'donate': np.int64(1318), 'government increase funding': np.int64(1966), 'duration': np.int64(1353), 'cancer patient': np.int64(653), 'many patient': np.int64(2740), 'receive full': np.int64(3674), 'allergen': np.int64(252), 'impossible': np.int64(2278), 'allergy': np.int64(254), 'labelling': np.int64(2474), 'food label': np.int64(1761), 'incredible': np.int64(2323), 'disgrace': np.int64(1280), 'payer': np.int64(3220), 'people would': np.int64(3284), 'could used': np.int64(1025), 'tax payer': np.int64(4430), 'claimant': np.int64(833), 'sense': np.int64(4038), 'phone': np.int64(3330), 'profile': np.int64(3503), 'unlike': np.int64(4684), 'accessibility': np.int64(130), 'partially': np.int64(3176), 'personal independence': np.int64(3310), 'independence payment': np.int64(2328), 'personal independence payment': np.int64(3311), 'cm': np.int64(864), 'receiving parent': np.int64(3679), 'take account': np.int64(4404), 'double': np.int64(1331), 'reward': np.int64(3877), 'lowest': np.int64(2662), 'social care worker': np.int64(4169), 'kingdom': np.int64(2463), 'junior': np.int64(2445), 'leaf': np.int64(2511), 'united kingdom': np.int64(4673), 'new build': np.int64(2982), 'among': np.int64(293), 'represented': np.int64(3805), 'voting system': np.int64(4788), 'first past': np.int64(1729), 'past post': np.int64(3195), 'first past post': np.int64(1730), 'card': np.int64(680), 'bowel': np.int64(562), 'lifelong': np.int64(2566), 'medical exemption': np.int64(2792), 'bowel cancer': np.int64(563), 'correct': np.int64(999), 'nurse doctor': np.int64(3048), 'selfisolation': np.int64(4029), 'alongside': np.int64(275), 'nh dental': np.int64(3001), 'dental nurse': np.int64(1190), 'nh pension': np.int64(3009), 'select': np.int64(4019), 'percent': np.int64(3292), 'firm': np.int64(1726), 'select committee': np.int64(4020), 'many small': np.int64(2743), 'looked': np.int64(2635), 'peat': np.int64(3230), 'landscape': np.int64(2486), '40': np.int64(74), 'compensate': np.int64(909), 'ownership': np.int64(3136), 'cropped': np.int64(1080), 'ear': np.int64(1360), 'wanting': np.int64(4826), 'prosecution': np.int64(3528), 'ban import': np.int64(453), 'offering': np.int64(3069), 'partnership': np.int64(3183), 'people age': np.int64(3241), 'private company': np.int64(3473), 'url url': np.int64(4717), 'armed': np.int64(362), 'calendar': np.int64(633), 'surgical': np.int64(4380), 'create national': np.int64(1062), 'work nh': np.int64(4916), 'armed force': np.int64(363), 'club': np.int64(863), 'disabled child': np.int64(1263), 'deadline': np.int64(1138), 'huge amount': np.int64(2216), 'dropped': np.int64(1345), 'essentially': np.int64(1527), 'encourage people': np.int64(1453), 'northern': np.int64(3033), 'oil': np.int64(3077), 'meter': np.int64(2835), 'northern ireland': np.int64(3034), 'inequality': np.int64(2341), 'ensure student': np.int64(1491), 'cervical': np.int64(741), 'hpv': np.int64(2213), 'cervical screening': np.int64(743), 'screening age': np.int64(3988), 'age 16': np.int64(215), 'funding make': np.int64(1861), 'regulator': np.int64(3746), 'oversee': np.int64(3128), 'charter': np.int64(766), 'till': np.int64(4516), 'exploited': np.int64(1602), 'governance': np.int64(1939), 'conviction': np.int64(985), 'football club': np.int64(1770), 'able take': np.int64(106), 'purchasing': np.int64(3597), 'firework cause': np.int64(1721), 'breastfeeding': np.int64(576), 'express': np.int64(1607), 'guaranteed': np.int64(2042), 'require employer': np.int64(3812), 'hour work': np.int64(2203), 'increased risk': np.int64(2320), 'fixed': np.int64(1739), 'delivery': np.int64(1180), 'thinking': np.int64(4493), 'pocket': np.int64(3374), 'basic': np.int64(473), 'spreading': np.int64(4229), 'camhs': np.int64(646), 'child adolescent': np.int64(776), 'youre': np.int64(4990), 'smear': np.int64(4160), 'lowered': np.int64(2660), 'girl': np.int64(1913), 'lowering': np.int64(2661), 'cell': np.int64(734), 'cervical cancer': np.int64(742), 'cancer screening': np.int64(654), 'age 18': np.int64(216), 'smear test': np.int64(4161), 'make illegal': np.int64(2695), 'liable': np.int64(2551), 'facilitate': np.int64(1634), 'ease': np.int64(1372), 'occurs': np.int64(3062), 'relatively': np.int64(3759), 'conservative': np.int64(942), 'respiratory': np.int64(3838), 'recall': np.int64(3670), '300': np.int64(67), 'direct': np.int64(1256), 'income household': np.int64(2300), 'working family': np.int64(4921), 'potential': np.int64(3410), 'holiday england': np.int64(2168), 'school holiday': np.int64(3965), 'former': np.int64(1783), 'breach': np.int64(568), 'characteristic': np.int64(759), 'expect': np.int64(1589), 'identified': np.int64(2239), 'need ensure': np.int64(2948), 'ensure child': np.int64(1487), 'receive support': np.int64(3675), 'child parent': np.int64(793), 'religious': np.int64(3770), '2014': np.int64(35), 'people going': np.int64(3257), 'eve': np.int64(1544), 'sale firework': np.int64(3933), 'silent firework': np.int64(4127), 'earning': np.int64(1368), '35 hour': np.int64(71), 'increase amount': np.int64(2306), 'care people': np.int64(689), 'significant impact': np.int64(4123), 'father': np.int64(1670), 'became': np.int64(483), 'television': np.int64(4450), 'privilege': np.int64(3480), 'license fee': np.int64(2556), 'autumn': np.int64(419), 'suggests': np.int64(4344), 'reduce risk': np.int64(3712), 'image': np.int64(2249), 'energy company': np.int64(1466), 'reduce cost': np.int64(3710), 'people make': np.int64(3267), 'risen': np.int64(3891), 'manchester': np.int64(2720), 'discriminated': np.int64(1274), 'held account': np.int64(2112), 'mechanism': np.int64(2789), 'local government': np.int64(2621), 'member parliament': np.int64(2807), 'treating': np.int64(4587), 'bone': np.int64(551), 'breast': np.int64(573), 'effectiveness': np.int64(1402), 'violence': np.int64(4765), 'substance': np.int64(4328), 'referral': np.int64(3722), 'sexual offence': np.int64(4078), 'animal abuse': np.int64(301), 'privately': np.int64(3479), 'abandoned': np.int64(97), 'operator': np.int64(3098), 'background': np.int64(440), 'abusive': np.int64(120), 'bigger': np.int64(527), 'encourages': np.int64(1455), 'unwanted': np.int64(4698), 'theory': np.int64(4476), 'relation': np.int64(3756), 'due covid': np.int64(1349), 'diesel': np.int64(1242), 'powered': np.int64(3415), 'petrol diesel': np.int64(3325), 'diesel car': np.int64(1243), 'lack funding': np.int64(2478), 'petrol diesel car': np.int64(3326), 'capital': np.int64(663), 'invest': np.int64(2410), 'growth': np.int64(2040), 'sheet': np.int64(4085), 'year would': np.int64(4979), 'realistic': np.int64(3663), 'new car': np.int64(2983), 'selfish': np.int64(4027), 'read': np.int64(3656), 'whereby': np.int64(4873), 'vulnerable society': np.int64(4793), 'county': np.int64(1039), 'reduce number': np.int64(3711), 'declared': np.int64(1156), 'awarded': np.int64(429), 'team': np.int64(4444), 'void': np.int64(4779), 'help student': np.int64(2131), 'pad': np.int64(3143), 'toilet': np.int64(4535), 'postal': np.int64(3406), 'vulnerable people': np.int64(4792), 'calculate': np.int64(629), 'incredibly': np.int64(2324), 'biodegradable': np.int64(534), 'disposed': np.int64(1290), 'correctly': np.int64(1000), 'recycled': np.int64(3701), 'increase tax': np.int64(2318), 'neglected': np.int64(2965), 'approved': np.int64(354), 'hour day': np.int64(2198), 'nursing student': np.int64(3051), 'officer': np.int64(3071), 'learning disability': np.int64(2517), 'mental illness': np.int64(2826), '1988': np.int64(24), 'beloved': np.int64(509), 'road traffic': np.int64(3900), 'dog owner': np.int64(1314), 'mental health wellbeing': np.int64(2825), 'showing': np.int64(4107), 'turnover': np.int64(4610), 'payable': np.int64(3218), 'exceed': np.int64(1568), 'also want': np.int64(283), 'vat rate': np.int64(4747), 'rate vat': np.int64(3644), 'pesticide': np.int64(3314), 'globally': np.int64(1924), 'partner': np.int64(3182), 'influence': np.int64(2346), 'crop': np.int64(1079), 'insect': np.int64(2366), 'increase risk': np.int64(2313), 'need met': np.int64(2954), '50k': np.int64(82), '50000': np.int64(81), 'small business': np.int64(4157), 'student debt': np.int64(4309), 'impacted': np.int64(2260), 'bame': np.int64(449), 'various': np.int64(4743), 'though': np.int64(4496), 'membership': np.int64(2809), 'citizen living': np.int64(825), 'right vote': np.int64(3886), 'kit': np.int64(2464), 'comfort': np.int64(888), 'uptake': np.int64(4706), 'base': np.int64(471), 'homelessness': np.int64(2175), 'rollout': np.int64(3905), 'credit payment': np.int64(1071), 'universal credit payment': np.int64(4677), 'year many': np.int64(4974), 'nutrition': np.int64(3053), 'administered': np.int64(181), 'shorter': np.int64(4101), 'end life': np.int64(1458), 'medical professional': np.int64(2793), 'written': np.int64(4961), 'white': np.int64(4876), 'identity': np.int64(2241), 'dont think': np.int64(1326), 'gps': np.int64(2009), 'mobility': np.int64(2872), 'promoting': np.int64(3515), 'healthcare professional': np.int64(2094), 'amazon': np.int64(288), 'appropriately': np.int64(352), 'complication': np.int64(918), 'counsellor': np.int64(1031), 'child care': np.int64(782), 'grown': np.int64(2039), 'zero target': np.int64(4996), 'working people': np.int64(4926), 'net zero target': np.int64(2971), 'june': np.int64(2444), '2018': np.int64(39), 'swimming': np.int64(4392), 'nobody': np.int64(3019), 'hitting': np.int64(2160), 'paramount': np.int64(3160), 'environmental impact': np.int64(1505), 'ecofriendly': np.int64(1382), 'fat': np.int64(1668), 'readily': np.int64(3657), 'letting': np.int64(2547), 'need stop': np.int64(2956), 'people think': np.int64(3278), 'mental physical': np.int64(2827), 'combat': np.int64(883), 'device': np.int64(1229), 'brand': np.int64(567), 'actively': np.int64(157), 'mobile phone': np.int64(2871), 'advised': np.int64(200), 'call upon': np.int64(638), 'upon government': np.int64(4703), 'call upon government': np.int64(639), 'gave': np.int64(1888), 'covid pandemic': np.int64(1050), 'absent': np.int64(114), 'ancient': np.int64(298), 'felling': np.int64(1687), 'legal right': np.int64(2531), 'traffic light': np.int64(4560), 'reduce carbon': np.int64(3708), 'service government': np.int64(4057), 'toilet roll': np.int64(4536), 'reduce carbon emission': np.int64(3709), 'saying': np.int64(3949), 'hear': np.int64(2099), 'across england': np.int64(147), 'please help': np.int64(3370), 'raise awareness': np.int64(3633), 'finding': np.int64(1715), 'variety': np.int64(4742), 'able use': np.int64(107), 'people pay': np.int64(3272), 'passing': np.int64(3192), 'corporate': np.int64(996), 'new tax': np.int64(2989), 'company pay': np.int64(906), 'regional': np.int64(3737), 'index': np.int64(2334), 'drastically': np.int64(1333), 'bottom': np.int64(559), 'public awareness': np.int64(3566), 'uk could': np.int64(4624), 'care provided': np.int64(691), 'scientist': np.int64(3979), 'publishing': np.int64(3589), 'scrutiny': np.int64(3990), 'public safety': np.int64(3577), 'polluting': np.int64(3387), 'raw': np.int64(3651), 'coal': np.int64(868), 'oil gas': np.int64(3078), 'pricing': np.int64(3455), 'standing': np.int64(4247), 'targeted': np.int64(4419), 'better protect': np.int64(522), 'government legislate': np.int64(1969), 'standing charge': np.int64(4248), 'moving': np.int64(2895), 'care leaver': np.int64(687), 'service people': np.int64(4060), 'people learning': np.int64(3260), 'disability benefit': np.int64(1261), 'life many': np.int64(2563), 'people learning disability': np.int64(3261), 'pharmacy': np.int64(3328), 'protective': np.int64(3545), 'covid19 government': np.int64(1053), 'broadcaster': np.int64(601), 'battle': np.int64(477), 'need changed': np.int64(2944), 'lover': np.int64(2654), 'bred': np.int64(579), 'cold': np.int64(874), 'dark': np.int64(1121), 'laboratory': np.int64(2475), 'experiment': np.int64(1598), 'dog uk': np.int64(1315), 'urban': np.int64(4707), 'coronavirus outbreak': np.int64(994), 'perpetrator': np.int64(3307), 'unsafe': np.int64(4695), 'law need': np.int64(2504), 'make mental health': np.int64(2703), 'inhumane': np.int64(2357), 'sentient': np.int64(4045), 'egg': np.int64(1407), 'coach': np.int64(867), 'network': np.int64(2973), 'laid': np.int64(2480), 'government add': np.int64(1942), 'government power': np.int64(1981), 'time need': np.int64(4522), 'bee': np.int64(488), 'hazard': np.int64(2073), 'fast': np.int64(1666), 'respond': np.int64(3839), 'lie': np.int64(2559), 'vaping': np.int64(4740), 'volume': np.int64(4780), 'toy': np.int64(4553), 'per day': np.int64(3287), 'defence': np.int64(1166), 'online safety': np.int64(3090), 'could put': np.int64(1021), 'sole': np.int64(4186), 'tax bill': np.int64(4425), 'able pay': np.int64(105), 'use public': np.int64(4724), 'first aid': np.int64(1728), 'nuisance': np.int64(3043), 'reaction': np.int64(3655), 'sound': np.int64(4199), 'grass': np.int64(2016), 'approval': np.int64(353), 'hedgehog': np.int64(2109), 'destructive': np.int64(1214), 'artificial grass': np.int64(374), 'category': np.int64(719), 'greatest': np.int64(2021), 'coverage': np.int64(1045), 'fails': np.int64(1643), 'first time': np.int64(1731), 'resulted': np.int64(3853), 'claimed': np.int64(834), 'accepting': np.int64(126), 'fuel duty': np.int64(1835), 'year government': np.int64(4973), 'diesel petrol': np.int64(1244), 'electric vehicle': np.int64(1422), 'believe people': np.int64(504), 'cultural': np.int64(1088), 'trip': np.int64(4594), 'seem': np.int64(4014), 'even though': np.int64(1546), 'basic need': np.int64(474), 'rewarded': np.int64(3878), 'workload': np.int64(4927), 'dealing': np.int64(1140), 'current climate': np.int64(1093), 'paye': np.int64(3219), '70': np.int64(90), 'financial strain': np.int64(1711), 'educate': np.int64(1388), 'floor': np.int64(1746), 'awareness campaign': np.int64(432), 'young age': np.int64(4985), 'agreed': np.int64(226), '28': np.int64(61), 'go back': np.int64(1927), 'back work': np.int64(437), 'gp surgery': np.int64(2008), 'blind': np.int64(543), 'differently': np.int64(1249), 'disabled person': np.int64(1265), 'readily available': np.int64(3658), 'operation': np.int64(3097), 'drone': np.int64(1343), 'sight': np.int64(4117), 'entering': np.int64(1495), 'review current': np.int64(3871), 'upper': np.int64(4704), 'attend school': np.int64(405), 'structure': np.int64(4303), 'neurodiverse': np.int64(2975), 'student would': np.int64(4318), 'past year': np.int64(3196), 'manufacture': np.int64(2725), 'sale use firework': np.int64(3936), 'lunch': np.int64(2665), 'free school': np.int64(1809), 'school meal': np.int64(3967), 'especially child': np.int64(1524), 'free school meal': np.int64(1810), 'help make': np.int64(2121), 'australia': np.int64(411), 'government implement': np.int64(1964), 'wall': np.int64(4803), 'lung': np.int64(2666), 'fill': np.int64(1697), 'oxygen': np.int64(3138), 'could mean': np.int64(1019), 'transition': np.int64(4569), 'loneliness': np.int64(2627), 'worsening': np.int64(4935), 'cognitive': np.int64(872), 'suicide': np.int64(4345), 'need made': np.int64(2952), 'unaffordable': np.int64(4643), 'meanwhile': np.int64(2786), 'explore': np.int64(1603), 'per year': np.int64(3291), 'negative impact': np.int64(2962), 'corruption': np.int64(1001), 'government use': np.int64(2004), 'genetic': np.int64(1902), 'defra': np.int64(1173), 'hereditary': np.int64(2136), 'checked': np.int64(770), 'breeding dog': np.int64(585), 'breed specific': np.int64(582), 'fault': np.int64(1671), 'equally': np.int64(1514), 'equipped': np.int64(1517), 'aviation': np.int64(425), 'ethical': np.int64(1536), 'compete': np.int64(911), 'deforestation': np.int64(1172), 'combined': np.int64(884), 'additional need': np.int64(171), 'need child': np.int64(2945), 'newly': np.int64(2992), 'excuse': np.int64(1578), 'checking': np.int64(771), 'voluntary': np.int64(4781), 'parent child': np.int64(3162), 'age group': np.int64(218), '66': np.int64(89), 'depending': np.int64(1196), 'pension age': np.int64(3235), 'private pension': np.int64(3476), 'state pension age': np.int64(4254), '12 week': np.int64(10), 'think need': np.int64(4489), 'restrictive': np.int64(3851), 'work hour': np.int64(4915), 'school day': np.int64(3961), 'would increase': np.int64(4948), 'education school': np.int64(1392), 'extra hour': np.int64(1620), 'make difference': np.int64(2689), 'fracking': np.int64(1795), 'chemical': np.int64(772), 'whale': np.int64(4867), 'consuming': np.int64(959), 'plastic bag': np.int64(3359), 'nice': np.int64(3016), 'clinical': np.int64(852), 'trial': np.int64(4590), '2017': np.int64(38), 'clinical trial': np.int64(853), 'easter': np.int64(1376), 'sensible': np.int64(4039), 'petrol car': np.int64(3324), 'purchased': np.int64(3596), 'bonfire': np.int64(552), 'misuse': np.int64(2867), 'died': np.int64(1241), 'zoo': np.int64(4999), 'bonfire night': np.int64(553), 'many animal': np.int64(2729), 'elderly people': np.int64(1412), 'enhance': np.int64(1480), 'ad': np.int64(161), 'rightly': np.int64(3887), 'ban advertising': np.int64(451), 'feed': np.int64(1680), 'child tax': np.int64(800), 'tax credit': np.int64(4426), 'get help': np.int64(1909), 'child child': np.int64(783), 'child tax credit': np.int64(801), 'talking': np.int64(4417), 'learner': np.int64(2514), 'got': np.int64(1938), 'computer': np.int64(923), 'people access': np.int64(3239), 'living cost': np.int64(2609), 'come back': np.int64(887), 'local council': np.int64(2620), 'thrown': np.int64(4510), 'otherwise': np.int64(3115), 'pcr': np.int64(3225), 'costly': np.int64(1009), 'assessed grade': np.int64(385), 'trainee': np.int64(4566), 'student teacher': np.int64(4317), 'teacher training': np.int64(4441), 'student receive': np.int64(4315), 'massively': np.int64(2760), 'resilience': np.int64(3834), 'menu': np.int64(2832), 'mixed': np.int64(2869), 'theyve': np.int64(4483), 'employ': np.int64(1438), 'pool': np.int64(3389), 'premise': np.int64(3429), 'car tax': np.int64(673), 'many business': np.int64(2730), 'toiletry': np.int64(4537), 'extortionate': np.int64(1617), 'go without': np.int64(1929), 'face covering': np.int64(1628), 'mammal': np.int64(2713), 'lump': np.int64(2664), 'cope': np.int64(987), 'funding available': np.int64(1857), 'handle': np.int64(2053), 'want make': np.int64(4820), 'enormous': np.int64(1483), 'service provider': np.int64(4061), 'austerity': np.int64(410), 'pay award': np.int64(3205), 'health risk': np.int64(2085), 'silence': np.int64(4125), 'inclusive': np.int64(2295), 'bar': np.int64(467), 'music': np.int64(2902), 'inaccessible': np.int64(2284), 'wheelchair': np.int64(4869), 'eventually': np.int64(1549), 'benefit cap': np.int64(513), 'dog breed': np.int64(1311), 'want see': np.int64(4822), 'free speech': np.int64(1811), 'flexible': np.int64(1742), 'hair': np.int64(2049), 'clause': np.int64(839), 'fatal': np.int64(1669), 'saved': np.int64(3945), 'ban smoking': np.int64(459), 'public place': np.int64(3575), 'second hand': np.int64(3997), 'many life': np.int64(2736), 'reviewed': np.int64(3874), 'house price': np.int64(2208), 'cow': np.int64(1060), 'cattle': np.int64(721), 'public right': np.int64(3576), 'surrounding': np.int64(4381), 'government must ensure': np.int64(1975), 'firework general': np.int64(1723), 'animal suffering': np.int64(310), 'firework general public': np.int64(1724), 'apart': np.int64(331), 'maybe': np.int64(2775), 'winter fuel': np.int64(4893), 'publicly': np.int64(3585), 'temperature': np.int64(4453), 'recording': np.int64(3694), 'enhanced': np.int64(1481), 'hate incident': np.int64(2071), 'keyworkers': np.int64(2456), 'risking': np.int64(3895), 'national holiday': np.int64(2922), 'put life': np.int64(3603), 'life line': np.int64(2562), 'people given': np.int64(3255), 'risking life': np.int64(3896), 'fridge': np.int64(1822), 'washing': np.int64(4832), 'owed': np.int64(3133), 'asthmatic': np.int64(399), 'asthma': np.int64(398), 'brexit': np.int64(586), 'withdraw': np.int64(4897), 'stay home': np.int64(4268), 'fashion': np.int64(1665), 'sold uk': np.int64(4185), '5000': np.int64(80), 'annum': np.int64(320), 'maintenance loan': np.int64(2680), 'per annum': np.int64(3286), 'people animal': np.int64(3244), 'probation': np.int64(3482), 'sickness': np.int64(4115), 'reliant': np.int64(3767), 'implication': np.int64(2268), 'insurance company': np.int64(2379), 'catching': np.int64(718), 'go school': np.int64(1928), 'government help': np.int64(1962), 'wheelchair user': np.int64(4870), 'transportation': np.int64(4575), 'agriculture': np.int64(230), 'overwhelming': np.int64(3132), 'action needed': np.int64(154), 'every week': np.int64(1555), 'minority': np.int64(2858), 'three year': np.int64(4504), 'nonessential': np.int64(3025), 'connection': np.int64(938), 'childcare provider': np.int64(808), 'palm': np.int64(3151), 'rainforest': np.int64(3631), 'palm oil': np.int64(3152), 'stopping': np.int64(4281), 'pursue': np.int64(3600), 'muslim': np.int64(2903), 'donation': np.int64(1319), 'political party': np.int64(3382), 'health social': np.int64(2088), 'health social care': np.int64(2089), 'beginning': np.int64(491), 'animal product': np.int64(308), 'enable people': np.int64(1447), 'ai': np.int64(232), 'misinformation': np.int64(2861), 'made illegal': np.int64(2672), 'unemployed': np.int64(4660), 'overlooked': np.int64(3125), 'people aged': np.int64(3242), 'abandon': np.int64(96), 'focused': np.int64(1752), 'want government change': np.int64(4808), 'arrange': np.int64(366), 'nonrecyclable': np.int64(3027), 'efficient': np.int64(1404), 'make sense': np.int64(2708), 'quarter': np.int64(3616), 'government therefore': np.int64(2003), 'farmland': np.int64(1664), 'interaction': np.int64(2389), 'summer holiday': np.int64(4350), 'netting': np.int64(2972), 'rspca': np.int64(3913), 'large number': np.int64(2490), 'constant': np.int64(948), 'pornography': np.int64(3397), 'clean air': np.int64(841), 'could reduce': np.int64(1022), 'celebrated': np.int64(732), 'gratitude': np.int64(2017), 'harassment': np.int64(2060), 'consistent': np.int64(947), 'conversation': np.int64(983), 'room': np.int64(3907), 'period product': np.int64(3300), 'menstrual product': np.int64(2815), 'onshore': np.int64(3091), 'belt': np.int64(510), 'green belt': np.int64(2024), 'protected specie': np.int64(3542), 'pa': np.int64(3139), 'involve': np.int64(2416), 'subjected': np.int64(4323), 'income threshold': np.int64(2302), 'vat threshold': np.int64(4748), 'public inquiry': np.int64(3572), 'inheritance': np.int64(2355), 'scrapping': np.int64(3985), 'government scrap': np.int64(1996), 'inheritance tax': np.int64(2356), 'immunity': np.int64(2256), 'authorised': np.int64(412), 'violent': np.int64(4766), 'exception': np.int64(1570), 'combustion': np.int64(885), 'engine': np.int64(1476), 'want government provide': np.int64(4815), 'fruit': np.int64(1832), 'vegetable': np.int64(4750), 'healthy start': np.int64(2098), 'fruit vegetable': np.int64(1833), 'help many': np.int64(2122), 'impact mental': np.int64(2259), 'help stop': np.int64(2130), 'id like': np.int64(2235), 'particular issue': np.int64(3180), 'deduction': np.int64(1162), 'shoe': np.int64(4094), 'parent take': np.int64(3163), 'shot': np.int64(4103), 'sen child': np.int64(4034), 'child access': np.int64(775), 'calculating': np.int64(631), 'motorist': np.int64(2891), 'daily basis': np.int64(1113), 'life people': np.int64(2564), 'would enable': np.int64(4944), 'updated': np.int64(4700), 'married': np.int64(2756), 'deceased': np.int64(1147), 'soon possible': np.int64(4196), 'protect environment': np.int64(3536), 'underpaid': np.int64(4653), 'give nh': np.int64(1916), 'rise nh': np.int64(3890), 'pay rise nh': np.int64(3216), 'hedgerow': np.int64(2110), 'rural area': np.int64(3920), 'urban area': np.int64(4708), 'pride': np.int64(3456), 'manufacturing': np.int64(2727), 'frontline staff': np.int64(1830), 'choosing': np.int64(816), 'per hour': np.int64(3288), 'discussion': np.int64(1278), 'restore': np.int64(3846), 'desire': np.int64(1205), 'request government': np.int64(3809), 'district': np.int64(1299), 'high street': np.int64(2148), 'care professional': np.int64(690), 'ethic': np.int64(1535), 'demonstrate': np.int64(1186), 'confusing': np.int64(934), 'heart attack': np.int64(2103), 'tie': np.int64(4514), 'foot': np.int64(1767), 'print': np.int64(3464), 'protect vulnerable': np.int64(3540), 'luxury': np.int64(2667), 'government abolish': np.int64(1941), 'newspaper': np.int64(2994), 'came': np.int64(644), 'every person': np.int64(1554), 'irreversible': np.int64(2423), '21st century': np.int64(52), 'ecigarettes': np.int64(1381), 'allow student': np.int64(266), 'funding mental': np.int64(1862), 'funding mental health': np.int64(1863), 'public service': np.int64(3581), 'pcos': np.int64(3224), 'hide': np.int64(2141), 'child send': np.int64(797), 'exposure': np.int64(1606), 'prepayment': np.int64(3433), 'tariff': np.int64(4420), 'provide additional': np.int64(3550), 'pay back': np.int64(3206), 'government require school': np.int64(1992), 'passed away': np.int64(3190), 'joint': np.int64(2440), 'applies': np.int64(341), 'overtime': np.int64(3130), 'servant': np.int64(4051), 'civil servant': np.int64(829), 'house lord': np.int64(2207), 'people want': np.int64(3281), 'taxpayer money': np.int64(4438), 'preventable': np.int64(3446), 'daylight': np.int64(1135), 'summer time': np.int64(4351), 'breaking': np.int64(572), 'increase number': np.int64(2311), 'served': np.int64(4053), 'returned': np.int64(3865), 'reimbursed': np.int64(3751), 'roadside': np.int64(3901), 'allowed use': np.int64(269), 'vitamin': np.int64(4777), 'grocery': np.int64(2032), 'statement': np.int64(4257), '27': np.int64(60), 'uk want': np.int64(4634), 'wide': np.int64(4880), 'sanctuary': np.int64(3938), 'would provide': np.int64(4956), 'align': np.int64(249), 'urge uk': np.int64(4711), 'pet travel': np.int64(3320), 'ministerial': np.int64(2855), 'exists': np.int64(1587), 'ministerial code': np.int64(2856), 'day bank': np.int64(1130), 'higher rate': np.int64(2151), 'day bank holiday': np.int64(1131), 'canal': np.int64(649), 'anywhere': np.int64(330), 'uk believe': np.int64(4622), 'alarming': np.int64(243), 'mile': np.int64(2842), 'cat dog': np.int64(713), 'blanket': np.int64(542), 'hearing': np.int64(2101), 'availability': np.int64(420), 'youth': np.int64(4991), 'apprenticeship': np.int64(349), 'parttime': np.int64(3184), 'care sector': np.int64(693), 'want government review': np.int64(4817), 'statistic': np.int64(4260), 'proactive': np.int64(3481), 'taxfree': np.int64(4434), 'childcare cost': np.int64(807), 'tax free': np.int64(4427), 'app': np.int64(332), 'rail': np.int64(3630), 'care need': np.int64(688), 'shark': np.int64(4083), 'isolated': np.int64(2429), 'isnt enough': np.int64(2427), 'africa': np.int64(213), 'variant': np.int64(4741), 'presented': np.int64(3440), 'signature': np.int64(4120), 'attendance': np.int64(406), 'independent body': np.int64(2331), 'betting': np.int64(523), 'terminal': np.int64(4460), '85': np.int64(93), 'eye test': np.int64(1626), 'punished': np.int64(3591), 'theory test': np.int64(4477), 'son': np.int64(4194), 'safely': np.int64(3926), 'without worry': np.int64(4903), 'putting life': np.int64(3606), 'putting life risk': np.int64(3607), 'dangerous dog': np.int64(1119), 'dog act': np.int64(1309), 'dangerous dog act': np.int64(1120), 'department education': np.int64(1193), 'dog dog': np.int64(1313), 'seeking': np.int64(4013), 'change could': np.int64(751), 'hold public': np.int64(2163), 'cost nh': np.int64(1007), 'engagement': np.int64(1475), 'unhealthy': np.int64(4666), 'wasted': np.int64(4834), 'tackling': np.int64(4401), 'food waste': np.int64(1766), 'injured': np.int64(2360), 'provide financial': np.int64(3552), 'animal rescue': np.int64(309), 'learning difficulty': np.int64(2516), 'allow pet': np.int64(265), 'bubble': np.int64(605), 'piece': np.int64(3340), 'prospective': np.int64(3530), 'fed': np.int64(1676), 'ballot paper': np.int64(448), 'indoor': np.int64(2336), 'lifted': np.int64(2572), 'importantly': np.int64(2272), 'st': np.int64(4232), 'george': np.int64(1904), 'st george': np.int64(4235), 'george day': np.int64(1905), 'telling': np.int64(4452), 'possibility': np.int64(3402), 'press': np.int64(3442), 'cross': np.int64(1081), 'government make illegal': np.int64(1972), 'nearest': np.int64(2937), 'sanction': np.int64(3937), 'photo': np.int64(3331), 'waiver': np.int64(4799), 'medical condition': np.int64(2791), 'time work': np.int64(4525), 'work due': np.int64(4912), 'schooling': np.int64(3976), 'support staff': np.int64(4370), 'current cost': np.int64(1094), 'pub': np.int64(3563), 'people life': np.int64(3263), '1981': np.int64(23), 'triple': np.int64(4595), 'handling': np.int64(2054), 'definition': np.int64(1171), 'specific criminal': np.int64(4214), 'new law': np.int64(2984), 'specific criminal offence': np.int64(4215), 'claim universal': np.int64(831), 'claim universal credit': np.int64(832), 'extensive': np.int64(1613), 'strongly': np.int64(4302), 'initial': np.int64(2358), 'nh england': np.int64(3003), 'everybody': np.int64(1557), 'finish': np.int64(1718), 'give child': np.int64(1915), 'covered': np.int64(1046), 'welfare act': np.int64(4856), 'act 2006': np.int64(150), 'animal welfare act': np.int64(313), 'welfare act 2006': np.int64(4857), 'assessing': np.int64(386), 'care cost': np.int64(685), 'like many': np.int64(2581), 'pollinator': np.int64(3385), 'adverse effect': np.int64(192), 'pig': np.int64(3341), 'men woman': np.int64(2812), 'legally required': np.int64(2534), 'infant': np.int64(2342), 'allergic': np.int64(253), 'dairy': np.int64(1114), 'exempted': np.int64(1582), 'screen': np.int64(3986), 'shared': np.int64(4081), 'must also': np.int64(2906), 'triple lock': np.int64(4596), 'denied': np.int64(1187), 'university student': np.int64(4680), 'student able': np.int64(4308), 'pip': np.int64(3343), 'prostate': np.int64(3531), 'man': np.int64(2714), 'dy': np.int64(1357), 'prostate cancer': np.int64(3532), 'health people': np.int64(2082), 'firework public': np.int64(1725), 'ban sale firework': np.int64(456), 'child aged': np.int64(779), 'attention': np.int64(408), 'awful': np.int64(434), 'education student': np.int64(1393), 'chamber': np.int64(747), 'participation': np.int64(3178), 'help save life': np.int64(2129), 'sufferer': np.int64(4336), 'vegan': np.int64(4749), 'disaster': np.int64(1268), 'adult child': np.int64(187), 'pay prescription': np.int64(3214), 'notifiable': np.int64(3038), 'free charge': np.int64(1800), 'visually': np.int64(4775), 'chronic illness': np.int64(820), 'equitable': np.int64(1518), 'sensory': np.int64(4041), 'sale firework general': np.int64(3934), 'allocate': np.int64(257), 'soft': np.int64(4179), 'detriment': np.int64(1221), 'braille': np.int64(565), 'approximately': np.int64(355), 'undergraduate': np.int64(4649), 'island': np.int64(2425), 'dolphin': np.int64(1316), 'hunt': np.int64(2226), 'clinically': np.int64(854), 'cast': np.int64(711), 'tv licence fee': np.int64(4613), 'felt': np.int64(1688), 'attacked': np.int64(402), 'traumatic': np.int64(4579), 'dog attack': np.int64(1310), 'town city': np.int64(4551), 'collar': np.int64(876), 'shock collar': np.int64(4092), 'school provide': np.int64(3969), 'highlight': np.int64(2153), 'fund improved': np.int64(1848), 'care support': np.int64(696), 'people like': np.int64(3264), 'like government fund': np.int64(2579), 'secretary state': np.int64(4003), 'decision made': np.int64(1153), 'educational setting': np.int64(1398), 'paternity leave': np.int64(3198), 'breathe': np.int64(577), 'food security': np.int64(1765), 'kennel': np.int64(2452), 'support student': np.int64(4371), 'time people': np.int64(4523), 'atmosphere': np.int64(400), 'recycle': np.int64(3700), 'tablet': np.int64(4399), 'take away': np.int64(4407), 'epilepsy': np.int64(1509), 'appear': np.int64(336), 'physical mental': np.int64(3335), 'fund increased': np.int64(1849), 'funding support': np.int64(1868), 'colleague': np.int64(877), 'blue': np.int64(546), 'benefit child': np.int64(515), 'child receive': np.int64(794), 'distressing': np.int64(1296), 'local community': np.int64(2619), 'la': np.int64(2471), 'research show': np.int64(3828), 'appreciation': np.int64(347), 'personally': np.int64(3312), 'manifesto': np.int64(2723), 'within uk': np.int64(4900), 'hour contract': np.int64(2197), 'welfare standard': np.int64(4858), 'switch': np.int64(4393), 'pathway': np.int64(3200), 'deficiency': np.int64(1168), 'protect nh': np.int64(3537), 'rider': np.int64(3881), 'flow': np.int64(1747), 'repeated': np.int64(3794), 'capable': np.int64(661), 'support nh': np.int64(4366), 'new state': np.int64(2987), 'new state pension': np.int64(2988), 'extremely difficult': np.int64(1623), 'waiting time': np.int64(4798), 'older people': np.int64(3081), 'school year': np.int64(3975), 'document': np.int64(1306), 'animal abuser': np.int64(302), 'greyhound': np.int64(2029), 'retired': np.int64(3860), 'ready': np.int64(3660), 'nut': np.int64(3052), 'peanut': np.int64(3229), 'hurt': np.int64(2228), 'shielding': np.int64(4088), 'help buy': np.int64(2115), 'buy isa': np.int64(622), 'help buy isa': np.int64(2116), 'lifesaving': np.int64(2567), 'get back': np.int64(1908), 'march 2020': np.int64(2751), 'entitled free': np.int64(1500), 'diagnosis treatment': np.int64(1237), 'opposed': np.int64(3101), 'trace': np.int64(4554), 'prescription charge': np.int64(3437), 'mental physical health': np.int64(2828), 'weapon': np.int64(4845), 'nh prescription': np.int64(3010), 'backed': np.int64(439), 'breast cancer': np.int64(574), 'info': np.int64(2347), 'consumer right': np.int64(958), 'affected covid19': np.int64(206), 'applicant': np.int64(338), 'euthanasia': np.int64(1542), 'breed dog': np.int64(581), 'band': np.int64(461), 'government protect': np.int64(1983), 'posting': np.int64(3409), 'publisher': np.int64(3588), 'synthetic': np.int64(4397), 'specific offence': np.int64(4216), 'earns': np.int64(1370), 'high income': np.int64(2144), 'seagull': np.int64(3992), 'bread': np.int64(569), 'would need': np.int64(4954), 'tribunal': np.int64(4591), 'pressure nh': np.int64(3444), 'school curriculum': np.int64(3960), 'flu': np.int64(1748), 'catastrophic': np.int64(716), 'captive': np.int64(665), 'captivity': np.int64(666), 'original': np.int64(3113), 'support available': np.int64(4361), 'livestock': np.int64(2606), 'chicken': np.int64(773), 'police officer': np.int64(3379), 'postgraduate': np.int64(3408), 'spring': np.int64(4230), 'associate': np.int64(395), 'carbohydrate': np.int64(674), 'diabetic': np.int64(1234), 'mean tested': np.int64(2782), 'tax allowance': np.int64(4424), 'zerorated': np.int64(4997), 'social worker': np.int64(4175), 'available people': np.int64(423), 'nanny': np.int64(2916), 'littering': np.int64(2600), 'demanding': np.int64(1182), 'footage': np.int64(1768), 'misleading': np.int64(2862), 'survivor': np.int64(4385), 'talk': np.int64(4416), 'portion': np.int64(3398), 'hundred thousand': np.int64(2224), 'broadcast': np.int64(600), 'china': np.int64(813), 'garment': np.int64(1884), 'fin': np.int64(1700), 'shark fin': np.int64(4084), 'rehoming': np.int64(3749), 'pet theft': np.int64(3319), 'fund nh': np.int64(1851), 'educating': np.int64(1390), 'provide additional funding': np.int64(3551), 'rated': np.int64(3645), '250': np.int64(58), 'achievement': np.int64(142), 'unelected': np.int64(4659), 'qualifying': np.int64(3611), 'westminster': np.int64(4864), '650': np.int64(88), 'living payment': np.int64(2611), 'cost living payment': np.int64(1006), 'screening programme': np.int64(3989), 'pain suffering': np.int64(3149), 'neurodiversity': np.int64(2976), 'neurodivergent': np.int64(2974), 'funding research': np.int64(1866), '2012': np.int64(34), 'standardised': np.int64(4246), 'deposit': np.int64(1197), 'division': np.int64(1302), 'reference': np.int64(3720), 'feeding': np.int64(1682), 'symbol': np.int64(4394), 'unity': np.int64(4674), 'decision making': np.int64(1154), 'economics': np.int64(1385), 'conflict': np.int64(933), 'thereby': np.int64(4480), 'deeply': np.int64(1164), 'terminal illness': np.int64(4461), 'constructive': np.int64(953), 'public awareness campaign': np.int64(3567), 'serving': np.int64(4064), 'mine': np.int64(2849), 'school college': np.int64(3959), 'student take': np.int64(4316), 'library': np.int64(2552), 'eliminate': np.int64(1428), 'public fund': np.int64(3569), 'habit': np.int64(2047), 'code practice': np.int64(871), 'young child': np.int64(4986), 'dismissal': np.int64(1282), 'gained': np.int64(1877), 'repair': np.int64(3790), 'achieving': np.int64(143), 'treasury': np.int64(4584), 'tested animal': np.int64(4467), 'animal testing': np.int64(311), 'product tested': np.int64(3495), 'product tested animal': np.int64(3496), 'catapult': np.int64(715), 'charge vat': np.int64(762), 'woodland': np.int64(4909), '40000': np.int64(76), 'working nh': np.int64(4924), 'british citizen': np.int64(593), 'academic year': np.int64(122), 'devolved': np.int64(1231), 'must change': np.int64(2907), 'paid work': np.int64(3147), 'business rate': np.int64(619), 'continuous': np.int64(972), 'high level': np.int64(2146), 'physical mental health': np.int64(3336), 'access free': np.int64(128), 'public office': np.int64(3574), 'rugby': np.int64(3915), 'reputation': np.int64(3807), 'rate tax': np.int64(3643), 'rental': np.int64(3788), 'desperate': np.int64(1206), 'adjustment': np.int64(180), 'period poverty': np.int64(3299), 'fly': np.int64(1749), 'widely available': np.int64(4882), 'vast majority': np.int64(4745), 'fuel payment': np.int64(1836), 'winter fuel payment': np.int64(4894), 'beef': np.int64(489), 'people live': np.int64(3265), 'make difficult': np.int64(2690), 'takeaway': np.int64(4412), 'expectancy': np.int64(1590), 'increase state': np.int64(2314), 'life expectancy': np.int64(2561), 'increase state pension': np.int64(2315), 'high cost': np.int64(2143), 'working home': np.int64(4922), 'devolution': np.int64(1230), 'bereaved': np.int64(516), 'could help reduce': np.int64(1015), 'transplant': np.int64(4573), '9250': np.int64(95), 'graduate': np.int64(2013), 'small animal': np.int64(4156), 'government minister': np.int64(1973), 'rebate': np.int64(3669), 'support service': np.int64(4369), 'may able': np.int64(2772), 'rehabilitation': np.int64(3748), 'british summer time': np.int64(598), 'redundancy': np.int64(3718), 'sector pay': np.int64(4006), 'public sector pay': np.int64(3579), 'gesture': np.int64(1906), 'legacy': np.int64(2527), 'culling': np.int64(1087), 'fur': np.int64(1870), 'red diesel': np.int64(3704), 'footballer': np.int64(1771), 'undergo': np.int64(4648), 'plantbased': np.int64(3356), 'note': np.int64(3035), 'government end': np.int64(1954), 'upset': np.int64(4705), 'stress anxiety': np.int64(4292), 'designated': np.int64(1203), 'instructor': np.int64(2375), 'stop charging': np.int64(4278), 'earned': np.int64(1366), 'advise': np.int64(199), 'creature': np.int64(1069), 'detection': np.int64(1217), 'car park': np.int64(670), 'limit number': np.int64(2585), 'london mayor': np.int64(2626), 'repeat': np.int64(3793), 'outdoor': np.int64(3119), 'tfl': np.int64(4471), 'organic': np.int64(3110), 'trail': np.int64(4563), 'dyslexia': np.int64(1359), 'zero hour': np.int64(4994), 'zero hour contract': np.int64(4995), 'anonymity': np.int64(321), 'hidden': np.int64(2139), 'hidden disability': np.int64(2140), 'cull': np.int64(1086), 'income child': np.int64(2297), 'benefit charge': np.int64(514), 'high income child': np.int64(2145), 'income child benefit': np.int64(2298), 'poor mental': np.int64(3391), 'smp': np.int64(4165), 'insulation': np.int64(2377), 'suspected': np.int64(4386), 'seized': np.int64(4017), 'prepared': np.int64(3432), 'bond': np.int64(550), 'slot': np.int64(4153), 'insurer': np.int64(2381), 'festival': np.int64(1690), 'releasing': np.int64(3763), 'health professional': np.int64(2084), 'soft drink': np.int64(4180), 'morning': np.int64(2885), 'noisy': np.int64(3021), 'shorten': np.int64(4100), 'student maintenance': np.int64(4312), 'student maintenance loan': np.int64(4313), 'somewhere': np.int64(4193), 'nonbiodegradable': np.int64(3023), 'chronic pain': np.int64(821), 'reasonable adjustment': np.int64(3668), 'covid19 vaccination': np.int64(1058), 'broadcasting': np.int64(602), 'current legislation': np.int64(1097), 'dietary': np.int64(1246), 'processed meat': np.int64(3488), 'hound': np.int64(2195), 'shortfall': np.int64(4102), 'capability': np.int64(660), 'sick leave': np.int64(4111), 'suspension': np.int64(4389), 'nh dentist': np.int64(3002), 'airplane': np.int64(240), 'importation': np.int64(2273), 'earner': np.int64(1367), '120': np.int64(11), 'advocate': np.int64(201), 'lottery': np.int64(2647), 'teeth': np.int64(4448), 'pharmacist': np.int64(3327), 'also provide': np.int64(281), 'identification': np.int64(2238), 'school staff': np.int64(3971), 'age 60': np.int64(217), 'programming': np.int64(3507), 'extremely vulnerable': np.int64(1624), 'alert': np.int64(246), 'filter': np.int64(1699), 'euthanised': np.int64(1543), 'animal killed': np.int64(306), 'make offence': np.int64(2705), 'postcode': np.int64(3407), 'animal health': np.int64(305), 'recent event': np.int64(3681), 'loving': np.int64(2655), 'automatic': np.int64(417), 'eu student': np.int64(1538), 'animal agriculture': np.int64(303), 'intake': np.int64(2382), 'rat': np.int64(3641), 'breast screening': np.int64(575), 'imposing': np.int64(2277), 'medium outlet': np.int64(2801), 'physical activity': np.int64(3333), 'equation': np.int64(1515), 'medical student': np.int64(2795), 'enclosure': np.int64(1451), 'rescue centre': np.int64(3826), 'passport': np.int64(3193), 'steel': np.int64(4270), 'newborn': np.int64(2991), 'food product': np.int64(1763), 'outstanding': np.int64(3123), 'kwh': np.int64(2470), 'depend': np.int64(1194), 'sentencing': np.int64(4044), 'health warning': np.int64(2091), 'sunscreen': np.int64(4355), 'rawhide': np.int64(3652), 'vehicle tax': np.int64(4753), 'load': np.int64(2614), 'nh care': np.int64(2999), 'iht': np.int64(2244), 'factory': np.int64(1639), 'sickle': np.int64(4113), 'sickle cell': np.int64(4114), 'health first': np.int64(2080), 'mental health first': np.int64(2820), 'david': np.int64(1127), 'st david': np.int64(4233), 'david day': np.int64(1128), 'st david day': np.int64(4234), 'car seat': np.int64(672), 'barbecue': np.int64(469), 'contempt': np.int64(966), 'recipe': np.int64(3684), 'arctic': np.int64(358), 'rare disease': np.int64(3640)}\n"
          ]
        }
      ]
    },
    {
      "cell_type": "markdown",
      "source": [
        "## As the `has_entity` is supposed to give as an input to the model so it should be in numerical values. it give the information about whether the provided information is from person, event or data. So if there aer yes and no in the data then `labelencoder` will convert them into numerical values as `0` and `1` or `true` and `false`."
      ],
      "metadata": {
        "id": "dZ-8MS6Iv6lq"
      }
    },
    {
      "cell_type": "code",
      "source": [
        "entity_encoder = LabelEncoder()\n",
        "entity_encoded = entity_encoder.fit_transform(data['has_entity'])\n",
        "entity_features = pd.get_dummies(entity_encoded).values"
      ],
      "metadata": {
        "id": "7Yh3bCD0HJQO"
      },
      "execution_count": 49,
      "outputs": []
    },
    {
      "cell_type": "code",
      "source": [
        "entity_features"
      ],
      "metadata": {
        "colab": {
          "base_uri": "https://localhost:8080/"
        },
        "id": "PEyD3cqNi6G-",
        "outputId": "c841a915-471b-41e4-a913-262450e4be2e"
      },
      "execution_count": 50,
      "outputs": [
        {
          "output_type": "execute_result",
          "data": {
            "text/plain": [
              "array([[ True, False, False, ..., False, False, False],\n",
              "       [False, False,  True, ..., False, False, False],\n",
              "       [ True, False, False, ..., False, False, False],\n",
              "       ...,\n",
              "       [False, False, False, ..., False, False,  True],\n",
              "       [ True, False, False, ..., False, False, False],\n",
              "       [ True, False, False, ..., False, False, False]])"
            ]
          },
          "metadata": {},
          "execution_count": 50
        }
      ]
    },
    {
      "cell_type": "code",
      "source": [
        "topic_encoder = LabelEncoder()\n",
        "target = topic_encoder.fit_transform(data['petition_topic'])\n",
        "print(\"Target encoded. Unique topics:\", topic_encoder.classes_)"
      ],
      "metadata": {
        "colab": {
          "base_uri": "https://localhost:8080/"
        },
        "id": "2gIZMprgnY0t",
        "outputId": "8bec04f4-ec42-4f0d-d9ef-74c416fc79c9"
      },
      "execution_count": 51,
      "outputs": [
        {
          "output_type": "stream",
          "name": "stdout",
          "text": [
            "Target encoded. Unique topics: ['culture, sport and media' 'economy, labour and welfare' 'education'\n",
            " 'environment and animal welfare' 'health and social care' 'london'\n",
            " 'uk government and devolution']\n"
          ]
        }
      ]
    },
    {
      "cell_type": "code",
      "source": [
        "target"
      ],
      "metadata": {
        "colab": {
          "base_uri": "https://localhost:8080/"
        },
        "id": "4J9-d3XMj-DJ",
        "outputId": "046e6ad9-0835-4970-89db-b4f38b3d1b18"
      },
      "execution_count": 52,
      "outputs": [
        {
          "output_type": "execute_result",
          "data": {
            "text/plain": [
              "array([2, 6, 4, ..., 0, 0, 4])"
            ]
          },
          "metadata": {},
          "execution_count": 52
        }
      ]
    },
    {
      "cell_type": "markdown",
      "source": [
        "#**Feature combining and data splitting**"
      ],
      "metadata": {
        "id": "PSs0aFKJtBcd"
      }
    },
    {
      "cell_type": "markdown",
      "source": [
        "##We have successfully converted the text into numerical values as seen above now we can feed this data to model for training and testing purpose. We are combining the features of `has_entity` and `petition_topic` for better understanding to the model."
      ],
      "metadata": {
        "id": "_drHJ9IFkISG"
      }
    },
    {
      "cell_type": "code",
      "source": [
        "X = hstack((text_features, entity_features))\n",
        "y = data['petition_topic'].values"
      ],
      "metadata": {
        "id": "kJeAGa9jPq_O"
      },
      "execution_count": 53,
      "outputs": []
    },
    {
      "cell_type": "code",
      "source": [
        "X_train, X_test, y_train, y_test = train_test_split(X, y, test_size=0.2, random_state=42)"
      ],
      "metadata": {
        "id": "XS9dDA_uPzkO"
      },
      "execution_count": 54,
      "outputs": []
    },
    {
      "cell_type": "code",
      "source": [
        "print(X_train.shape)\n",
        "print(y_train.shape)\n",
        "print(X_test.shape)\n",
        "print(y_test.shape)"
      ],
      "metadata": {
        "colab": {
          "base_uri": "https://localhost:8080/"
        },
        "id": "7-hi5AvBQZZc",
        "outputId": "1ba359b6-e130-4648-cb56-a85485be0bc3"
      },
      "execution_count": 55,
      "outputs": [
        {
          "output_type": "stream",
          "name": "stdout",
          "text": [
            "(7092, 5009)\n",
            "(7092,)\n",
            "(1773, 5009)\n",
            "(1773,)\n"
          ]
        }
      ]
    },
    {
      "cell_type": "markdown",
      "source": [
        "#**Final Model Training with GridSeachCV**"
      ],
      "metadata": {
        "id": "VjtvHqLytGOI"
      }
    },
    {
      "cell_type": "markdown",
      "source": [
        "#Here we are using grid search to find the best parameters for our model that is known as hyper parameter tuning which is neccearcy to get a good accurary."
      ],
      "metadata": {
        "id": "uDp4lcEElHc8"
      }
    },
    {
      "cell_type": "code",
      "source": [
        "param_grid = {\n",
        "    'C': [0.1, 0.6, 1.0],\n",
        "    'class_weight': [None,'balanced'],\n",
        "    'random_state': [42]\n",
        "}\n",
        "base_model = LinearSVC()\n",
        "grid_search = GridSearchCV(\n",
        "    estimator=base_model,\n",
        "    param_grid=param_grid,\n",
        "    cv=5,\n",
        "    scoring='accuracy',\n",
        "    n_jobs=-1,\n",
        "    verbose=1\n",
        ")\n",
        "grid_search.fit(X_train, y_train)\n",
        "print(\"Best Parameters:\", grid_search.best_params_)\n",
        "print(\"Best Cross-Validation Accuracy:\", grid_search.best_score_)"
      ],
      "metadata": {
        "colab": {
          "base_uri": "https://localhost:8080/"
        },
        "id": "tlJ3SckEWIl8",
        "outputId": "fb762deb-2eb5-4f3d-afda-69241737a4c0"
      },
      "execution_count": 56,
      "outputs": [
        {
          "output_type": "stream",
          "name": "stdout",
          "text": [
            "Fitting 5 folds for each of 6 candidates, totalling 30 fits\n",
            "Best Parameters: {'C': 0.6, 'class_weight': None, 'random_state': 42}\n",
            "Best Cross-Validation Accuracy: 0.894810604818149\n"
          ]
        }
      ]
    },
    {
      "cell_type": "code",
      "source": [
        "best_params = grid_search.best_params_\n",
        "best_params"
      ],
      "metadata": {
        "colab": {
          "base_uri": "https://localhost:8080/"
        },
        "id": "ZoD173NhEBGG",
        "outputId": "2c38eca8-4796-475c-dc25-b8c4f2ff4e9d"
      },
      "execution_count": 57,
      "outputs": [
        {
          "output_type": "execute_result",
          "data": {
            "text/plain": [
              "{'C': 0.6, 'class_weight': None, 'random_state': 42}"
            ]
          },
          "metadata": {},
          "execution_count": 57
        }
      ]
    },
    {
      "cell_type": "markdown",
      "source": [
        "#**Final Model Testing**"
      ],
      "metadata": {
        "id": "uPpoHl3-tOhY"
      }
    },
    {
      "cell_type": "code",
      "source": [
        "best_model = grid_search.best_estimator_\n",
        "y_pred = best_model.predict(X_test)"
      ],
      "metadata": {
        "id": "K37H7wHekUsr"
      },
      "execution_count": 58,
      "outputs": []
    },
    {
      "cell_type": "code",
      "source": [
        "from sklearn import metrics\n",
        "confusion_matrix = metrics.confusion_matrix(y_test, y_pred)\n",
        "print(confusion_matrix)"
      ],
      "metadata": {
        "colab": {
          "base_uri": "https://localhost:8080/"
        },
        "id": "Xbq6cuIJQ_ek",
        "outputId": "f1f798f0-8168-42c1-ec0c-7071b6c94cf6"
      },
      "execution_count": 59,
      "outputs": [
        {
          "output_type": "stream",
          "name": "stdout",
          "text": [
            "[[186   5   1   8   6   0   1]\n",
            " [  3 209   5  11   9   0   1]\n",
            " [  1   4 223   5  11   0   0]\n",
            " [  3   8   4 454   4   0   1]\n",
            " [  7   8  10  13 395   0   7]\n",
            " [  1   0   0   2   0  11   3]\n",
            " [  1   3   3   2   8   0 136]]\n"
          ]
        }
      ]
    },
    {
      "cell_type": "code",
      "source": [
        "print(\"Accuracy:\", accuracy_score(y_test, y_pred))\n",
        "print(classification_report(y_test, y_pred))"
      ],
      "metadata": {
        "colab": {
          "base_uri": "https://localhost:8080/"
        },
        "id": "oNWZ_DsBn6Qx",
        "outputId": "2c0acb02-f10a-4851-ac15-8295a9f8d15c"
      },
      "execution_count": 60,
      "outputs": [
        {
          "output_type": "stream",
          "name": "stdout",
          "text": [
            "Accuracy: 0.9103214890016921\n",
            "                                precision    recall  f1-score   support\n",
            "\n",
            "      culture, sport and media       0.92      0.90      0.91       207\n",
            "   economy, labour and welfare       0.88      0.88      0.88       238\n",
            "                     education       0.91      0.91      0.91       244\n",
            "environment and animal welfare       0.92      0.96      0.94       474\n",
            "        health and social care       0.91      0.90      0.90       440\n",
            "                        london       1.00      0.65      0.79        17\n",
            "  uk government and devolution       0.91      0.89      0.90       153\n",
            "\n",
            "                      accuracy                           0.91      1773\n",
            "                     macro avg       0.92      0.87      0.89      1773\n",
            "                  weighted avg       0.91      0.91      0.91      1773\n",
            "\n"
          ]
        }
      ]
    },
    {
      "cell_type": "code",
      "source": [
        "train_accuracy = best_model.score(X_train, y_train)\n",
        "# train_accuracy= train_accuracy*100\n",
        "print(f\"Train Accuracy: {train_accuracy:.2f}\" )"
      ],
      "metadata": {
        "colab": {
          "base_uri": "https://localhost:8080/"
        },
        "id": "V7jnoeNyoJAL",
        "outputId": "d4542ec9-8bd0-4ffc-9c52-9bc5633927e1"
      },
      "execution_count": 61,
      "outputs": [
        {
          "output_type": "stream",
          "name": "stdout",
          "text": [
            "Train Accuracy: 0.99\n"
          ]
        }
      ]
    },
    {
      "cell_type": "code",
      "source": [
        "test_accuracy = best_model.score(X_test, y_test)\n",
        "# test_accuracy= test_accuracy*100\n",
        "print(f\"Test Accuracy: {test_accuracy:.2f}\" )"
      ],
      "metadata": {
        "colab": {
          "base_uri": "https://localhost:8080/"
        },
        "id": "jyw8BARwoAbI",
        "outputId": "5e4122e4-bba2-453d-f99b-5553dbd17adc"
      },
      "execution_count": 62,
      "outputs": [
        {
          "output_type": "stream",
          "name": "stdout",
          "text": [
            "Test Accuracy: 0.91\n"
          ]
        }
      ]
    },
    {
      "cell_type": "code",
      "source": [
        "diff = train_accuracy - test_accuracy\n",
        "print(f\"Difference: {diff:.2f}\")"
      ],
      "metadata": {
        "colab": {
          "base_uri": "https://localhost:8080/"
        },
        "id": "XCTW3H2noOID",
        "outputId": "1f0f2ae0-1f40-4b77-94b7-77ddc5654aca"
      },
      "execution_count": 63,
      "outputs": [
        {
          "output_type": "stream",
          "name": "stdout",
          "text": [
            "Difference: 0.08\n"
          ]
        }
      ]
    },
    {
      "cell_type": "code",
      "source": [
        "print(\"Sample predictions for y_test:\", y_pred[:5])\n",
        "print(\"Actual y_test values:\", y_test[:5])"
      ],
      "metadata": {
        "colab": {
          "base_uri": "https://localhost:8080/"
        },
        "id": "JVWR15X8ofrF",
        "outputId": "857cf394-64e5-4c56-a1b3-84cf52439f1d"
      },
      "execution_count": 64,
      "outputs": [
        {
          "output_type": "stream",
          "name": "stdout",
          "text": [
            "Sample predictions for y_test: ['uk government and devolution' 'education' 'health and social care'\n",
            " 'education' 'economy, labour and welfare']\n",
            "Actual y_test values: ['uk government and devolution' 'education' 'uk government and devolution'\n",
            " 'education' 'economy, labour and welfare']\n"
          ]
        }
      ]
    },
    {
      "cell_type": "markdown",
      "source": [
        "#**Misclassification Analysis**"
      ],
      "metadata": {
        "id": "1Ttm7nHrtWmk"
      }
    },
    {
      "cell_type": "code",
      "source": [
        "from sklearn.metrics import confusion_matrix as cm\n",
        "conf_matrix = cm(y_test, y_pred) # Use the alias to call the function\n",
        "class_counts = np.sum(conf_matrix, axis=1)\n",
        "misclassification_rates = {}\n",
        "for i, class_name in enumerate(best_model.classes_):\n",
        "    total = class_counts[i]\n",
        "    misclassified = total - conf_matrix[i, i]\n",
        "    if total > 0:\n",
        "        misclassification_rate = misclassified / total\n",
        "        misclassification_rates[class_name] = misclassification_rate\n",
        "        print(f\"Misclassification rate for '{class_name}': {misclassification_rate:.2f}\")"
      ],
      "metadata": {
        "colab": {
          "base_uri": "https://localhost:8080/"
        },
        "id": "ED66u_C1b0c5",
        "outputId": "29fe4f4f-80b8-4b15-dfec-5b53c26d2922"
      },
      "execution_count": 67,
      "outputs": [
        {
          "output_type": "stream",
          "name": "stdout",
          "text": [
            "Misclassification rate for 'culture, sport and media': 0.10\n",
            "Misclassification rate for 'economy, labour and welfare': 0.12\n",
            "Misclassification rate for 'education': 0.09\n",
            "Misclassification rate for 'environment and animal welfare': 0.04\n",
            "Misclassification rate for 'health and social care': 0.10\n",
            "Misclassification rate for 'london': 0.35\n",
            "Misclassification rate for 'uk government and devolution': 0.11\n"
          ]
        }
      ]
    },
    {
      "cell_type": "code",
      "source": [
        "threshold = 0.13\n",
        "classes_below_threshold = [cls for cls, rate in misclassification_rates.items() if rate <= threshold]\n",
        "print(f\"\\nClasses with misclassification rate ≤ {threshold}: {len(classes_below_threshold)}\")\n",
        "print(\"Classes:\", classes_below_threshold)"
      ],
      "metadata": {
        "colab": {
          "base_uri": "https://localhost:8080/"
        },
        "id": "cHER868Rkdp6",
        "outputId": "b54b91b8-8dbf-48ce-f0c1-38337495f19d"
      },
      "execution_count": 68,
      "outputs": [
        {
          "output_type": "stream",
          "name": "stdout",
          "text": [
            "\n",
            "Classes with misclassification rate ≤ 0.13: 6\n",
            "Classes: ['culture, sport and media', 'economy, labour and welfare', 'education', 'environment and animal welfare', 'health and social care', 'uk government and devolution']\n"
          ]
        }
      ]
    },
    {
      "cell_type": "markdown",
      "source": [
        "#**Classification Report**"
      ],
      "metadata": {
        "id": "diBY1HlTtboy"
      }
    },
    {
      "cell_type": "code",
      "source": [
        "class_report = classification_report(y_test, y_pred, output_dict=True)\n",
        "class_report_df = pd.DataFrame(class_report).transpose()\n",
        "print(class_report_df)"
      ],
      "metadata": {
        "colab": {
          "base_uri": "https://localhost:8080/"
        },
        "id": "6IUhTXMGX4-5",
        "outputId": "11b25506-3d01-4091-a7b6-2c2746ef7f8d"
      },
      "execution_count": 69,
      "outputs": [
        {
          "output_type": "stream",
          "name": "stdout",
          "text": [
            "                                precision    recall  f1-score      support\n",
            "culture, sport and media         0.920792  0.898551  0.909535   207.000000\n",
            "economy, labour and welfare      0.881857  0.878151  0.880000   238.000000\n",
            "education                        0.906504  0.913934  0.910204   244.000000\n",
            "environment and animal welfare   0.917172  0.957806  0.937049   474.000000\n",
            "health and social care           0.912240  0.897727  0.904926   440.000000\n",
            "london                           1.000000  0.647059  0.785714    17.000000\n",
            "uk government and devolution     0.912752  0.888889  0.900662   153.000000\n",
            "accuracy                         0.910321  0.910321  0.910321     0.910321\n",
            "macro avg                        0.921617  0.868874  0.889727  1773.000000\n",
            "weighted avg                     0.910575  0.910321  0.909921  1773.000000\n"
          ]
        }
      ]
    },
    {
      "cell_type": "markdown",
      "source": [
        "#**Specific Class Error Rate**"
      ],
      "metadata": {
        "id": "y4L8OaR9tlOF"
      }
    },
    {
      "cell_type": "code",
      "source": [
        "class_report = classification_report(y_test, y_pred, output_dict=True)\n",
        "uk_gov_precision = class_report['uk government and devolution']['precision']\n",
        "uk_gov_error_rate = 1 - uk_gov_precision\n",
        "print(f\"\\nError rate for 'uk government and devolution' predictions: {uk_gov_error_rate:.4f}\")\n",
        "if uk_gov_error_rate < 0.09:\n",
        "    print(\"Meets the <9% error rate requirement.\")\n",
        "else:\n",
        "    print(\"Does not meet the <9% error rate requirement.\")"
      ],
      "metadata": {
        "colab": {
          "base_uri": "https://localhost:8080/"
        },
        "id": "DYSZoeUJkgHH",
        "outputId": "067c8abf-14cc-42b9-ad68-2d6f04c81ad1"
      },
      "execution_count": 70,
      "outputs": [
        {
          "output_type": "stream",
          "name": "stdout",
          "text": [
            "\n",
            "Error rate for 'uk government and devolution' predictions: 0.0872\n",
            "Meets the <9% error rate requirement.\n"
          ]
        }
      ]
    },
    {
      "cell_type": "markdown",
      "source": [
        "#**Final Summary**"
      ],
      "metadata": {
        "id": "tvHIR_Qbto2w"
      }
    },
    {
      "cell_type": "code",
      "source": [
        "overfitting = diff > 0.1\n",
        "good_classes = classes_below_threshold\n",
        "target_class = 'uk government and devolution'\n",
        "condition_4 = uk_gov_error_rate < 0.09\n",
        "print(\"\\nSummary of Conditions:\")\n",
        "print(f\"1. Test Accuracy >= 86%: {'Yes' if test_accuracy >= 0.86 else 'No'}\")\n",
        "print(f\"2. No overfitting: {'Yes' if not overfitting else 'No'}\")\n",
        "print(f\"3. At least 5 classes with <= 13% misclassification: {'Yes' if len(good_classes) >= 5 else 'No'}\")\n",
        "print(f\"4. Error rate for '{target_class}' < 9%: {'Yes' if condition_4 else 'No'}\")"
      ],
      "metadata": {
        "colab": {
          "base_uri": "https://localhost:8080/"
        },
        "id": "RZcfwE7laveA",
        "outputId": "7b9bcc10-3068-46c7-b2d7-46df3ef7d124"
      },
      "execution_count": 71,
      "outputs": [
        {
          "output_type": "stream",
          "name": "stdout",
          "text": [
            "\n",
            "Summary of Conditions:\n",
            "1. Test Accuracy >= 86%: Yes\n",
            "2. No overfitting: Yes\n",
            "3. At least 5 classes with <= 13% misclassification: Yes\n",
            "4. Error rate for 'uk government and devolution' < 9%: Yes\n"
          ]
        }
      ]
    },
    {
      "cell_type": "code",
      "source": [],
      "metadata": {
        "id": "I8IMyLS4t0Ai"
      },
      "execution_count": null,
      "outputs": []
    }
  ]
}
